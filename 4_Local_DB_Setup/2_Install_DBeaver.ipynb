{
 "cells": [
  {
   "cell_type": "markdown",
   "id": "87096bae",
   "metadata": {},
   "source": [
    "<a target=\"_blank\" href=\"https://colab.research.google.com/github/lukebarousse/Int_SQL_Data_Analytics_Course/blob/main/4_Local_DB_Setup/2_Install_DBeaver.ipynb\">\n",
    "  <img src=\"https://colab.research.google.com/assets/colab-badge.svg\" alt=\"Open In Colab\"/>\n",
    "</a>"
   ]
  },
  {
   "cell_type": "markdown",
   "metadata": {},
   "source": [
    "# Install DBeaver"
   ]
  },
  {
   "cell_type": "markdown",
   "metadata": {},
   "source": [
    "## Where will we be running queries?\n",
    "\n",
    "Now we'll be running a PostgreSQL database locally using [DBeaver (Community Version)](https://dbeaver.io/).\n",
    "\n",
    "### Why DBeaver?\n",
    "\n",
    "- Popular database editor used by many data analysts.\n",
    "- Connect to a variety of databases \n",
    "- Let's you connect to multiple databases easily (example: great for instances where you may have a development, staging and production environments for your data) \n",
    "- More functionality and options to edit databases than pgAdmin."
   ]
  },
  {
   "cell_type": "markdown",
   "metadata": {},
   "source": [
    "## Installing Dbeaver\n",
    "\n",
    "1. Download DBeaver Community [here](https://dbeaver.io/download/) for your operating system.\n",
    "2. Install to your device\n",
    "    - Windows: Run installer and go with default options.\n",
    "    - MacOS: Move the `DBeaver` application to your Applications folder.\n",
    "3. Open the application\n",
    "4. Download the sample database and select the option to share or not share your data."
   ]
  },
  {
   "cell_type": "markdown",
   "metadata": {},
   "source": [
    "## DBeaver Overview\n",
    "\n",
    "<img src=\"../Resources/images/dbeaver_overview.png\" alt=\"DBeaver Overview\" style=\"width: 80%; height: auto;\">\n",
    "\n",
    "1. **Database Navigator** - The main view to work with the structure and content of databases\n",
    "2. **Project Explorer** - Displays detailed contents of the currently active project\n",
    "3. **Database Editor** - Lets you explore and edit things like tables, views and schemas"
   ]
  },
  {
   "cell_type": "markdown",
   "metadata": {},
   "source": [
    "### Data Editor\n",
    "\n",
    "This is the main screen we'll be interacting with.\n",
    "\n",
    "<img src=\"../Resources/images/dbeaver_data_editor.png\" alt=\"DBeaver Data Editor\" style=\"width: 80%; height: auto;\">\n",
    "\n",
    "1. **Views** - Windows within the workspace that provide presentations and ways to navigate the information (e.g. the `Album`, `Artist`, and `Customer`  tables are 3 seperate windows).\n",
    "2. **Tabs** - provides access to specific editors:\n",
    "    1. Properties - For all objects, View the properties of the table like the column names and row count.\n",
    "    2. Data - Shows for tables and views, view the data\n",
    "    3. Diagrams - Shows for tables and schemas, displays ERD (Entity-Relationship Diagrams)\n",
    "3. **Fitler field** - Filter the data (same as the `WHERE` clause)\n",
    "4. **Left Side Bar** - View the data in different ways: grid version the data (default), plain text view, spatial view, chart view and record view.\n",
    "5. **Bottom toolbar** - Various additional tools like refreshing the database, adding new rows, and calculating the total row count.\n",
    "6. **Panels** - Additional space in the data editor where you can manipulate data (helpful if you work with long text data or JSON fields), it also does some basic calculations \n"
   ]
  },
  {
   "cell_type": "markdown",
   "metadata": {},
   "source": [
    "## Connecting To Our Database\n",
    "\n",
    "1. Select the 🔌 icon: \n",
    "\n",
    "    <img src=\"../Resources/images/dbeaver_connect_step_1.png\" alt=\"Connect Step 1\" style=\"width: 60%; height: auto;\"> \n",
    "\n",
    "2. Select the `PostgreSQL` option:\n",
    "\n",
    "    <img src=\"../Resources/images/dbeaver_connect_step_2.png\" alt=\"Connect Step 2\" style=\"width: 50%; height: auto;\"> \n",
    "\n",
    "3. In the connection settings input:\n",
    "    - Database: `contoso_100k` \n",
    "    - Password: `password` (default unless you gave it a different password)\n",
    "    - Everything else should be the default settings\n",
    "    - Click `Finish`\n",
    "\n",
    "    <img src=\"../Resources/images/dbeaver_connect_step_3.png\" alt=\"Connect Step 3\" style=\"width: 60%; height: auto;\"> \n",
    "\n",
    "4. Click on the new `contoso_100k` dataset. If it prompts you to download the driver files then download them.\n",
    "\n",
    "    <img src=\"../Resources/images/dbeaver_connect_step_4.png\" alt=\"Connect Step 4\" style=\"width: 50%; height: auto;\"> \n",
    "\n",
    "5. To view any table you have to go through the path: `contoso_100k -> Databases -> contoso_100k -> Schemas -> public -> Tables` \n",
    "\n",
    "    <img src=\"../Resources/images/dbeaver_contoso_tables.png\" alt=\"View Contoso Tables\" style=\"width: 45%; height: auto;\"> \n",
    "\n",
    "\n"
   ]
  }
 ],
 "metadata": {
  "kernelspec": {
   "display_name": "sql_course",
   "language": "python",
   "name": "python3"
  },
  "language_info": {
   "name": "python",
   "version": "3.11.10"
  }
 },
 "nbformat": 4,
 "nbformat_minor": 2
}
