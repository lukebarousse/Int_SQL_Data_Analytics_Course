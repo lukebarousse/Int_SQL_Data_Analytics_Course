{
 "cells": [
  {
   "cell_type": "markdown",
   "id": "427523bf",
   "metadata": {},
   "source": [
    "<a target=\"_blank\" href=\"https://colab.research.google.com/github/lukebarousse/Int_SQL_Data_Analytics_Course/blob/main/6_Data_Cleaning/1_Handling_Nulls.ipynb\">\n",
    "  <img src=\"https://colab.research.google.com/assets/colab-badge.svg\" alt=\"Open In Colab\"/>\n",
    "</a>"
   ]
  },
  {
   "cell_type": "markdown",
   "metadata": {},
   "source": [
    "# Handling Nulls"
   ]
  },
  {
   "cell_type": "markdown",
   "metadata": {},
   "source": [
    "## Overview"
   ]
  },
  {
   "cell_type": "markdown",
   "metadata": {},
   "source": [
    "### 🥅 Analysis Goals\n",
    "\n",
    "Understand customer-level revenue, cohort classification, and order behavior to assess customer value and purchasing patterns.  \n",
    "\n",
    "- **Clean Up Customer Names:** Standardize customer names by replacing null values with 'Unknown' to ensure data consistency and prevent missing values from impacting analysis.  \n",
    "- **Clean Customer’s Net Revenue:** Calculate total net revenue for each customer and join it with customer data to understand individual spending behavior and revenue contribution.  \n",
    "- **Cohort Customer Value:** Determine each customer’s acquisition cohort, total revenue, number of orders, and average order value to analyze customer lifetime value and purchasing trends."
   ]
  },
  {
   "cell_type": "markdown",
   "metadata": {},
   "source": [
    "### 📘 Concepts Covered\n",
    "\n",
    "- `COALESCE`\n",
    "- `NULLIF`"
   ]
  },
  {
   "cell_type": "markdown",
   "metadata": {},
   "source": [
    "---\n",
    "## COALESCE"
   ]
  },
  {
   "cell_type": "markdown",
   "metadata": {},
   "source": [
    "### 📝 Notes\n",
    "\n",
    "**`COALESCE()`**\n",
    "\n",
    "- **COALESCE**: Returns the first non-null value from a list of expressions.\n",
    "\n",
    "- Syntax:\n",
    "\n",
    "  ```sql\n",
    "  SELECT COALESCE(expression1, expression2, ..., default_value);\n",
    "  ```\n",
    "\n",
    "- Used to replace `NULL` values with a default. Common in reporting and data cleaning, such as filling missing values with a placeholder.\n",
    "\n",
    "### 💻 Final Result\n",
    "\n",
    "- Standardizes customer names by replacing null values with 'Unknown' to ensure consistency and avoid missing data issues in analysis.\n",
    "- Calculates each customer's total net revenue and joins it with customer data to understand spending behavior at an individual level."
   ]
  },
  {
   "cell_type": "markdown",
   "metadata": {},
   "source": [
    "#### Clean Customer Names\n",
    "\n",
    "**`COALESCE`**\n",
    "\n",
    "1. Use `COALESCE` on customer's givenname and surname. \n",
    "    - Selects `customerkey` to keep customer identification.  \n",
    "    - Uses `COALESCE(givenname, 'Unknown')` to replace `NULL` values in `givenname`.  \n",
    "    - Uses `COALESCE(surname, 'Unknown')` to replace `NULL` values in `surname`."
   ]
  },
  {
   "cell_type": "code",
   "execution_count": null,
   "metadata": {
    "vscode": {
     "languageId": "sql"
    }
   },
   "outputs": [],
   "source": [
    "SELECT\n",
    "    customerkey,\n",
    "    COALESCE(givenname, 'Unknown') AS cleaned_givenname,\n",
    "    COALESCE(surname, 'Unknown') AS cleaned_surname\n",
    "FROM customer;"
   ]
  },
  {
   "cell_type": "markdown",
   "metadata": {},
   "source": [
    "<img src=\"../Resources/query_results/6_handling_nulls_1.png\" alt=\"Query Results 1\" style=\"width: 60%; height: auto;\">"
   ]
  },
  {
   "cell_type": "markdown",
   "metadata": {},
   "source": [
    "#### Cleaned Customer's Net Revenue\n",
    "\n",
    "**`COALESCE`**\n",
    "\n",
    "1. Write in a query that gets the total net revenue for each customer. \n",
    "   - Selects `customerkey` to group revenue calculations by customer.  \n",
    "   - Calculates `net_revenue` using `SUM(quantity * netprice * exchangerate)`.  \n",
    "   - Uses `GROUP BY customerkey` to aggregate revenue per customer.  "
   ]
  },
  {
   "cell_type": "code",
   "execution_count": null,
   "metadata": {
    "vscode": {
     "languageId": "sql"
    }
   },
   "outputs": [],
   "source": [
    "    SELECT\n",
    "        customerkey,\n",
    "        SUM(quantity * netprice * exchangerate) AS net_revenue\n",
    "    FROM sales\n",
    "\tGROUP BY\n",
    "\t\tcustomerkey"
   ]
  },
  {
   "cell_type": "markdown",
   "metadata": {},
   "source": [
    "<img src=\"../Resources/query_results/6_handling_nulls_4.png\" alt=\"Query Results 1\" style=\"width: 50%; height: auto;\">"
   ]
  },
  {
   "cell_type": "markdown",
   "metadata": {},
   "source": [
    "2. Put the query into a CTE (`sales_data`), then `LEFT JOIN` this CTE onto the customer table to return every customer's cleaned name and their net revenue. \n",
    "   - Defines `sales_data` as a CTE that calculates `net_revenue` per customer.  \n",
    "   - Performs a `LEFT JOIN` on `customer` to retain all customers, even those without sales.  \n",
    "   - Uses `COALESCE(c.givenname, 'Unknown')` and `COALESCE(c.surname, 'Unknown')` to replace missing names.  \n",
    "   - Uses `COALESCE(s.net_revenue, 0)` to ensure customers without sales show `0` revenue instead of `NULL`."
   ]
  },
  {
   "cell_type": "code",
   "execution_count": null,
   "metadata": {
    "vscode": {
     "languageId": "sql"
    }
   },
   "outputs": [],
   "source": [
    "WITH sales_data AS (\n",
    "        SELECT\n",
    "            customerkey,\n",
    "            SUM(quantity * netprice * exchangerate) AS net_revenue\n",
    "        FROM sales\n",
    "        GROUP BY\n",
    "            customerkey\n",
    ")\n",
    "\n",
    "SELECT\n",
    "    c.customerkey,\n",
    "    COALESCE(c.givenname, 'Unknown') AS cleaned_givenname,\n",
    "\tCOALESCE(c.surname, 'Unknown') AS cleaned_surname,\n",
    "    COALESCE(s.net_revenue, 0) AS net_revenue\n",
    "FROM customer c\n",
    "LEFT JOIN sales_data s ON c.customerkey = s.customerkey;"
   ]
  },
  {
   "cell_type": "markdown",
   "metadata": {},
   "source": [
    "<img src=\"../Resources/query_results/6_handling_nulls_5.png\" alt=\"Query Results 1\" style=\"width: 70%; height: auto;\">"
   ]
  },
  {
   "cell_type": "markdown",
   "metadata": {},
   "source": [
    "---\n",
    "## NULLIF"
   ]
  },
  {
   "cell_type": "markdown",
   "metadata": {},
   "source": [
    "### 📝 Notes\n",
    "\n",
    "**`NULLIF`**\n",
    "\n",
    "- **NULLIF**: Returns `NULL` if two expressions are equal; otherwise, returns the first expression.\n",
    "\n",
    "- Syntax:\n",
    "\n",
    "  ```sql\n",
    "  SELECT NULLIF(expression1, expression2);\n",
    "  ```\n",
    "\n",
    "- Helps prevent division by zero by returning `NULL` instead of causing an error.\n",
    "\n",
    "### 💻 Final Result\n",
    "\n",
    "- Determines each customer's acquisition cohort and calculates their total revenue, number of orders, and average order value to analyze customer lifetime value and purchasing patterns."
   ]
  },
  {
   "cell_type": "markdown",
   "metadata": {},
   "source": [
    "#### Cohort Customer Value\n",
    "\n",
    "**`NULLIF`**\n",
    "\n",
    "1. Get the total number of orders by customer in the `sales_data` CTE and use `COALESCE` on `num_orders` in the main query. \n",
    "   - Defines `sales_data` as a CTE that calculates `net_revenue` and `num_orders` per customer.  \n",
    "   - Uses `COUNT(orderkey)` to count the total number of orders for each customer.  \n",
    "   - Performs a `LEFT JOIN` on `customer` to retain all customers, even those without orders.  \n",
    "   - Uses `COALESCE(s.num_orders, 0)` to replace `NULL` values with `0` for customers without orders.  "
   ]
  },
  {
   "cell_type": "code",
   "execution_count": null,
   "metadata": {
    "vscode": {
     "languageId": "sql"
    }
   },
   "outputs": [],
   "source": [
    "WITH sales_data AS (\n",
    "        SELECT\n",
    "            customerkey,\n",
    "            SUM(quantity * netprice * exchangerate) AS net_revenue,\n",
    "            COUNT(orderkey) AS num_orders\n",
    "        FROM sales\n",
    "        GROUP BY\n",
    "            customerkey\n",
    ")\n",
    "\n",
    "SELECT\n",
    "    c.customerkey,\n",
    "    COALESCE(c.givenname, 'Unknown') AS cleaned_givenname,\n",
    "\tCOALESCE(c.surname, 'Unknown') AS cleaned_surname,\n",
    "    COALESCE(s.net_revenue, 0) AS net_revenue,\n",
    "    COALESCE(s.num_orders, 0) AS num_orders -- Added\n",
    "FROM customer c\n",
    "LEFT JOIN sales_data s ON c.customerkey = s.customerkey;"
   ]
  },
  {
   "cell_type": "markdown",
   "metadata": {},
   "source": [
    "<img src=\"../Resources/query_results/6_handling_nulls_6.png\" alt=\"Query Results 6\" style=\"width: 70%; height: auto;\">"
   ]
  },
  {
   "cell_type": "markdown",
   "metadata": {},
   "source": [
    "2. Return the average order value for each customer by calculating: `net_revenue / num_orders` and add `NULLIF` to `num_orders` to prevent division by zero.\n",
    "   - Reuses `sales_data` CTE to retrieve `net_revenue` and `num_orders` per customer.  \n",
    "   - Uses `COALESCE(s.num_orders, 0)` to display `0` for customers without orders.  \n",
    "   - Calculates `avg_order_value` using `s.net_revenue / NULLIF(s.num_orders, 0)`, ensuring division by zero is avoided by returning `NULL` when `num_orders = 0`.  "
   ]
  },
  {
   "cell_type": "code",
   "execution_count": null,
   "metadata": {
    "vscode": {
     "languageId": "sql"
    }
   },
   "outputs": [],
   "source": [
    "WITH sales_data AS (\n",
    "        SELECT\n",
    "            customerkey,\n",
    "            SUM(quantity * netprice * exchangerate) AS net_revenue,\n",
    "            COUNT(orderkey) AS num_orders\n",
    "        FROM sales\n",
    "        GROUP BY\n",
    "            customerkey\n",
    ")\n",
    "\n",
    "SELECT\n",
    "    c.customerkey,\n",
    "    COALESCE(c.givenname, 'Unknown') AS cleaned_givenname,\n",
    "\tCOALESCE(c.surname, 'Unknown') AS cleaned_surname,\n",
    "    COALESCE(s.net_revenue, 0) AS net_revenue,\n",
    "    COALESCE(s.num_orders, 0) AS total_orders,\n",
    "    s.net_revenue / NULLIF(s.num_orders, 0) AS avg_order_value  -- Added: Prevents division by zero\n",
    "FROM customer c\n",
    "LEFT JOIN sales_data s ON c.customerkey = s.customerkey;"
   ]
  },
  {
   "cell_type": "markdown",
   "metadata": {},
   "source": [
    "<img src=\"../Resources/query_results/6_handling_nulls_7.png\" alt=\"Query Results 7\" style=\"width: 70%; height: auto;\">"
   ]
  },
  {
   "cell_type": "markdown",
   "metadata": {},
   "source": [
    "3. In the `sales_data` find the cohort year by getting the year from the minimum `orderdate` and select `cohort_year` in the main query.\n",
    "   - Adds `EXTRACT(YEAR FROM MIN(orderdate)) AS cohort_year` to determine the first purchase year per customer.  \n",
    "   - Groups by `customerkey` to calculate `cohort_year`, `net_revenue`, and `num_orders`.  \n",
    "   - Performs a `LEFT JOIN` on `customer` to retain all customers.  \n",
    "   - Selects `cohort_year` in the main query to include each customer's first purchase year.  \n",
    "   - Uses `NULLIF(s.num_orders, 0)` in `avg_order_value` calculation to prevent division by zero."
   ]
  },
  {
   "cell_type": "code",
   "execution_count": null,
   "metadata": {
    "vscode": {
     "languageId": "sql"
    }
   },
   "outputs": [],
   "source": [
    "WITH sales_data AS (\n",
    "        SELECT\n",
    "            customerkey,\n",
    "            EXTRACT(YEAR FROM MIN(orderdate)) AS cohort_year, -- Extract cohort year\n",
    "            SUM(quantity * netprice * exchangerate) AS net_revenue,\n",
    "            COUNT(orderkey) AS num_orders\n",
    "        FROM sales\n",
    "        GROUP BY\n",
    "            customerkey\n",
    ")\n",
    "\n",
    "SELECT\n",
    "    c.customerkey,\n",
    "    c.cohort_year,\n",
    "    COALESCE(c.givenname, 'Unknown') AS cleaned_givenname,\n",
    "\tCOALESCE(c.surname, 'Unknown') AS cleaned_surname,\n",
    "    COALESCE(s.net_revenue, 0) AS net_revenue,\n",
    "    COALESCE(s.num_orders, 0) AS total_orders,\n",
    "    s.net_revenue / NULLIF(s.num_orders, 0) AS avg_order_value  -- Added: Prevents division by zero\n",
    "FROM customer c\n",
    "LEFT JOIN sales_data s ON c.customerkey = s.customerkey;"
   ]
  },
  {
   "cell_type": "markdown",
   "metadata": {},
   "source": [
    "<img src=\"../Resources/query_results/6_handling_nulls_8.png\" alt=\"Query Results 8\" style=\"width: 90%; height: auto;\">"
   ]
  }
 ],
 "metadata": {
  "language_info": {
   "name": "python"
  }
 },
 "nbformat": 4,
 "nbformat_minor": 2
}
