{
 "cells": [
  {
   "cell_type": "markdown",
   "id": "90ca0ada",
   "metadata": {},
   "source": [
    "<a target=\"_blank\" href=\"https://colab.research.google.com/github/lukebarousse/Int_SQL_Data_Analytics_Course/blob/main/6_Data_Cleaning/2_Strings.ipynb\">\n",
    "  <img src=\"https://colab.research.google.com/assets/colab-badge.svg\" alt=\"Open In Colab\"/>\n",
    "</a>"
   ]
  },
  {
   "cell_type": "markdown",
   "metadata": {},
   "source": [
    "# String Formatting"
   ]
  },
  {
   "cell_type": "markdown",
   "metadata": {},
   "source": [
    "## Overview"
   ]
  },
  {
   "cell_type": "markdown",
   "metadata": {},
   "source": [
    "### 🥅 Analysis Goals\n",
    "\n",
    "Standardize customer name formatting and analyze revenue trends to ensure data consistency, improve reporting accuracy, and gain insights into customer behavior.  \n",
    "\n",
    "- **Standardized Full Name & Revenue Analysis:** Concatenates first and last names for consistency and readability while calculating customer acquisition cohort, net revenue, and order frequency to assess customer value and purchasing trends.  \n",
    "\n",
    "- **Uppercase Name Formatting & Revenue Analysis:** Converts names to uppercase for uniformity in reporting and case-insensitive operations while ensuring revenue analysis maintains standardized uppercase names for consistent data processing.  \n",
    "\n",
    "- **Lowercase Name Formatting & Revenue Analysis:** Converts names to lowercase for datasets requiring a uniform format while analyzing revenue trends with consistently formatted names to improve data clarity.  \n",
    "\n",
    "- **Trimmed Name Formatting & Revenue Analysis:** Removes leading and trailing spaces to clean up inconsistencies in name fields while ensuring revenue calculations remain accurate, preventing discrepancies due to extra whitespace.  "
   ]
  },
  {
   "cell_type": "markdown",
   "metadata": {},
   "source": [
    "### 📘 Concepts Covered\n",
    "\n",
    "- `CONCAT`\n",
    "- `UPPER`\n",
    "- `LOWER`\n",
    "- `TRIM`"
   ]
  },
  {
   "cell_type": "markdown",
   "metadata": {},
   "source": [
    "---\n",
    "## CONCAT"
   ]
  },
  {
   "cell_type": "markdown",
   "metadata": {},
   "source": [
    "### 📝 Notes\n",
    "\n",
    "**`CONCAT`**\n",
    "\n",
    "- **CONCAT**: Combines two or more strings into a single string.\n",
    "\n",
    "- Syntax:\n",
    "\n",
    "  ```sql\n",
    "  SELECT CONCAT(string1, string2, ...);\n",
    "  ```\n",
    "\n",
    "- Automatically handles `NULL` values as empty strings, avoiding `NULL` results when concatenating.\n",
    "\n",
    "### 💻 Final Result\n",
    "\n",
    "- Standardizes customer names by concatenating first and last names for better readability and consistency across reports.  \n",
    "- Analyzes customer purchase behavior by calculating their cohort year, total net revenue, and order frequency to understand long-term value.  "
   ]
  },
  {
   "cell_type": "markdown",
   "metadata": {},
   "source": [
    "#### Standardized Customer Name\n",
    "\n",
    "**`CONCAT`**\n",
    "\n",
    "1. Use `CONCAT` to combine the customer's givenname and surname.\n",
    "    - Joins `givenname` and `surname` into a single string with a space in between for consistency.  \n",
    "    - Standardizes name formatting to improve readability and ensure uniform data representation.  "
   ]
  },
  {
   "cell_type": "code",
   "execution_count": null,
   "metadata": {
    "vscode": {
     "languageId": "sql"
    }
   },
   "outputs": [],
   "source": [
    "SELECT\n",
    "    customerkey,\n",
    "    CONCAT(givenname, ' ', surname) AS cleaned_name\n",
    "FROM customers;"
   ]
  },
  {
   "cell_type": "markdown",
   "metadata": {},
   "source": [
    "<img src=\"../Resources/query_results/6_string_formatting_1.png\" alt=\"Query Results 1\" style=\"width: 50%; height: auto;\">"
   ]
  },
  {
   "cell_type": "markdown",
   "metadata": {},
   "source": [
    "#### Customer Revenue And Cohort Analysis\n",
    "\n",
    "**`CONCAT`**\n",
    "\n",
    "1. Using the final query from `Handling_Nulls` clean up the customer name and combine the `givenname` and `surname`.\n",
    "    - Use a CTE (`sales_data`) to preprocess customer revenue metrics. \n",
    "        - Extracts each customer’s **cohort year** using `EXTRACT(YEAR FROM MIN(orderdate))`.  \n",
    "        - Aggregates total **net revenue** per customer using `SUM(quantity * netprice * exchangerate)`.  \n",
    "        - Counts the **number of orders** per customer using `COUNT(orderkey)`.  \n",
    "    - In the main query: \n",
    "        - Uses `CONCAT(c.givenname, ' ', c.surname)` to combine the first and last names.  \n",
    "        - Uses `COALESCE` to replace null revenue and order values with `0` to avoid missing data issues.  \n",
    "        - Computes average order value by dividing `net_revenue` by `num_orders`, handling division by zero with `NULLIF`.  \n"
   ]
  },
  {
   "cell_type": "code",
   "execution_count": null,
   "metadata": {
    "vscode": {
     "languageId": "sql"
    }
   },
   "outputs": [],
   "source": [
    "WITH sales_data AS (\n",
    "        SELECT\n",
    "            customerkey,\n",
    "            EXTRACT(YEAR FROM MIN(orderdate)) AS cohort_year, \n",
    "            SUM(quantity * netprice * exchangerate) AS net_revenue,\n",
    "            COUNT(orderkey) AS num_orders\n",
    "        FROM sales\n",
    "        GROUP BY\n",
    "            customerkey\n",
    ")\n",
    "\n",
    "SELECT\n",
    "    c.customerkey,\n",
    "    s.cohort_year,\n",
    "    CONCAT(c.givenname, ' ', c.surname) AS cleaned_name, -- Added\n",
    "    COALESCE(s.net_revenue, 0) AS net_revenue,\n",
    "    COALESCE(s.num_orders, 0) AS total_orders,\n",
    "    s.net_revenue / NULLIF(s.num_orders, 0) AS avg_order_value  \n",
    "FROM customer c\n",
    "LEFT JOIN sales_data s ON c.customerkey = s.customerkey;"
   ]
  },
  {
   "cell_type": "markdown",
   "metadata": {},
   "source": [
    "<img src=\"../Resources/query_results/6_string_formatting_2.png\" alt=\"Query Results 2\" style=\"width: 80%; height: auto;\">"
   ]
  },
  {
   "cell_type": "markdown",
   "metadata": {},
   "source": [
    "---\n",
    "## UPPER"
   ]
  },
  {
   "cell_type": "markdown",
   "metadata": {},
   "source": [
    "### 📝 Notes\n",
    "\n",
    "**`UPPER()`**\n",
    "\n",
    "- **UPPER**: Converts a string to uppercase.\n",
    "\n",
    "- Syntax:\n",
    "\n",
    "  ```sql\n",
    "  SELECT UPPER(string_column);\n",
    "  ```\n",
    "\n",
    "- Useful for standardizing text, such as converting names or codes to uppercase for comparison.\n",
    "\n",
    "### 💻 Final Result\n",
    "\n",
    "- Converts customer names to uppercase for uniformity when performing case-insensitive comparisons or standardizing display formats.  \n",
    "- Evaluates customer spending trends while ensuring name formatting is consistent in uppercase for standardization in reports.  "
   ]
  },
  {
   "cell_type": "markdown",
   "metadata": {},
   "source": [
    "#### Uppercase Name Formatting\n",
    "\n",
    "**`UPPER`**\n",
    "\n",
    "1. Using `UPPER` uppercase the `givenname`, `surnname` and the `full_name` (which was created using `CONCAT`).\n",
    "    - Applies `UPPER` to `givenname` and `surname` to ensure all characters are capitalized.  \n",
    "    - Creates a **fully uppercase** `full_name` by applying `UPPER` within `CONCAT`.  "
   ]
  },
  {
   "cell_type": "code",
   "execution_count": null,
   "metadata": {
    "vscode": {
     "languageId": "sql"
    }
   },
   "outputs": [],
   "source": [
    "SELECT\n",
    "    customerkey,\n",
    "    UPPER(givenname) AS uppercase_givenname,\n",
    "    UPPER(surname) AS uppercase_surname,\n",
    "    CONCAT(UPPER(givenname), ' ', UPPER(surname)) AS uppercase_full_name    \n",
    "FROM customers;"
   ]
  },
  {
   "cell_type": "markdown",
   "metadata": {},
   "source": [
    "<img src=\"../Resources/query_results/6_string_formatting_3.png\" alt=\"Query Results 3\" style=\"width: 80%; height: auto;\">"
   ]
  },
  {
   "cell_type": "markdown",
   "metadata": {},
   "source": [
    "#### Revenue Analysis With Uppercase Names\n",
    "\n",
    "**`UPPER`**\n",
    "\n",
    "1. Using query from `CONCAT` clean up the customer name and to make the combined customer name both upper case. \n",
    "    - Use a CTE (`sales_data`) to preprocess customer revenue metrics. \n",
    "        - Extracts each customer’s **cohort year** using `EXTRACT(YEAR FROM MIN(orderdate))`.  \n",
    "        - Aggregates total **net revenue** per customer using `SUM(quantity * netprice * exchangerate)`.  \n",
    "        - Counts the **number of orders** per customer using `COUNT(orderkey)`.  \n",
    "    - In the main query: \n",
    "        - Uses `CONCAT(UPPER(givenname), ' ', UPPER(surname))` to ensure name consistency across reports.   \n",
    "        - Uses `COALESCE` to replace null revenue and order values with `0` to avoid missing data issues.  \n",
    "        - Computes*average order value by dividing `net_revenue` by `num_orders`, handling division by zero with `NULLIF`.  "
   ]
  },
  {
   "cell_type": "code",
   "execution_count": null,
   "metadata": {
    "vscode": {
     "languageId": "sql"
    }
   },
   "outputs": [],
   "source": [
    "WITH sales_data AS (\n",
    "        SELECT\n",
    "            customerkey,\n",
    "            EXTRACT(YEAR FROM MIN(orderdate)) AS cohort_year, \n",
    "            SUM(quantity * netprice * exchangerate) AS net_revenue,\n",
    "            COUNT(orderkey) AS num_orders\n",
    "        FROM sales\n",
    "        GROUP BY\n",
    "            customerkey\n",
    ")\n",
    "\n",
    "SELECT\n",
    "    c.customerkey,\n",
    "    s.cohort_year,\n",
    "    CONCAT(UPPER(c.givenname), ' ', UPPER(c.surname)) AS cleaned_name, --Added\n",
    "    COALESCE(s.net_revenue, 0) AS net_revenue,\n",
    "    COALESCE(s.num_orders, 0) AS total_orders,\n",
    "    s.net_revenue / NULLIF(s.num_orders, 0) AS avg_order_value  \n",
    "FROM customer c\n",
    "LEFT JOIN sales_data s ON c.customerkey = s.customerkey;"
   ]
  },
  {
   "cell_type": "markdown",
   "metadata": {},
   "source": [
    "<img src=\"../Resources/query_results/6_string_formatting_4.png\" alt=\"Query Results 1\" style=\"width: 80%; height: auto;\">"
   ]
  },
  {
   "cell_type": "markdown",
   "metadata": {},
   "source": [
    "---\n",
    "## LOWER"
   ]
  },
  {
   "cell_type": "markdown",
   "metadata": {},
   "source": [
    "### 📝 Notes\n",
    "\n",
    "**`LOWER()`**\n",
    "\n",
    "- **LOWER**: Converts a string to lowercase.  \n",
    "- Syntax:  \n",
    "  ```sql\n",
    "  SELECT LOWER(string_column);\n",
    "  ```\n",
    "- Useful for standardizing text, such as making email addresses or usernames case-insensitive for comparisons.\n",
    "\n",
    "### 💻 Final Result\n",
    "\n",
    "- Converts customer names to lowercase to ensure consistency in case-sensitive operations or data exports requiring lowercase formatting.  \n",
    "- Assesses customer revenue while maintaining lowercase formatting for uniformity in datasets where lowercase naming is preferred.  "
   ]
  },
  {
   "cell_type": "markdown",
   "metadata": {},
   "source": [
    "#### Lowercase Name Formatting\n",
    "\n",
    "**`LOWER`**\n",
    "\n",
    "1. Using `LOWER` lowercase the `givenname`, `surnname` and the `full_name` (which was created using `CONCAT`).\n",
    "    - Applies `LOWER` to both `givenname` and `surname` to enforce lowercase formatting.  \n",
    "    - Concatenates `LOWER(givenname)` and `LOWER(surname)` into a fully lowercase `full_name`.  "
   ]
  },
  {
   "cell_type": "code",
   "execution_count": null,
   "metadata": {
    "vscode": {
     "languageId": "sql"
    }
   },
   "outputs": [],
   "source": [
    "SELECT\n",
    "    customerkey,\n",
    "    LOWER(givenname) AS lowercase_givenname,\n",
    "    LOWER(surname) AS lowercase_surname,\n",
    "    CONCAT(LOWER(givenname), ' ', LOWER(surname)) AS lowercase_full_name    \n",
    "FROM customer;"
   ]
  },
  {
   "cell_type": "markdown",
   "metadata": {},
   "source": [
    "<img src=\"../Resources/query_results/6_string_formatting_5.png\" alt=\"Query Results 5\" style=\"width: 80%; height: auto;\">"
   ]
  },
  {
   "cell_type": "markdown",
   "metadata": {},
   "source": [
    "#### Revenue Analysis With Lowercase Names\n",
    "\n",
    "**`LOWER`**\n",
    "\n",
    "1. Using query from `UPPER` clean up the customer name and to make the combined customer name both lower case. \n",
    "    - Use a CTE (`sales_data`) to preprocess customer revenue metrics. \n",
    "        - Extracts each customer’s **cohort year** using `EXTRACT(YEAR FROM MIN(orderdate))`.  \n",
    "        - Aggregates total **net revenue** per customer using `SUM(quantity * netprice * exchangerate)`.  \n",
    "        - Counts the **number of orders** per customer using `COUNT(orderkey)`.  \n",
    "    - In the main query: \n",
    "        - Uses `CONCAT(LOWER(givenname), ' ', LOWER(surname))` to maintain a fully lowercase name format.  \n",
    "        - Uses `COALESCE` to replace null revenue and order values with `0` to avoid missing data issues.  \n",
    "        - Computes*average order value by dividing `net_revenue` by `num_orders`, handling division by zero with `NULLIF`.  "
   ]
  },
  {
   "cell_type": "code",
   "execution_count": null,
   "metadata": {
    "vscode": {
     "languageId": "sql"
    }
   },
   "outputs": [],
   "source": [
    "WITH sales_data AS (\n",
    "        SELECT\n",
    "            customerkey,\n",
    "            EXTRACT(YEAR FROM MIN(orderdate)) AS cohort_year,\n",
    "            SUM(quantity * netprice * exchangerate) AS net_revenue,\n",
    "            COUNT(orderkey) AS num_orders\n",
    "        FROM sales\n",
    "        GROUP BY\n",
    "            customerkey\n",
    ")\n",
    "\n",
    "SELECT\n",
    "    c.customerkey,\n",
    "    s.cohort_year,\n",
    "    CONCAT(LOWER(c.givenname), ' ', LOWER(c.surname)) AS cleaned_name, -- Added\n",
    "    COALESCE(s.net_revenue, 0) AS net_revenue,\n",
    "    COALESCE(s.num_orders, 0) AS total_orders,\n",
    "    s.net_revenue / NULLIF(s.num_orders, 0) AS avg_order_value\n",
    "FROM customer c\n",
    "LEFT JOIN sales_data s ON c.customerkey = s.customerkey;"
   ]
  },
  {
   "cell_type": "markdown",
   "metadata": {},
   "source": [
    "<img src=\"../Resources/query_results/6_string_formatting_6.png\" alt=\"Query Results 6\" style=\"width: 80%; height: auto;\">"
   ]
  },
  {
   "cell_type": "markdown",
   "metadata": {},
   "source": [
    "---\n",
    "## TRIM"
   ]
  },
  {
   "cell_type": "markdown",
   "metadata": {},
   "source": [
    "### 📝 Notes\n",
    "\n",
    "**`TRIM()`**\n",
    "\n",
    "- **TRIM**: Removes leading and/or trailing spaces (or specified characters) from a string.  \n",
    "- Syntax:  \n",
    "  ```sql\n",
    "  SELECT TRIM([BOTH | LEADING | TRAILING] 'characters' FROM string_column);\n",
    "  ```\n",
    "- Default behavior removes spaces from both ends of a string.  \n",
    "- Useful for cleaning up user input, formatting text, or ensuring consistent comparisons.  \n",
    "\n",
    "### 💻 Final Result\n",
    "\n",
    "- Removes leading and trailing spaces from names to clean up inconsistencies caused by extra whitespace in data entry.  \n",
    "- Ensures accurate revenue analysis while cleaning name fields by trimming extra spaces to prevent discrepancies in joins and reporting.  "
   ]
  },
  {
   "cell_type": "markdown",
   "metadata": {},
   "source": [
    "#### Trimmed Name Formatting\n",
    "\n",
    "**`TRIM`**\n",
    "\n",
    "1. Using the final query from `Handling_Nulls` clean up the customer name and combine the `givenname` and `surname`.\n",
    "    - Uses `TRIM(givenname)` and `TRIM(surname)` to remove unnecessary leading and trailing spaces.  \n",
    "    - Prevents inconsistencies caused by extra spaces in user-entered data.  \n",
    "    - Creates a `full_name` by concatenating trimmed names to ensure clean formatting.  "
   ]
  },
  {
   "cell_type": "code",
   "execution_count": null,
   "metadata": {
    "vscode": {
     "languageId": "sql"
    }
   },
   "outputs": [],
   "source": [
    "SELECT\n",
    "    customerkey,\n",
    "    TRIM(givenname) AS trimmed_givenname,\n",
    "    TRIM(surname) AS trimmed_surname,\n",
    "    CONCAT(TRIM(givenname), ' ', TRIM(surname)) AS trimmed_full_name  \n",
    "FROM customer;"
   ]
  },
  {
   "cell_type": "markdown",
   "metadata": {},
   "source": [
    "<img src=\"../Resources/query_results/6_string_formatting_7.png\" alt=\"Query Results 6\" style=\"width: 80%; height: auto;\">"
   ]
  },
  {
   "cell_type": "markdown",
   "metadata": {},
   "source": [
    "#### Revenue Analysis With Trimmed Names\n",
    "\n",
    "**`TRIM`**\n",
    "\n",
    "1. Using query from `LOWER` clean up the customer name and to remove any extra spaces. \n",
    "    - Use a CTE (`sales_data`) to preprocess customer revenue metrics. \n",
    "        - Extracts each customer’s **cohort year** using `EXTRACT(YEAR FROM MIN(orderdate))`.  \n",
    "        - Aggregates total **net revenue** per customer using `SUM(quantity * netprice * exchangerate)`.  \n",
    "        - Counts the **number of orders** per customer using `COUNT(orderkey)`.  \n",
    "    - In the main query: \n",
    "        - Uses `TRIM` within `CONCAT` to eliminate excess whitespace while maintaining a standardized name format.   \n",
    "        - Uses `COALESCE` to replace null revenue and order values with `0` to avoid missing data issues.  \n",
    "        - Computes*average order value by dividing `net_revenue` by `num_orders`, handling division by zero with `NULLIF`.  "
   ]
  },
  {
   "cell_type": "code",
   "execution_count": null,
   "metadata": {
    "vscode": {
     "languageId": "sql"
    }
   },
   "outputs": [],
   "source": [
    "WITH sales_data AS (\n",
    "        SELECT\n",
    "            customerkey,\n",
    "            EXTRACT(YEAR FROM MIN(orderdate)) AS cohort_year,\n",
    "            SUM(quantity * netprice * exchangerate) AS net_revenue,\n",
    "            COUNT(orderkey) AS num_orders\n",
    "        FROM sales\n",
    "        GROUP BY\n",
    "            customerkey\n",
    ")\n",
    "\n",
    "SELECT\n",
    "    c.customerkey,\n",
    "    s.cohort_year,\n",
    "    CONCAT(TRIM(c.givenname), ' ', TRIM(c.surname)) AS cleaned_name, -- Added\n",
    "    COALESCE(s.net_revenue, 0) AS net_revenue,\n",
    "    COALESCE(s.num_orders, 0) AS total_orders,\n",
    "    s.net_revenue / NULLIF(s.num_orders, 0) AS avg_order_value\n",
    "FROM customer c\n",
    "LEFT JOIN sales_data s ON c.customerkey = s.customerkey;"
   ]
  },
  {
   "cell_type": "markdown",
   "metadata": {},
   "source": [
    "<img src=\"../Resources/query_results/6_string_formatting_8.png\" alt=\"Query Results 6\" style=\"width: 80%; height: auto;\">"
   ]
  }
 ],
 "metadata": {
  "language_info": {
   "name": "python"
  }
 },
 "nbformat": 4,
 "nbformat_minor": 2
}
