{
 "cells": [
  {
   "cell_type": "markdown",
   "id": "90ca0ada",
   "metadata": {},
   "source": [
    "<a target=\"_blank\" href=\"https://colab.research.google.com/github/lukebarousse/Int_SQL_Data_Analytics_Course/blob/main/6_Data_Cleaning/2_Strings.ipynb\">\n",
    "  <img src=\"https://colab.research.google.com/assets/colab-badge.svg\" alt=\"Open In Colab\"/>\n",
    "</a>"
   ]
  },
  {
   "cell_type": "markdown",
   "metadata": {},
   "source": [
    "# String Formatting"
   ]
  },
  {
   "cell_type": "markdown",
   "metadata": {},
   "source": [
    "## Overview"
   ]
  },
  {
   "cell_type": "markdown",
   "metadata": {},
   "source": [
    "### 🥅 Analysis Goals\n",
    "\n",
    "- What we’re going to use for this dataset to do X e.g. Use the following in order to explore a dataset on experience and salaries\n",
    "    - Major topic 1\n",
    "    - Major topic 2\n",
    "    - Major topic 3\n",
    "- The end goal of this is e.g. Identify which jobs meet our expectations of years experience and total salary."
   ]
  },
  {
   "cell_type": "markdown",
   "metadata": {},
   "source": [
    "### 📘 Concepts Covered\n",
    "\n",
    "General concepts we’re going to cover\n",
    "\n",
    "- Concept 1\n",
    "- Concept 2\n",
    "- Concept 3"
   ]
  },
  {
   "cell_type": "markdown",
   "metadata": {},
   "source": [
    "---\n",
    "## CONCAT"
   ]
  },
  {
   "cell_type": "markdown",
   "metadata": {},
   "source": [
    "### 📝 Notes\n",
    "\n",
    "**`CONCAT`**\n",
    "\n",
    "- **CONCAT**: Combines two or more strings into a single string.\n",
    "\n",
    "- Syntax:\n",
    "\n",
    "  ```sql\n",
    "  SELECT CONCAT(string1, string2, ...);\n",
    "  ```\n",
    "\n",
    "- Automatically handles `NULL` values as empty strings, avoiding `NULL` results when concatenating.\n",
    "\n",
    "### 💻 Final Result\n",
    "\n",
    "- Describe what the final result should be e.g. return the retention by X cohort."
   ]
  },
  {
   "cell_type": "markdown",
   "metadata": {},
   "source": [
    "#### Problem Description\n",
    "\n",
    "**`FUNCTION` / Concept Covered**\n",
    "\n",
    "1. Go into specific step / what we’re going to do. E.g. Use the `=` operator to set a new column to be equal to Experience"
   ]
  },
  {
   "cell_type": "code",
   "execution_count": null,
   "metadata": {
    "vscode": {
     "languageId": "sql"
    }
   },
   "outputs": [],
   "source": [
    "SELECT\n",
    "    customerkey,\n",
    "    CONCAT(givenname, ' ', surname) AS cleaned_name\n",
    "FROM customers;"
   ]
  },
  {
   "cell_type": "markdown",
   "metadata": {},
   "source": [
    "<img src=\"../Resources/query_results/6_string_formatting_1.png\" alt=\"Query Results 1\" style=\"width: 50%; height: auto;\">"
   ]
  },
  {
   "cell_type": "markdown",
   "metadata": {},
   "source": [
    "#### Problem Description\n",
    "\n",
    "**`FUNCTION` / Concept Covered**\n",
    "\n",
    "1. Using the final query from `Handling_Nulls` clean up the customer name and combine the `givenname` and `surname`."
   ]
  },
  {
   "cell_type": "code",
   "execution_count": null,
   "metadata": {
    "vscode": {
     "languageId": "sql"
    }
   },
   "outputs": [],
   "source": [
    "WITH sales_data AS (\n",
    "        SELECT\n",
    "            customerkey,\n",
    "            EXTRACT(YEAR FROM MIN(orderdate)) AS cohort_year, \n",
    "            SUM(quantity * netprice * exchangerate) AS net_revenue,\n",
    "            COUNT(orderkey) AS num_orders\n",
    "        FROM sales\n",
    "        GROUP BY\n",
    "            customerkey\n",
    ")\n",
    "\n",
    "SELECT\n",
    "    c.customerkey,\n",
    "    s.cohort_year,\n",
    "    CONCAT(c.givenname, ' ', c.surname) AS cleaned_name, -- Added\n",
    "    COALESCE(s.net_revenue, 0) AS net_revenue,\n",
    "    COALESCE(s.num_orders, 0) AS total_orders,\n",
    "    s.net_revenue / NULLIF(s.num_orders, 0) AS avg_order_value  \n",
    "FROM customer c\n",
    "LEFT JOIN sales_data s ON c.customerkey = s.customerkey;"
   ]
  },
  {
   "cell_type": "markdown",
   "metadata": {},
   "source": [
    "<img src=\"../Resources/query_results/6_string_formatting_2.png\" alt=\"Query Results 2\" style=\"width: 80%; height: auto;\">"
   ]
  },
  {
   "cell_type": "markdown",
   "metadata": {},
   "source": [
    "---\n",
    "## UPPER"
   ]
  },
  {
   "cell_type": "markdown",
   "metadata": {},
   "source": [
    "### 📝 Notes\n",
    "\n",
    "**`UPPER()`**\n",
    "\n",
    "- **UPPER**: Converts a string to uppercase.\n",
    "\n",
    "- Syntax:\n",
    "\n",
    "  ```sql\n",
    "  SELECT UPPER(string_column);\n",
    "  ```\n",
    "\n",
    "- Useful for standardizing text, such as converting names or codes to uppercase for comparison.\n",
    "\n",
    "### 💻 Final Result\n",
    "\n",
    "- Describe what the final result should be e.g. return the retention by X cohort."
   ]
  },
  {
   "cell_type": "markdown",
   "metadata": {},
   "source": [
    "#### Problem Description\n",
    "\n",
    "**`FUNCTION` / Concept Covered**\n",
    "\n",
    "1. Using `UPPER` uppercase the `givenname`, `surnname` and the `full_name` (which was created using `CONCAT`)."
   ]
  },
  {
   "cell_type": "code",
   "execution_count": null,
   "metadata": {
    "vscode": {
     "languageId": "sql"
    }
   },
   "outputs": [],
   "source": [
    "SELECT\n",
    "    customerkey,\n",
    "    UPPER(givenname) AS uppercase_givenname,\n",
    "    UPPER(surname) AS uppercase_surname,\n",
    "    CONCAT(UPPER(givenname), ' ', UPPER(surname)) AS uppercase_full_name    \n",
    "FROM customers;"
   ]
  },
  {
   "cell_type": "markdown",
   "metadata": {},
   "source": [
    "<img src=\"../Resources/query_results/6_string_formatting_3.png\" alt=\"Query Results 3\" style=\"width: 80%; height: auto;\">"
   ]
  },
  {
   "cell_type": "markdown",
   "metadata": {},
   "source": [
    "#### Problem Description\n",
    "\n",
    "**`FUNCTION` / Concept Covered**\n",
    "\n",
    "1. Using query from `CONCAT` clean up the customer name and to make the combined customer name both upper case. "
   ]
  },
  {
   "cell_type": "code",
   "execution_count": null,
   "metadata": {
    "vscode": {
     "languageId": "sql"
    }
   },
   "outputs": [],
   "source": [
    "WITH sales_data AS (\n",
    "        SELECT\n",
    "            customerkey,\n",
    "            EXTRACT(YEAR FROM MIN(orderdate)) AS cohort_year, \n",
    "            SUM(quantity * netprice * exchangerate) AS net_revenue,\n",
    "            COUNT(orderkey) AS num_orders\n",
    "        FROM sales\n",
    "        GROUP BY\n",
    "            customerkey\n",
    ")\n",
    "\n",
    "SELECT\n",
    "    c.customerkey,\n",
    "    s.cohort_year,\n",
    "    CONCAT(UPPER(c.givenname), ' ', UPPER(c.surname)) AS cleaned_name, --Added\n",
    "    COALESCE(s.net_revenue, 0) AS net_revenue,\n",
    "    COALESCE(s.num_orders, 0) AS total_orders,\n",
    "    s.net_revenue / NULLIF(s.num_orders, 0) AS avg_order_value  \n",
    "FROM customer c\n",
    "LEFT JOIN sales_data s ON c.customerkey = s.customerkey;"
   ]
  },
  {
   "cell_type": "markdown",
   "metadata": {},
   "source": [
    "<img src=\"../Resources/query_results/6_string_formatting_4.png\" alt=\"Query Results 1\" style=\"width: 80%; height: auto;\">"
   ]
  },
  {
   "cell_type": "markdown",
   "metadata": {},
   "source": [
    "---\n",
    "## LOWER"
   ]
  },
  {
   "cell_type": "markdown",
   "metadata": {},
   "source": [
    "### 📝 Notes\n",
    "\n",
    "**`LOWER()`**\n",
    "\n",
    "- **LOWER**: Converts a string to lowercase.  \n",
    "- Syntax:  \n",
    "  ```sql\n",
    "  SELECT LOWER(string_column);\n",
    "  ```\n",
    "- Useful for standardizing text, such as making email addresses or usernames case-insensitive for comparisons.\n",
    "\n",
    "### 💻 Final Result\n",
    "\n",
    "- Describe what the final result should be e.g. return the retention by X cohort.\n",
    "\n"
   ]
  },
  {
   "cell_type": "markdown",
   "metadata": {},
   "source": [
    "#### Problem Description\n",
    "\n",
    "**`FUNCTION` / Concept Covered**\n",
    "\n",
    "1. Using `LOWER` lowercase the `givenname`, `surnname` and the `full_name` (which was created using `CONCAT`)."
   ]
  },
  {
   "cell_type": "code",
   "execution_count": null,
   "metadata": {
    "vscode": {
     "languageId": "sql"
    }
   },
   "outputs": [],
   "source": [
    "SELECT\n",
    "    customerkey,\n",
    "    LOWER(givenname) AS lowercase_givenname,\n",
    "    LOWER(surname) AS lowercase_surname,\n",
    "    CONCAT(LOWER(givenname), ' ', LOWER(surname)) AS lowercase_full_name    \n",
    "FROM customer;"
   ]
  },
  {
   "cell_type": "markdown",
   "metadata": {},
   "source": [
    "<img src=\"../Resources/query_results/6_string_formatting_5.png\" alt=\"Query Results 5\" style=\"width: 80%; height: auto;\">"
   ]
  },
  {
   "cell_type": "markdown",
   "metadata": {},
   "source": [
    "#### Problem Description\n",
    "\n",
    "**`FUNCTION` / Concept Covered**\n",
    "\n",
    "1. Using query from `UPPER` clean up the customer name and to make the combined customer name both lower case. "
   ]
  },
  {
   "cell_type": "code",
   "execution_count": null,
   "metadata": {
    "vscode": {
     "languageId": "sql"
    }
   },
   "outputs": [],
   "source": [
    "WITH sales_data AS (\n",
    "        SELECT\n",
    "            customerkey,\n",
    "            EXTRACT(YEAR FROM MIN(orderdate)) AS cohort_year,\n",
    "            SUM(quantity * netprice * exchangerate) AS net_revenue,\n",
    "            COUNT(orderkey) AS num_orders\n",
    "        FROM sales\n",
    "        GROUP BY\n",
    "            customerkey\n",
    ")\n",
    "\n",
    "SELECT\n",
    "    c.customerkey,\n",
    "    s.cohort_year,\n",
    "    CONCAT(LOWER(c.givenname), ' ', LOWER(c.surname)) AS cleaned_name, -- Added\n",
    "    COALESCE(s.net_revenue, 0) AS net_revenue,\n",
    "    COALESCE(s.num_orders, 0) AS total_orders,\n",
    "    s.net_revenue / NULLIF(s.num_orders, 0) AS avg_order_value\n",
    "FROM customer c\n",
    "LEFT JOIN sales_data s ON c.customerkey = s.customerkey;"
   ]
  },
  {
   "cell_type": "markdown",
   "metadata": {},
   "source": [
    "<img src=\"../Resources/query_results/6_string_formatting_6.png\" alt=\"Query Results 6\" style=\"width: 80%; height: auto;\">"
   ]
  },
  {
   "cell_type": "markdown",
   "metadata": {},
   "source": [
    "---\n",
    "## TRIM"
   ]
  },
  {
   "cell_type": "markdown",
   "metadata": {},
   "source": [
    "### 📝 Notes\n",
    "\n",
    "**`TRIM()`**\n",
    "\n",
    "- **TRIM**: Removes leading and/or trailing spaces (or specified characters) from a string.  \n",
    "- Syntax:  \n",
    "  ```sql\n",
    "  SELECT TRIM([BOTH | LEADING | TRAILING] 'characters' FROM string_column);\n",
    "  ```\n",
    "- Default behavior removes spaces from both ends of a string.  \n",
    "- Useful for cleaning up user input, formatting text, or ensuring consistent comparisons.  \n",
    "\n",
    "### 💻 Final Result\n",
    "\n",
    "- Describe what the final result should be e.g. return the retention by X cohort."
   ]
  },
  {
   "cell_type": "markdown",
   "metadata": {},
   "source": [
    "#### Problem Description\n",
    "\n",
    "**`FUNCTION` / Concept Covered**\n",
    "\n",
    "1. Go into specific step / what we’re going to do. E.g. Use the `=` operator to set a new column to be equal to Experience"
   ]
  },
  {
   "cell_type": "code",
   "execution_count": null,
   "metadata": {
    "vscode": {
     "languageId": "sql"
    }
   },
   "outputs": [],
   "source": [
    "SELECT\n",
    "    customerkey,\n",
    "    TRIM(givenname) AS trimmed_givenname,\n",
    "    TRIM(surname) AS trimmed_surname,\n",
    "    CONCAT(TRIM(givenname), ' ', TRIM(surname)) AS trimmed_full_name  \n",
    "FROM customer;"
   ]
  }
 ],
 "metadata": {
  "language_info": {
   "name": "python"
  }
 },
 "nbformat": 4,
 "nbformat_minor": 2
}
