{
 "cells": [
  {
   "cell_type": "markdown",
   "id": "90ca0ada",
   "metadata": {},
   "source": [
    "<a target=\"_blank\" href=\"https://colab.research.google.com/github/lukebarousse/Int_SQL_Data_Analytics_Course/blob/main/6_Data_Cleaning/2_Strings.ipynb\">\n",
    "  <img src=\"https://colab.research.google.com/assets/colab-badge.svg\" alt=\"Open In Colab\"/>\n",
    "</a>"
   ]
  },
  {
   "cell_type": "markdown",
   "metadata": {},
   "source": [
    "# Strings"
   ]
  },
  {
   "cell_type": "markdown",
   "metadata": {},
   "source": [
    "## Overview"
   ]
  },
  {
   "cell_type": "markdown",
   "metadata": {},
   "source": [
    "### 🥅 Analysis Goals\n",
    "\n",
    "- What we’re going to use for this dataset to do X e.g. Use the following in order to explore a dataset on experience and salaries\n",
    "    - Major topic 1\n",
    "    - Major topic 2\n",
    "    - Major topic 3\n",
    "- The end goal of this is e.g. Identify which jobs meet our expectations of years experience and total salary."
   ]
  },
  {
   "cell_type": "markdown",
   "metadata": {},
   "source": [
    "### 📘 Concepts Covered\n",
    "\n",
    "General concepts we’re going to cover\n",
    "\n",
    "- Concept 1\n",
    "- Concept 2\n",
    "- Concept 3"
   ]
  },
  {
   "cell_type": "markdown",
   "metadata": {},
   "source": [
    "---\n",
    "## CONCAT"
   ]
  },
  {
   "cell_type": "markdown",
   "metadata": {},
   "source": [
    "### 📝 Notes\n",
    "\n",
    "`CONCAT()`\n",
    "\n",
    "- **CONCAT**: Combines two or more strings into a single string.\n",
    "\n",
    "- Syntax:\n",
    "\n",
    "  ```sql\n",
    "  SELECT CONCAT(string1, string2, ...);\n",
    "  ```\n",
    "\n",
    "- Automatically handles `NULL` values as empty strings, avoiding `NULL` results when concatenating.\n",
    "\n",
    "### 💻 Final Result\n",
    "\n",
    "- Describe what the final result should be e.g. return the retention by X cohort."
   ]
  },
  {
   "cell_type": "markdown",
   "metadata": {},
   "source": [
    "#### Problem Description\n",
    "\n",
    "**`FUNCTION` / Concept Covered**\n",
    "\n",
    "1. Go into specific step / what we’re going to do. E.g. Use the `=` operator to set a new column to be equal to Experience"
   ]
  }
 ],
 "metadata": {
  "language_info": {
   "name": "python"
  }
 },
 "nbformat": 4,
 "nbformat_minor": 2
}
