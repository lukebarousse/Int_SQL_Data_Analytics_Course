{
 "cells": [
  {
   "cell_type": "markdown",
   "id": "90ca0ada",
   "metadata": {},
   "source": [
    "<a target=\"_blank\" href=\"https://colab.research.google.com/github/lukebarousse/Int_SQL_Data_Analytics_Course/blob/main/6_Data_Cleaning/2_Strings.ipynb\">\n",
    "  <img src=\"https://colab.research.google.com/assets/colab-badge.svg\" alt=\"Open In Colab\"/>\n",
    "</a>"
   ]
  },
  {
   "cell_type": "markdown",
   "metadata": {},
   "source": [
    "# String Manipulation"
   ]
  },
  {
   "cell_type": "markdown",
   "metadata": {},
   "source": [
    "## Overview"
   ]
  },
  {
   "cell_type": "markdown",
   "metadata": {},
   "source": [
    "### 🥅 Analysis Goals\n",
    "\n",
    "- What we’re going to use for this dataset to do X e.g. Use the following in order to explore a dataset on experience and salaries\n",
    "    - Major topic 1\n",
    "    - Major topic 2\n",
    "    - Major topic 3\n",
    "- The end goal of this is e.g. Identify which jobs meet our expectations of years experience and total salary."
   ]
  },
  {
   "cell_type": "markdown",
   "metadata": {},
   "source": [
    "### 📘 Concepts Covered\n",
    "\n",
    "General concepts we’re going to cover\n",
    "\n",
    "- Concept 1\n",
    "- Concept 2\n",
    "- Concept 3"
   ]
  },
  {
   "cell_type": "markdown",
   "metadata": {},
   "source": [
    "---\n",
    "## TRIM"
   ]
  },
  {
   "cell_type": "markdown",
   "metadata": {},
   "source": [
    "### 📝 Notes\n",
    "\n",
    "**`TRIM()`**\n",
    "\n",
    "- **TRIM**: Removes leading and/or trailing spaces (or specified characters) from a string.  \n",
    "- Syntax:  \n",
    "  ```sql\n",
    "  SELECT TRIM([BOTH | LEADING | TRAILING] 'characters' FROM string_column);\n",
    "  ```\n",
    "- Default behavior removes spaces from both ends of a string.  \n",
    "- Useful for cleaning up user input, formatting text, or ensuring consistent comparisons.  \n",
    "\n",
    "### 💻 Final Result\n",
    "\n",
    "- Describe what the final result should be e.g. return the retention by X cohort."
   ]
  },
  {
   "cell_type": "markdown",
   "metadata": {},
   "source": [
    "#### Problem Description\n",
    "\n",
    "**`FUNCTION` / Concept Covered**\n",
    "\n",
    "1. Go into specific step / what we’re going to do. E.g. Use the `=` operator to set a new column to be equal to Experience"
   ]
  },
  {
   "cell_type": "code",
   "execution_count": null,
   "metadata": {
    "vscode": {
     "languageId": "sql"
    }
   },
   "outputs": [],
   "source": [
    "SELECT\n",
    "    customerkey,\n",
    "    TRIM(c.givenname) AS trimmed_givenname,\n",
    "    TRIM(c.surname) AS trimmed_surname,\n",
    "    CONCAT(TRIM(c.givenname), ' ', TRIM(c.surname)) AS trimmed_full_name  \n",
    "FROM customers;"
   ]
  },
  {
   "cell_type": "code",
   "execution_count": null,
   "metadata": {
    "vscode": {
     "languageId": "sql"
    }
   },
   "outputs": [],
   "source": [
    "WITH sales_data AS (\n",
    "        SELECT\n",
    "            customerkey,\n",
    "            EXTRACT(YEAR FROM MIN(orderdate)) AS cohort_year,\n",
    "            SUM(quantity * netprice * exchangerate) AS net_revenue,\n",
    "            COUNT(orderkey) AS num_orders\n",
    "        FROM sales\n",
    "        GROUP BY\n",
    "            customerkey\n",
    ")\n",
    "\n",
    "SELECT\n",
    "    c.customerkey,\n",
    "    s.cohort_year,\n",
    "    CONCAT(TRIM(c.givenname), ' ', TRIM(c.surname)) AS cleaned_name, -- Added\n",
    "    COALESCE(s.net_revenue, 0) AS net_revenue,\n",
    "    COALESCE(s.num_orders, 0) AS total_orders,\n",
    "    s.net_revenue / NULLIF(s.num_orders, 0) AS avg_order_value\n",
    "FROM customer c\n",
    "LEFT JOIN sales_data s ON c.customerkey = s.customerkey;"
   ]
  },
  {
   "cell_type": "markdown",
   "metadata": {},
   "source": [
    "---\n",
    "## REPLACE"
   ]
  },
  {
   "cell_type": "markdown",
   "metadata": {},
   "source": [
    "### 📝 Notes\n",
    "\n",
    "**`REPLACE()`**\n",
    "\n",
    "- **REPLACE**: Replaces all occurrences of a substring within a string with another substring.\n",
    "\n",
    "- Syntax:\n",
    "\n",
    "  ```sql\n",
    "  SELECT REPLACE(string_column, old_substring, new_substring);\n",
    "  ```\n",
    "\n",
    "- Useful for cleaning up text, standardizing formats, or removing unwanted characters.\n",
    "\n",
    "### 💻 Final Result\n",
    "\n",
    "- Describe what the final result should be e.g. return the retention by X cohort."
   ]
  },
  {
   "cell_type": "markdown",
   "metadata": {},
   "source": [
    "#### Problem Description\n",
    "\n",
    "**`FUNCTION` / Concept Covered**\n",
    "\n",
    "1. Go into specific step / what we’re going to do. E.g. Use the `=` operator to set a new column to be equal to Experience"
   ]
  },
  {
   "cell_type": "code",
   "execution_count": null,
   "metadata": {
    "vscode": {
     "languageId": "sql"
    }
   },
   "outputs": [],
   "source": [
    "SELECT\n",
    "    customerkey,\n",
    "    REPLACE(country, 'USA', 'United States') AS standardized_country\n",
    "FROM customers;"
   ]
  },
  {
   "cell_type": "code",
   "execution_count": null,
   "metadata": {
    "vscode": {
     "languageId": "sql"
    }
   },
   "outputs": [],
   "source": [
    "WITH sales_data AS (\n",
    "        SELECT\n",
    "            customerkey,\n",
    "            EXTRACT(YEAR FROM MIN(orderdate)) AS cohort_year,\n",
    "            SUM(quantity * netprice * exchangerate) AS net_revenue,\n",
    "            COUNT(orderkey) AS num_orders\n",
    "        FROM sales\n",
    "        GROUP BY\n",
    "            customerkey\n",
    ")\n",
    "\n",
    "SELECT\n",
    "    c.customerkey,\n",
    "    s.cohort_year,\n",
    "    CONCAT(LOWER(c.givenname), ' ', LOWER(c.surname)) AS cleaned_name, -- Added\n",
    "    COALESCE(s.net_revenue, 0) AS net_revenue,\n",
    "    COALESCE(s.num_orders, 0) AS total_orders,\n",
    "    s.net_revenue / NULLIF(s.num_orders, 0) AS avg_order_value\n",
    "FROM customer c\n",
    "LEFT JOIN sales_data s ON c.customerkey = s.customerkey;"
   ]
  },
  {
   "cell_type": "markdown",
   "metadata": {},
   "source": [
    "---\n",
    "## SPLIT_PART"
   ]
  },
  {
   "cell_type": "markdown",
   "metadata": {},
   "source": [
    "### 📝 Notes\n",
    "\n",
    "**`SPLIT_PART()`**\n",
    "\n",
    "- **SPLIT_PART**: Extracts a specific section of a string based on a delimiter.\n",
    "\n",
    "- Syntax:\n",
    "\n",
    "  ```sql\n",
    "  SELECT SPLIT_PART(string_column, delimiter, field_number);\n",
    "  ```\n",
    "\n",
    "- The `field_number` is 1-based, meaning `1` retrieves the first part, `2` retrieves the second, and so on.\n",
    "\n",
    "- Useful for breaking up structured text, such as parsing CSV-like fields or extracting subdomains from URLs.\n",
    "\n",
    "### 💻 Final Result\n",
    "\n",
    "- Describe what the final result should be e.g. return the retention by X cohort."
   ]
  },
  {
   "cell_type": "markdown",
   "metadata": {},
   "source": [
    "#### Problem Description\n",
    "\n",
    "**`FUNCTION` / Concept Covered**\n",
    "\n",
    "1. Go into specific step / what we’re going to do. E.g. Use the `=` operator to set a new column to be equal to Experience"
   ]
  },
  {
   "cell_type": "code",
   "execution_count": null,
   "metadata": {
    "vscode": {
     "languageId": "sql"
    }
   },
   "outputs": [],
   "source": [
    "SELECT \n",
    "    customerkey,\n",
    "    vehicle,\n",
    "    SPLIT_PART(vehicle, ' ', 1) AS vehicle_brand\n",
    "FROM customers;"
   ]
  },
  {
   "cell_type": "code",
   "execution_count": null,
   "metadata": {
    "vscode": {
     "languageId": "sql"
    }
   },
   "outputs": [],
   "source": [
    "WITH sales_data AS (\n",
    "        SELECT\n",
    "            customerkey,\n",
    "            EXTRACT(YEAR FROM MIN(orderdate)) AS cohort_year,\n",
    "            SUM(quantity * netprice * exchangerate) AS net_revenue,\n",
    "            COUNT(orderkey) AS num_orders\n",
    "        FROM sales\n",
    "        GROUP BY\n",
    "            customerkey\n",
    ")\n",
    "\n",
    "SELECT\n",
    "    c.customerkey,\n",
    "    s.cohort_year,\n",
    "    SPLIT_PART(vehicle, ' ', 1) AS vehicle_brand, -- Added\n",
    "    COALESCE(s.net_revenue, 0) AS net_revenue,\n",
    "    COALESCE(s.num_orders, 0) AS total_orders,\n",
    "    s.net_revenue / NULLIF(s.num_orders, 0) AS avg_order_value\n",
    "FROM customer c\n",
    "LEFT JOIN sales_data s ON c.customerkey = s.customerkey;"
   ]
  }
 ],
 "metadata": {
  "language_info": {
   "name": "python"
  }
 },
 "nbformat": 4,
 "nbformat_minor": 2
}
