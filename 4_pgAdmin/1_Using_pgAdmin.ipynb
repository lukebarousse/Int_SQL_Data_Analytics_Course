{
 "cells": [
  {
   "cell_type": "markdown",
   "id": "c2e6a592",
   "metadata": {},
   "source": [
    "<a target=\"_blank\" href=\"https://colab.research.google.com/github/lukebarousse/Int_SQL_Data_Analytics_Course/blob/main/0_Intro/1_Intro.ipynb\">\n",
    "  <img src=\"https://colab.research.google.com/assets/colab-badge.svg\" alt=\"Open In Colab\"/>\n",
    "</a>"
   ]
  },
  {
   "cell_type": "markdown",
   "metadata": {},
   "source": [
    "# Using pgAdmin"
   ]
  },
  {
   "cell_type": "markdown",
   "metadata": {},
   "source": [
    "### How will we be running queries?\n",
    "\n",
    "Now we'll be shifting from Jupyter Notebooks to running a PostgreSQL database locally on your computer.\n",
    "\n",
    "### **🐘 Database Editor**\n",
    "\n",
    "- **Database Integrated Development Environments (IDEs)**: Many databases offer their  tools for query execution, such as SQL Server Management Studio for SQL Server or pgAdmin for PostgreSQL\n",
    "\n",
    "## 🤓 How do I use it as a Data Analyst?\n",
    "\n",
    "*The majority of the data I work with in the real world is located in a database (or has to be put into a database)*\n",
    "\n",
    "1. **Data Manipulation**: Essential for managing large datasets where Excel falls short; Both my corporate job and that with MrBeast used SQL extensively\n",
    "2. **Efficient Analysis**: Enables quick access and organization of data, crucial for analyzing everything from social media metrics to transactional data\n",
    "3. **App Integration:** Because SQL is the language to connect to databases, it is needed to connect to popular data analytic apps: Power BI, Tableau, and even MS Excel"
   ]
  },
  {
   "cell_type": "markdown",
   "metadata": {},
   "source": [
    "## Installation Steps\n",
    "\n",
    "### PostgreSQL Download\n",
    "\n",
    "#### Why Installing?\n",
    "\n",
    "*We will be running the database locally on your computer; This is a great way to getting familiar with using databases and if you make any mistakes you can easily start over*\n",
    "\n",
    "#### How to Download?\n",
    "\n",
    "[PostgreSQL: Downloads](https://www.postgresql.org/download/)\n",
    "\n",
    "1. Download Installer - https://www.enterprisedb.com/downloads/postgres-postgresql-downloads\n",
    "    1. Choose version 16.1 (the one we use in this course)\n",
    "        1. NOTE: We can’t guarantee everything we do here will work if you don’t download that version\n",
    "    2. Download the correct installer for your machine (Mac, Windows, Linux)\n",
    "2. Go to your downloads file and open the downloaded installer\n",
    "3. Go through the setup steps (keep default settings)\n",
    "    1. Create a password (write it down somewhere) \n",
    "    2. Select port number for the server: 5432 (usedefault)\n",
    "    3. Select Locale: [Default Locale]\n",
    "4. Finish Installing\n",
    "5. Continue Installation (leave as default)\n",
    "    1. Host: localhost\n",
    "    2. User Name: postgres\n",
    "    3. Password: _________ (the one you decided before)\n",
    "    4. Port 5432\n",
    "6. Finish Installation\n",
    "\n",
    "### pgAdmin Download\n",
    "\n",
    "[pgAdmin Installed](https://www.pgadmin.org/download/)\n",
    "\n",
    "1. Use pgAdmin app to start up PostgreSQL\n",
    "    1. The database needs to be running to query it\n",
    "    2. Anytime you restart your computer, you need to start back up PostgreSQL\n",
    "2. Inside of pgAdmin select the database to start it up\n",
    "    1. Click your database located under `PostgreSQL 16 / Databases` \n",
    "    2.  It will turn gold once it is running\n",
    "\n",
    "## Dataset Download\n",
    "\n",
    "#### Steps:\n",
    "1. Download the [Contoso database](https://github.com/lukebarousse/Int_SQL_Data_Analytics_Course/releases).\n",
    "2. Open pgAdmin 4.\n",
    "3. In Object Explorer, connect to your PostgreSQL server.\n",
    "4. Right-click on \"Databases\" > \"Create\" > \"Database...\".  \n",
    "\n",
    "<img src=\"../Resources/images/pgAdmin_CreateDatabase.gif\" alt=\"Create Database\" width=\"25%\" height=\"auto\">\n",
    "\n",
    "5. Enter `contoso_100k`for \"Database\" and click \"Save\".\n",
    "6. In Object Explorer, right-click on the `contoso_100k` database > \"PSQL Tool\".\n",
    "7. In the PSQL Tools Window, enter `\\i [path to contoso_100k.sql]` and press enter.\n",
    "> ```\n",
    "> \\i '/Users/lukebarousse/Desktop/contoso_100k.sql'\n",
    "> ```\n",
    "8. In the Query Tool, set default password for the `postgres` user to `password`.  \n",
    " **⚠ If you have sensitive information in your server DO NOT do this step ⚠️**\n",
    "> ```\n",
    "> ALTER USER postgres WITH PASSWORD 'password';\n",
    "> ```"
   ]
  },
  {
   "cell_type": "markdown",
   "metadata": {},
   "source": [
    "## pgAdmin Overview\n",
    "\n",
    "<img src=\"../Resources/images/pgAdmin_overview.png\" alt=\"Left Join\" style=\"width: 80%; height: auto;\">"
   ]
  },
  {
   "cell_type": "markdown",
   "metadata": {},
   "source": [
    "1. Database overview\n",
    "    1. Here we see the `contoso_100k` database with our 6 tables.\n",
    "2. SQL editor\n",
    "    1. Write your queries here to execute against the database (F5 shortcut).\n",
    "3. SQL results\n",
    "    1. The results of the query are displayed in a table format."
   ]
  }
 ],
 "metadata": {
  "kernelspec": {
   "display_name": "sql_course",
   "language": "python",
   "name": "python3"
  },
  "language_info": {
   "codemirror_mode": {
    "name": "ipython",
    "version": 3
   },
   "file_extension": ".py",
   "mimetype": "text/x-python",
   "name": "python",
   "nbconvert_exporter": "python",
   "pygments_lexer": "ipython3",
   "version": "3.11.10"
  }
 },
 "nbformat": 4,
 "nbformat_minor": 2
}
