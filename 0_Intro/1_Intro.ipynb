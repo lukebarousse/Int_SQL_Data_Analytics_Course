{
 "cells": [
  {
   "cell_type": "markdown",
   "id": "7fb727ff",
   "metadata": {},
   "source": [
    "<a target=\"_blank\" href=\"https://colab.research.google.com/github/lukebarousse/Int_SQL_Data_Analytics_Course/blob/main/0_Intro/1_Intro.ipynb\">\n",
    "  <img src=\"https://colab.research.google.com/assets/colab-badge.svg\" alt=\"Open In Colab\"/>\n",
    "</a>"
   ]
  },
  {
   "cell_type": "markdown",
   "metadata": {},
   "source": [
    "# Introduction"
   ]
  },
  {
   "cell_type": "markdown",
   "metadata": {},
   "source": [
    "## What You Need to Know\n",
    "\n",
    "### SQL\n",
    "\n",
    "Below is what you should already know in SQL before taking this course (the functions below use PostgreSQL syntax):\n",
    "1. **Basic** - `SELECT`, `FROM`, `WHERE`\n",
    "2. **Comparisons** - `=`, `<>`, `>`, `<`, `≥`, `≤`\n",
    "3. **Operations** - `+`, ``, ``, `/`\n",
    "4. **Alias** - `AS`\n",
    "5. **Wildcards** - `LIKE`, `%`, `_`\n",
    "6. **Aggregation** - `SUM`, `COUNT`, `AVG`, `MIN`, `MAX`, `GROUP BY`, `HAVING`\n",
    "7. **NULL values** - `IS NULL`, `IS NOT NULL`\n",
    "8. **JOINs** - `LEFT JOIN`, `RIGHT JOIN`, `INNER JOIN`, `OUTER JOIN`\n",
    "9. **Order of Execution** - Order query executes\n",
    "10. **Data Types** - integer, text, numeric, boolean, date, timestamp\n",
    "11. **Manipulate** - `CREATE`, `INSERT`, `ALTER`, `DROP` *(optional)*\n",
    "12. **Database Load** - Create database & load tables using `CREATE TABLE` ,`ALTER TABLE` *(optional)* \n",
    "13. **DATEs** - `::DATE`, `AT TIME ZONE`, `EXTRACT`\n",
    "14. **Case Expression** - `CASE WHEN`\n",
    "15. **Subqueries & CTEs** - `WITH`\n",
    "16. **UNIONs** - `UNION`, `UNION ALL`\n",
    "\n",
    "If you need a refresher check out our other SQL course: [Beginner SQL](https://youtu.be/7mz73uXD9DA?si=cpI_1cUkJ7dgEdMT).\n",
    "\n",
    "### Math\n",
    "\n",
    "Understanding of these mathematical concepts concepts: \n",
    "1. **Basic Arithmetic** - `+`, `-`, `*`, `/`\n",
    "2. **Order of Operations** - PEMDAS (Parentheses, Exponents, Multiplication/Division, Addition/Subtraction)\n",
    "3. **Basic Algebra** - Variables in expressions, e.g., `SUM(value * multiplier)`\n",
    "4. **Basic Statistics** - `AVG`, `COUNT`, Frequency analysis\n",
    "5. **Percentages and Ratios** - Calculating proportions, e.g., `(part / total) * 100`\n",
    "6. **Working with Ranges** - Numeric and date ranges, e.g., `BETWEEN 1 AND 100`\n",
    "7. **Date/Time Concepts** - Days, weeks, months, years, date differences, `DATE_DIFF`, `INTERVAL`\n",
    "8. **Logical Thinking** - Boolean logic: `AND`, `OR`, `NOT`\n",
    "9. **Conditional Logic** - `CASE WHEN` as SQL's equivalent to **if/then statements**\n",
    "10. **Optional** - Weighted averages, cumulative sums (e.g., `SUM(value) OVER()`)\n"
   ]
  },
  {
   "cell_type": "markdown",
   "metadata": {},
   "source": [
    "## Analysis\n",
    "\n",
    "- Include overview\n",
    "- Background\n",
    "- Final project (results)"
   ]
  }
 ],
 "metadata": {
  "kernelspec": {
   "display_name": "sql_course",
   "language": "python",
   "name": "python3"
  },
  "language_info": {
   "codemirror_mode": {
    "name": "ipython",
    "version": 3
   },
   "file_extension": ".py",
   "mimetype": "text/x-python",
   "name": "python",
   "nbconvert_exporter": "python",
   "pygments_lexer": "ipython3",
   "version": "3.11.10"
  }
 },
 "nbformat": 4,
 "nbformat_minor": 2
}
