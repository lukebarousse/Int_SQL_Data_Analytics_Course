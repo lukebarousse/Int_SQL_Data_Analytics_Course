{
 "cells": [
  {
   "cell_type": "markdown",
   "id": "6b2376ec",
   "metadata": {},
   "source": [
    "<a target=\"_blank\" href=\"https://colab.research.google.com/github/lukebarousse/Int_SQL_Data_Analytics_Course/blob/main/3_Windows_Functions/5_Frame_Clause.ipynb\">\n",
    "  <img src=\"https://colab.research.google.com/assets/colab-badge.svg\" alt=\"Open In Colab\"/>\n",
    "</a>"
   ]
  },
  {
   "cell_type": "markdown",
   "metadata": {},
   "source": [
    "# Frame Clause"
   ]
  },
  {
   "cell_type": "markdown",
   "metadata": {},
   "source": [
    "## Overview"
   ]
  },
  {
   "cell_type": "markdown",
   "metadata": {},
   "source": [
    "### 🥅 Analysis Goals\n",
    "\n",
    "- What we’re going to use for this dataset to do X e.g. Use the following in order to explore a dataset on experience and salaries\n",
    "    - Major topic 1\n",
    "    - Major topic 2\n",
    "    - Major topic 3\n",
    "- The end goal of this is e.g. Identify which jobs meet our expectations of years experience and total salary."
   ]
  },
  {
   "cell_type": "markdown",
   "metadata": {},
   "source": [
    "### 📘 Concepts Covered\n",
    "\n",
    "General concepts we’re going to cover\n",
    "\n",
    "- `N PRECEDING` \n",
    "- `N FOLLOWING` \n",
    "- `UNBOUNDED PRECEDING` \n",
    "- `UNBOUNDED FOLLOWING` \n",
    "- `CURRENT ROW`"
   ]
  },
  {
   "cell_type": "markdown",
   "metadata": {},
   "source": [
    "## PRECEEDING / FOLLOWING"
   ]
  },
  {
   "cell_type": "markdown",
   "metadata": {},
   "source": [
    "### 📝 Notes\n",
    "\n",
    "- `N PRECEDING`: Refers to a range that includes the current row and the N rows before it.\n",
    "    - `SUM(column) OVER (ORDER BY order_expression ROWS 3 PRECEDING)`\n",
    "- `N FOLLOWING`: Refers to a range that includes the current row and the N rows after it.\n",
    "    - `SUM(column) OVER (ORDER BY order_expression ROWS 3 FOLLOWING)`\n",
    "\n",
    "```sql\n",
    "SELECT \n",
    "    column,\n",
    "    SUM(column) OVER (ORDER BY order_expression ROWS 3 PRECEDING) AS sum_3_preceding,\n",
    "    SUM(column) OVER (ORDER BY order_expression ROWS 3 FOLLOWING) AS sum_3_following\n",
    "FROM table_name\n",
    "```\n",
    "\n",
    "### 💻 Final Result\n",
    "\n",
    "- Describe what the final result should be e.g. return the retention by X cohort."
   ]
  },
  {
   "cell_type": "markdown",
   "metadata": {},
   "source": [
    "#### Problem Description\n",
    "\n",
    "**`FUNCTION` / Concept Covered**\n",
    "\n",
    "1. Go into specific step / what we’re going to do. E.g. Use the `=` operator to set a new column to be equal to Experience"
   ]
  },
  {
   "cell_type": "markdown",
   "metadata": {},
   "source": [
    "## UNBOUND"
   ]
  },
  {
   "cell_type": "markdown",
   "metadata": {},
   "source": [
    "### 📝 Notes\n",
    "\n",
    "- `UNBOUNDED PRECEDING`: Starts from the very first row of the partition up to the current row.\n",
    "    - `SUM(column) OVER (ORDER BY order_expression ROWS UNBOUNDED PRECEDING)`\n",
    "- `UNBOUNDED FOLLOWING`: Includes the current row and extends to the last row of the partition.\n",
    "    - `SUM(column) OVER (ORDER BY order_expression ROWS UNBOUNDED FOLLOWING)`\n",
    "\n",
    "```sql\n",
    "SELECT \n",
    "    column,\n",
    "    SUM(column) OVER (ORDER BY order_expression ROWS UNBOUNDED PRECEDING) AS sum_unbounded_preceding,\n",
    "    SUM(column) OVER (ORDER BY order_expression ROWS UNBOUNDED FOLLOWING) AS sum_unbounded_following\n",
    "FROM table_name\n",
    "```\n",
    "\n",
    "\n",
    "### 💻 Final Result\n",
    "\n",
    "- Describe what the final result should be e.g. return the retention by X cohort."
   ]
  },
  {
   "cell_type": "markdown",
   "metadata": {},
   "source": [
    "#### Problem Description\n",
    "\n",
    "**`FUNCTION` / Concept Covered**\n",
    "\n",
    "1. Go into specific step / what we’re going to do. E.g. Use the `=` operator to set a new column to be equal to Experience"
   ]
  },
  {
   "cell_type": "markdown",
   "metadata": {},
   "source": [
    "## CURRENT ROW"
   ]
  },
  {
   "cell_type": "markdown",
   "metadata": {},
   "source": [
    "### 📝 Notes\n",
    "\n",
    "- `CURRENT ROW`: Represents only the current row in the calculation.\n",
    "    - `SUM(column) OVER (ORDER BY order_expression ROWS CURRENT ROW)`\n",
    "\n",
    "\n",
    "```sql\n",
    "SELECT \n",
    "    column,\n",
    "    SUM(column) OVER (ORDER BY order_expression ROWS CURRENT ROW) AS sum_current_row,\n",
    "    SUM(column) OVER (ORDER BY order_expression ROWS 3 PRECEDING) AS sum_3_preceding,\n",
    "    SUM(column) OVER (ORDER BY order_expression ROWS UNBOUNDED PRECEDING) AS sum_unbounded_preceding\n",
    "FROM table_name\n",
    "\n",
    "```\n",
    "\n",
    "### 💻 Final Result\n",
    "\n",
    "- Describe what the final result should be e.g. return the retention by X cohort."
   ]
  },
  {
   "cell_type": "markdown",
   "metadata": {},
   "source": [
    "#### Problem Description\n",
    "\n",
    "**`FUNCTION` / Concept Covered**\n",
    "\n",
    "1. Go into specific step / what we’re going to do. E.g. Use the `=` operator to set a new column to be equal to Experience"
   ]
  },
  {
   "cell_type": "markdown",
   "metadata": {},
   "source": [
    "Scenario 1: Calculate a 3-month moving average revenue using N PRECEDING."
   ]
  },
  {
   "cell_type": "code",
   "execution_count": null,
   "metadata": {
    "vscode": {
     "languageId": "sql"
    }
   },
   "outputs": [],
   "source": [
    "%%sql\n",
    "\n",
    "SELECT\n",
    "    DATE_TRUNC('month', s.OrderDate) AS sales_month,\n",
    "    SUM(s.SalesAmount) AS total_revenue,\n",
    "    AVG(SUM(s.SalesAmount)) OVER (\n",
    "        ORDER BY DATE_TRUNC('month', s.OrderDate)\n",
    "        ROWS 2 PRECEDING\n",
    "    ) AS three_month_moving_avg\n",
    "FROM\n",
    "    Sales s\n",
    "GROUP BY\n",
    "    DATE_TRUNC('month', s.OrderDate)\n",
    "ORDER BY\n",
    "    sales_month;\n"
   ]
  },
  {
   "cell_type": "markdown",
   "metadata": {},
   "source": [
    "Scenario 2: Calculate a rolling total for the current month and the next 2 months using N FOLLOWING."
   ]
  },
  {
   "cell_type": "code",
   "execution_count": null,
   "metadata": {
    "vscode": {
     "languageId": "sql"
    }
   },
   "outputs": [],
   "source": [
    "SELECT\n",
    "    DATE_TRUNC('month', s.OrderDate) AS sales_month,\n",
    "    SUM(s.SalesAmount) AS total_revenue,\n",
    "    SUM(SUM(s.SalesAmount)) OVER (\n",
    "        ORDER BY DATE_TRUNC('month', s.OrderDate)\n",
    "        ROWS BETWEEN CURRENT ROW AND 2 FOLLOWING\n",
    "    ) AS three_month_rolling_total\n",
    "FROM\n",
    "    Sales s\n",
    "GROUP BY\n",
    "    DATE_TRUNC('month', s.OrderDate)\n",
    "ORDER BY\n",
    "    sales_month;\n"
   ]
  },
  {
   "cell_type": "markdown",
   "metadata": {},
   "source": [
    "Scenario 3: Calculate cumulative revenue using UNBOUNDED PRECEDING."
   ]
  },
  {
   "cell_type": "code",
   "execution_count": null,
   "metadata": {
    "vscode": {
     "languageId": "sql"
    }
   },
   "outputs": [],
   "source": [
    "SELECT\n",
    "    DATE_TRUNC('month', s.OrderDate) AS sales_month,\n",
    "    SUM(s.SalesAmount) AS total_revenue,\n",
    "    SUM(SUM(s.SalesAmount)) OVER (\n",
    "        ORDER BY DATE_TRUNC('month', s.OrderDate)\n",
    "        ROWS BETWEEN UNBOUNDED PRECEDING AND CURRENT ROW\n",
    "    ) AS cumulative_revenue\n",
    "FROM\n",
    "    Sales s\n",
    "GROUP BY\n",
    "    DATE_TRUNC('month', s.OrderDate)\n",
    "ORDER BY\n",
    "    sales_month;\n"
   ]
  },
  {
   "cell_type": "markdown",
   "metadata": {},
   "source": [
    "Scenario 4: Calculate total revenue after each month using UNBOUNDED FOLLOWING."
   ]
  },
  {
   "cell_type": "code",
   "execution_count": null,
   "metadata": {
    "vscode": {
     "languageId": "sql"
    }
   },
   "outputs": [],
   "source": [
    "SELECT\n",
    "    DATE_TRUNC('month', s.OrderDate) AS sales_month,\n",
    "    SUM(s.SalesAmount) AS total_revenue,\n",
    "    SUM(SUM(s.SalesAmount)) OVER (\n",
    "        ORDER BY DATE_TRUNC('month', s.OrderDate)\n",
    "        ROWS BETWEEN CURRENT ROW AND UNBOUNDED FOLLOWING\n",
    "    ) AS revenue_after_month\n",
    "FROM\n",
    "    Sales s\n",
    "GROUP BY\n",
    "    DATE_TRUNC('month', s.OrderDate)\n",
    "ORDER BY\n",
    "    sales_month;\n"
   ]
  },
  {
   "cell_type": "markdown",
   "metadata": {},
   "source": [
    "Scenario 5: Compare revenue in the CURRENT ROW with a rolling average."
   ]
  },
  {
   "cell_type": "code",
   "execution_count": null,
   "metadata": {
    "vscode": {
     "languageId": "sql"
    }
   },
   "outputs": [],
   "source": [
    "SELECT\n",
    "    DATE_TRUNC('month', s.OrderDate) AS sales_month,\n",
    "    SUM(s.SalesAmount) AS total_revenue,\n",
    "    AVG(SUM(s.SalesAmount)) OVER (\n",
    "        ORDER BY DATE_TRUNC('month', s.OrderDate)\n",
    "        ROWS CURRENT ROW\n",
    "    ) AS current_row_avg_revenue\n",
    "FROM\n",
    "    Sales s\n",
    "GROUP BY\n",
    "    DATE_TRUNC('month', s.OrderDate)\n",
    "ORDER BY\n",
    "    sales_month;\n"
   ]
  }
 ],
 "metadata": {
  "kernelspec": {
   "display_name": "sql_course",
   "language": "python",
   "name": "python3"
  },
  "language_info": {
   "name": "python",
   "version": "3.11.10"
  }
 },
 "nbformat": 4,
 "nbformat_minor": 2
}
