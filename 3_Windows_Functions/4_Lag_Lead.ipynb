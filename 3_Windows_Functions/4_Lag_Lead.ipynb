{
 "cells": [
  {
   "cell_type": "markdown",
   "id": "59518224",
   "metadata": {},
   "source": [
    "<a target=\"_blank\" href=\"https://colab.research.google.com/github/lukebarousse/Int_SQL_Data_Analytics_Course/blob/main/3_Windows_Functions/4_Lag_Lead.ipynb\">\n",
    "  <img src=\"https://colab.research.google.com/assets/colab-badge.svg\" alt=\"Open In Colab\"/>\n",
    "</a>"
   ]
  },
  {
   "cell_type": "markdown",
   "metadata": {},
   "source": [
    "# Lag / Lead"
   ]
  },
  {
   "cell_type": "markdown",
   "metadata": {},
   "source": [
    "### 🥅 Analysis Goals\n",
    "\n",
    "- What we’re going to use for this dataset to do X e.g. Use the following in order to explore a dataset on experience and salaries\n",
    "    - Major topic 1\n",
    "    - Major topic 2\n",
    "    - Major topic 3\n",
    "- The end goal of this is e.g. Identify which jobs meet our expectations of years experience and total salary."
   ]
  },
  {
   "cell_type": "markdown",
   "metadata": {},
   "source": [
    "### 📘 Concepts Covered\n",
    "\n",
    "General concepts we’re going to cover\n",
    "\n",
    "- Concept 1\n",
    "- Concept 2\n",
    "- Concept 3"
   ]
  },
  {
   "cell_type": "markdown",
   "metadata": {},
   "source": [
    "## LAG"
   ]
  },
  {
   "cell_type": "markdown",
   "metadata": {},
   "source": [
    "### 📝 Notes\n",
    "\n",
    "- `LAG()`: Retrieves data from a previous row in the same result set.\n",
    "\n",
    "### 💻 Final Result\n",
    "\n",
    "- Describe what the final result should be e.g. return the retention by X cohort."
   ]
  },
  {
   "cell_type": "markdown",
   "metadata": {},
   "source": [
    "#### Problem Description\n",
    "\n",
    "**`FUNCTION` / Concept Covered**\n",
    "\n",
    "1. Go into specific step / what we’re going to do. E.g. Use the `=` operator to set a new column to be equal to Experience"
   ]
  },
  {
   "cell_type": "markdown",
   "metadata": {},
   "source": [
    "## LEAD"
   ]
  },
  {
   "cell_type": "markdown",
   "metadata": {},
   "source": [
    "### 📝 Notes\n",
    "\n",
    "- `LEAD()`: Retrieves data from the following row in the same result set.\n",
    "\n",
    "### 💻 Final Result\n",
    "\n",
    "- Describe what the final result should be e.g. return the retention by X cohort."
   ]
  },
  {
   "cell_type": "markdown",
   "metadata": {},
   "source": [
    "#### Problem Description\n",
    "\n",
    "**`FUNCTION` / Concept Covered**\n",
    "\n",
    "1. Go into specific step / what we’re going to do. E.g. Use the `=` operator to set a new column to be equal to Experience"
   ]
  },
  {
   "cell_type": "markdown",
   "metadata": {},
   "source": [
    "Scenario 1: Use LAG() to calculate month-over-month revenue change."
   ]
  },
  {
   "cell_type": "code",
   "execution_count": null,
   "metadata": {
    "vscode": {
     "languageId": "sql"
    }
   },
   "outputs": [],
   "source": [
    "%%sql\n",
    "\n",
    "SELECT\n",
    "    DATE_TRUNC('month', s.OrderDate) AS sales_month,\n",
    "    SUM(s.SalesAmount) AS total_revenue,\n",
    "    LAG(SUM(s.SalesAmount)) OVER (ORDER BY DATE_TRUNC('month', s.OrderDate)) AS previous_month_revenue,\n",
    "    SUM(s.SalesAmount) - LAG(SUM(s.SalesAmount)) OVER (ORDER BY DATE_TRUNC('month', s.OrderDate)) AS revenue_change\n",
    "FROM\n",
    "    Sales s\n",
    "GROUP BY\n",
    "    DATE_TRUNC('month', s.OrderDate)\n",
    "ORDER BY\n",
    "    sales_month;\n"
   ]
  },
  {
   "cell_type": "markdown",
   "metadata": {},
   "source": [
    "Scenario 2: Use LEAD() to predict next month’s revenue."
   ]
  },
  {
   "cell_type": "code",
   "execution_count": null,
   "metadata": {
    "vscode": {
     "languageId": "sql"
    }
   },
   "outputs": [],
   "source": [
    "%%sql\n",
    "\n",
    "SELECT\n",
    "    DATE_TRUNC('month', s.OrderDate) AS sales_month,\n",
    "    SUM(s.SalesAmount) AS total_revenue,\n",
    "    LEAD(SUM(s.SalesAmount)) OVER (ORDER BY DATE_TRUNC('month', s.OrderDate)) AS next_month_revenue\n",
    "FROM\n",
    "    Sales s\n",
    "GROUP BY\n",
    "    DATE_TRUNC('month', s.OrderDate)\n",
    "ORDER BY\n",
    "    sales_month;\n"
   ]
  },
  {
   "cell_type": "markdown",
   "metadata": {},
   "source": [
    "Scenario 3: Use FIRST_VALUE() to find the first recorded sale for each product category."
   ]
  },
  {
   "cell_type": "code",
   "execution_count": null,
   "metadata": {
    "vscode": {
     "languageId": "sql"
    }
   },
   "outputs": [],
   "source": [
    "%%sql\n",
    "\n",
    "SELECT\n",
    "    pc.ProductCategoryName AS category,\n",
    "    p.ProductName AS product,\n",
    "    FIRST_VALUE(s.OrderDate) OVER (PARTITION BY pc.ProductCategoryName ORDER BY s.OrderDate) AS first_sale_date\n",
    "FROM\n",
    "    Sales s\n",
    "JOIN\n",
    "    Products p ON s.ProductKey = p.ProductKey\n",
    "JOIN\n",
    "    ProductCategories pc ON p.ProductCategoryKey = pc.ProductCategoryKey\n",
    "ORDER BY\n",
    "    category, first_sale_date;\n"
   ]
  }
 ],
 "metadata": {
  "language_info": {
   "name": "python"
  }
 },
 "nbformat": 4,
 "nbformat_minor": 2
}
