{
 "cells": [
  {
   "cell_type": "markdown",
   "id": "3158eb66",
   "metadata": {},
   "source": [
    "<a target=\"_blank\" href=\"https://colab.research.google.com/github/lukebarousse/Int_SQL_Data_Analytics_Course/blob/main/5_Views/1_View_Intro.ipynb\">\n",
    "  <img src=\"https://colab.research.google.com/assets/colab-badge.svg\" alt=\"Open In Colab\"/>\n",
    "</a>"
   ]
  },
  {
   "cell_type": "markdown",
   "metadata": {},
   "source": [
    "# Views Intro"
   ]
  },
  {
   "cell_type": "markdown",
   "metadata": {},
   "source": [
    "## Overview"
   ]
  },
  {
   "cell_type": "markdown",
   "metadata": {},
   "source": [
    "### 🥅 Analysis Goals\n",
    "\n",
    "Analyze cohort revenue and lifetime value (LTV) to uncover daily trends, short-term fluctuations, future potential, and long-term customer value patterns.\n",
    "- **Cohort Revenue Insights:**  \n",
    "  - Track cumulative revenue up to each date to measure cohort growth over time.  \n",
    "  - Calculate remaining cumulative revenue from each order date to analyze future revenue potential.  \n",
    "  - Evaluate average LTV for each cohort using cumulative revenue while incorporating a 7-day rolling average."
   ]
  },
  {
   "cell_type": "markdown",
   "metadata": {},
   "source": [
    "### 📘 Concepts Covered\n",
    "\n",
    "- Create views\n",
    "- Use views"
   ]
  },
  {
   "cell_type": "markdown",
   "metadata": {},
   "source": [
    "---\n",
    "## Views"
   ]
  },
  {
   "cell_type": "markdown",
   "metadata": {},
   "source": [
    "### 📝 Notes\n",
    "\n",
    "`CREATE VIEW`\n",
    "\n",
    "- **Why Use Views in PostgreSQL?**  \n",
    "  - Simplifies complex queries by storing them as reusable, named objects.  \n",
    "  - Ensures consistency and readability when multiple queries rely on the same logic.  \n",
    "  - Enhances security by restricting access to specific rows/columns.  \n",
    "  - Improves maintainability by centralizing changes to the query logic.\n",
    "\n",
    "- **Syntax:**  \n",
    "    ```sql\n",
    "    CREATE VIEW view_name AS\n",
    "    SELECT\n",
    "        column1,\n",
    "        column2,\n",
    "        column3\n",
    "    FROM table_name\n",
    "    WHERE condition;\n",
    "    ```\n",
    "    - `CREATE VIEW view_name AS`: Creates a new view with the specified name.\n",
    "    - `SELECT`: Defines the query whose results will be stored in the view.\n",
    "    - `WHERE`: (Optional) Filters data included in the view.◊\n",
    "\n",
    "\n",
    "### 💻 Final Result\n",
    "\n",
    "- Calculates the average lifetime value (LTV) for each cohort based on cumulative revenue and user count.\n",
    "  - Computes a 7-day rolling average LTV for shorter timeframes to analyze recent changes in customer value.\n",
    "  - Provides insights into overall customer value trends and short-term customer activity for cohorts."
   ]
  },
  {
   "cell_type": "markdown",
   "metadata": {},
   "source": [
    "#### Average and 7-Day Rolling LTV\n",
    "\n",
    "**`CREATE VIEWS`**\n",
    "\n",
    "1. Get the `cohort_year` for each customer and the total revenue for each day (previously called `cohort_analysis` CTE).  \n",
    "   - Use `EXTRACT(YEAR FROM MIN(orderdate))` to calculate the cohort year for each customer based on their earliest order date.  \n",
    "   - Include `customerkey` in the `GROUP BY` clause to ensure the cohort year is assigned to each customer individually.  \n",
    "   - Include `orderdate` in the `GROUP BY` clause to calculate daily revenue for each customer.  \n",
    "   - Use `SUM(quantity * netprice * exchangerate)` to calculate the total net revenue for each day.  \n",
    "   - Select `customerkey`, `cohort_year`, `orderdate`, and `total_net_revenue` for the final output.  "
   ]
  },
  {
   "cell_type": "code",
   "execution_count": null,
   "metadata": {
    "vscode": {
     "languageId": "sql"
    }
   },
   "outputs": [],
   "source": [
    "SELECT \n",
    "    customerkey,\n",
    "    EXTRACT(YEAR FROM MIN(orderdate)) AS cohort_year, \n",
    "    orderdate,\n",
    "    SUM(quantity * netprice * exchangerate) AS total_net_revenue\n",
    "FROM sales\n",
    "GROUP BY \n",
    "    customerkey, \n",
    "    orderdate"
   ]
  },
  {
   "cell_type": "markdown",
   "metadata": {},
   "source": [
    "![Query Results 1](../Resources/query_results/view_query_results_1.png)"
   ]
  },
  {
   "cell_type": "markdown",
   "metadata": {},
   "source": [
    "2. Create a view in pgAdmin using `CREATE VIEW`.  \n",
    "\n",
    "   - Use `CREATE VIEW cohort_analysis AS` to define a view named `cohort_analysis`.  \n",
    "   - Select `customerkey`, `cohort_year`, `orderdate`, and `total_net_revenue` to include these columns in the view.  \n",
    "   - Use `EXTRACT(YEAR FROM MIN(orderdate))` to calculate the cohort year for each customer based on their earliest order date.  \n",
    "   - Calculate the `total_net_revenue` for each customer on each day using `SUM(quantity * netprice * exchangerate)`.  \n",
    "   - Group by `customerkey` and `orderdate` to ensure the calculations are aggregated correctly.  ◊"
   ]
  },
  {
   "cell_type": "code",
   "execution_count": null,
   "metadata": {
    "vscode": {
     "languageId": "sql"
    }
   },
   "outputs": [],
   "source": [
    "CREATE VIEW cohort_analysis AS\n",
    "SELECT \n",
    "    customerkey,\n",
    "    EXTRACT(YEAR FROM MIN(orderdate)) AS cohort_year, \n",
    "    orderdate,\n",
    "    SUM(quantity * netprice * exchangerate) AS total_net_revenue\n",
    "FROM sales\n",
    "GROUP BY \n",
    "    customerkey, \n",
    "    orderdate;"
   ]
  },
  {
   "cell_type": "markdown",
   "metadata": {},
   "source": [
    "![Query Results 2](../Resources/query_results/view_query_results_2.png)"
   ]
  },
  {
   "cell_type": "markdown",
   "metadata": {},
   "source": [
    "3. To see the view you created:\n",
    "    1. Go to the left side and refresh the `Views`.\n",
    "    2. Then right click the new view you created named `cohort_analysis`\n",
    "    3. Then go to -> `View/Edit Data` -> `All Rows`.\n",
    "\n",
    "![See cohort_analysis View](../Resources/query_results/view_query_results_3.gif)"
   ]
  },
  {
   "cell_type": "markdown",
   "metadata": {},
   "source": [
    "4. Use the view and calculate the total net revenue (this replaces the `cohort_summary` CTE).  \n",
    "\n",
    "   - Query the `cohort_analysis` view to retrieve `cohort_year`, `orderdate`, and `total_net_revenue`.  \n",
    "   - Use `SUM(total_net_revenue)` to calculate the total revenue for all customers within each cohort for a specific day.  \n",
    "   - Group by `cohort_year` and `orderdate` to ensure the total revenue is aggregated at the cohort and daily levels.  \n",
    "   - Select `cohort_year`, `orderdate`, and `total_revenue` for the final output.  "
   ]
  },
  {
   "cell_type": "code",
   "execution_count": null,
   "metadata": {
    "vscode": {
     "languageId": "sql"
    }
   },
   "outputs": [],
   "source": [
    "SELECT\n",
    "    cohort_year,\n",
    "    orderdate,\n",
    "    SUM(total_net_revenue) AS total_revenue\n",
    "FROM cohort_analysis\n",
    "GROUP BY \n",
    "    cohort_year, \n",
    "    orderdate;"
   ]
  },
  {
   "cell_type": "markdown",
   "metadata": {},
   "source": [
    "![Query Results 1](../Resources/query_results/view_query_results_4.png)"
   ]
  },
  {
   "cell_type": "markdown",
   "metadata": {},
   "source": [
    "5. Put the previous query into a CTE named `cohort_summary` and get the cumulative summary using a window function for the cohort year and order date.  \n",
    "\n",
    "   - Define a CTE `cohort_summary` to calculate the total daily revenue for each cohort.  \n",
    "        - Use `SUM(total_net_revenue)` to aggregate the total revenue per cohort and day.  \n",
    "        - Group the CTE by `cohort_year` and `orderdate` to summarize the data at the cohort and daily levels.  \n",
    "   - In the main query, use `SUM(total_revenue) OVER (PARTITION BY cohort_year ORDER BY orderdate ROWS BETWEEN UNBOUNDED PRECEDING AND CURRENT ROW)` to calculate the cumulative revenue for each cohort up to the current date.  \n",
    "        - Apply `PARTITION BY cohort_year` to ensure the cumulative calculation is done separately for each cohort.  \n",
    "        - Order by `orderdate` within each cohort to maintain chronological order.  \n",
    "        - Select `cohort_year`, `orderdate`, and `cumulative_revenue` for the final output.  \n",
    "        - Use `ORDER BY cohort_year, orderdate` to display results in a sorted and logical order.  "
   ]
  },
  {
   "cell_type": "code",
   "execution_count": null,
   "metadata": {
    "vscode": {
     "languageId": "sql"
    }
   },
   "outputs": [],
   "source": [
    "WITH cohort_summary AS (\n",
    "    SELECT\n",
    "        cohort_year,\n",
    "        orderdate,\n",
    "        SUM(total_net_revenue) AS total_revenue\n",
    "    FROM cohort_analysis\n",
    "    GROUP BY \n",
    "        cohort_year, \n",
    "        orderdate\n",
    ")\n",
    "    \n",
    "SELECT\n",
    "    cohort_year,\n",
    "    orderdate,\n",
    "    SUM(total_revenue) OVER (\n",
    "        PARTITION BY cohort_year\n",
    "        ORDER BY orderdate \n",
    "        ROWS BETWEEN UNBOUNDED PRECEDING AND CURRENT ROW -- Changed \n",
    "    ) AS cumulative_revenue\n",
    "FROM cohort_summary\n",
    "ORDER BY \n",
    "    cohort_year, \n",
    "    orderdate"
   ]
  },
  {
   "cell_type": "markdown",
   "metadata": {},
   "source": [
    "![Query Results 5](../Resources/query_results/view_query_results_5.png)"
   ]
  },
  {
   "cell_type": "markdown",
   "metadata": {},
   "source": [
    "6. Put the previous main query into a CTE called `rolling_ltv` and select all of the results in the main query.  \n",
    "\n",
    "   - Define a CTE `cohort_summary` to calculate the total daily revenue for each cohort.  \n",
    "        - Use `SUM(total_net_revenue)` to aggregate the total revenue per day, grouped by `cohort_year` and `orderdate`.  \n",
    "   - Add another CTE `rolling_ltv` to calculate the cumulative revenue for each cohort.  \n",
    "        - Use a window function `SUM(total_revenue) OVER (PARTITION BY cohort_year ORDER BY orderdate ROWS BETWEEN UNBOUNDED PRECEDING AND CURRENT ROW)` to compute the cumulative revenue up to the current date for each cohort.  \n",
    "        - Order the cumulative results by `cohort_year` and `orderdate` within the `rolling_ltv` CTE.  \n",
    "   - In the main query, use `SELECT * FROM rolling_ltv` to display all results, including `cohort_year`, `orderdate`, and `cumulative_revenue`.  "
   ]
  },
  {
   "cell_type": "code",
   "execution_count": null,
   "metadata": {
    "vscode": {
     "languageId": "sql"
    }
   },
   "outputs": [],
   "source": [
    "WITH cohort_summary AS (\n",
    "    SELECT\n",
    "        cohort_year,\n",
    "        orderdate,\n",
    "        SUM(total_net_revenue) AS total_revenue\n",
    "    FROM cohort_analysis\n",
    "    GROUP BY \n",
    "        cohort_year, \n",
    "        orderdate\n",
    "),\n",
    "\n",
    "rolling_ltv AS (\n",
    "    SELECT\n",
    "        cohort_year,\n",
    "        orderdate,\n",
    "        SUM(total_revenue) OVER (\n",
    "            PARTITION BY cohort_year\n",
    "            ORDER BY orderdate \n",
    "            ROWS BETWEEN UNBOUNDED PRECEDING AND CURRENT ROW -- Changed \n",
    "        ) AS cumulative_revenue\n",
    "    FROM cohort_summary\n",
    "    ORDER BY\n",
    "        cohort_year, \n",
    "        orderdate\n",
    ")\n",
    "\n",
    "SELECT *\n",
    "FROM rolling_ltv"
   ]
  },
  {
   "cell_type": "markdown",
   "metadata": {},
   "source": [
    "![Query Results 5](../Resources/query_results/view_query_results_5.png)"
   ]
  },
  {
   "cell_type": "markdown",
   "metadata": {},
   "source": [
    "7. Add `COUNT` to count the number of days since the cohort’s first order and modify the main query to call specific columns.  \n",
    "\n",
    "   - Define a CTE `cohort_summary` to calculate the total daily revenue for each cohort, grouping by `cohort_year` and `orderdate`.  \n",
    "   - In the second CTE `rolling_ltv`:  \n",
    "     - `cumulative_revenue` using `SUM(total_revenue) OVER (PARTITION BY cohort_year ORDER BY orderdate ROWS BETWEEN UNBOUNDED PRECEDING AND CURRENT ROW)`, which tracks the total accumulated revenue per cohort over time.  \n",
    "     - `days_since_start` using `COUNT(*) OVER (PARTITION BY cohort_year ORDER BY orderdate ROWS BETWEEN UNBOUNDED PRECEDING AND CURRENT ROW)`, which counts the number of days since the cohort's first recorded order.  \n",
    "   - The main query selects `cumulative_revenue` and `days_since_start` for each `cohort_year` and `orderdate`.  "
   ]
  },
  {
   "cell_type": "code",
   "execution_count": null,
   "metadata": {
    "vscode": {
     "languageId": "sql"
    }
   },
   "outputs": [],
   "source": [
    "WITH cohort_summary AS (\n",
    "    SELECT\n",
    "        cohort_year,\n",
    "        orderdate,\n",
    "        SUM(total_net_revenue) AS total_revenue\n",
    "    FROM cohort_analysis\n",
    "    GROUP BY \n",
    "        cohort_year, \n",
    "        orderdate\n",
    "),\n",
    "\n",
    "rolling_ltv AS (\n",
    "    SELECT\n",
    "        cohort_year,\n",
    "        orderdate,\n",
    "        SUM(total_revenue) OVER (\n",
    "            PARTITION BY cohort_year \n",
    "            ORDER BY orderdate \n",
    "            ROWS BETWEEN UNBOUNDED PRECEDING AND CURRENT ROW\n",
    "        ) AS cumulative_revenue,\n",
    "        COUNT(*) OVER ( -- Added \n",
    "            PARTITION BY cohort_year \n",
    "            ORDER BY orderdate ROWS \n",
    "            BETWEEN UNBOUNDED PRECEDING AND CURRENT ROW\n",
    "        ) AS days_since_start\n",
    "    FROM cohort_summary\n",
    "    ORDER BY\n",
    "        cohort_year, \n",
    "        orderdate\n",
    ")\n",
    "\n",
    "SELECT\n",
    "    cohort_year,\n",
    "    orderdate,\n",
    "    cumulative_revenue,\n",
    "    days_since_start\n",
    "FROM rolling_ltv;"
   ]
  },
  {
   "cell_type": "markdown",
   "metadata": {},
   "source": [
    "8. Calculate the rolling average LTV using: `cumulative_revenue / days_since_start`.  \n",
    "\n",
    "    - Define a CTE `cohort_summary` to calculate the total daily revenue for each cohort, grouping by `cohort_year` and `orderdate`.  \n",
    "   - In the second CTE `rolling_ltv`:  \n",
    "     - `cumulative_revenue` using `SUM(total_revenue) OVER (PARTITION BY cohort_year ORDER BY orderdate ROWS BETWEEN UNBOUNDED PRECEDING AND CURRENT ROW)`, which tracks the total accumulated revenue per cohort over time.  \n",
    "     - `days_since_start` using `COUNT(*) OVER (PARTITION BY cohort_year ORDER BY orderdate ROWS BETWEEN UNBOUNDED PRECEDING AND CURRENT ROW)`, which counts the number of days since the cohort's first recorded order.  \n",
    "   - The main query selects `cumulative_revenue` and `days_since_start` for each `cohort_year` and `orderdate`.  \n",
    "   - In the main query, calculate the rolling average LTV by dividing `cumulative_revenue` by `days_since_start`.  \n",
    "        - Select `cohort_year`, `orderdate`, `cumulative_revenue`, `days_since_start`, and the calculated `rolling_avg_ltv`.  "
   ]
  },
  {
   "cell_type": "code",
   "execution_count": null,
   "metadata": {
    "vscode": {
     "languageId": "sql"
    }
   },
   "outputs": [],
   "source": [
    "WITH cohort_summary AS (\n",
    "    SELECT\n",
    "        cohort_year,\n",
    "        orderdate,\n",
    "        SUM(total_net_revenue) AS total_revenue\n",
    "    FROM cohort_analysis\n",
    "    GROUP BY \n",
    "        cohort_year, \n",
    "        orderdate\n",
    "),\n",
    "\n",
    "rolling_ltv AS (\n",
    "    SELECT\n",
    "        cohort_year,\n",
    "        orderdate,\n",
    "        SUM(total_revenue) OVER (\n",
    "            PARTITION BY cohort_year \n",
    "            ORDER BY orderdate \n",
    "            ROWS BETWEEN UNBOUNDED PRECEDING AND CURRENT ROW\n",
    "        ) AS cumulative_revenue,\n",
    "        COUNT(*) OVER ( -- Added \n",
    "            PARTITION BY cohort_year \n",
    "            ORDER BY orderdate ROWS \n",
    "            BETWEEN UNBOUNDED PRECEDING AND CURRENT ROW\n",
    "        ) AS days_since_start\n",
    "    FROM cohort_summary\n",
    "    ORDER BY\n",
    "        cohort_year, \n",
    "        orderdate\n",
    ")\n",
    "\n",
    "SELECT\n",
    "    cohort_year,\n",
    "    orderdate,\n",
    "    cumulative_revenue,\n",
    "    days_since_start,\n",
    "    cumulative_revenue / days_since_start AS rolling_avg_ltv\n",
    "FROM rolling_ltv;"
   ]
  },
  {
   "cell_type": "markdown",
   "metadata": {},
   "source": [
    "9. Add two new columns in the `rolling_ltv` CTE to get the rolling 7-day revenue.  \n",
    "\n",
    "   - Define a CTE `cohort_summary` to calculate the total daily revenue for each cohort, grouping by `cohort_year` and `orderdate`.  \n",
    "   - Update the CTE `rolling_ltv` to calculate the following cumulative and rolling metrics for each cohort:  \n",
    "        - Compute `cumulative_revenue` using `SUM(total_revenue) OVER (PARTITION BY cohort_year ORDER BY orderdate ROWS BETWEEN UNBOUNDED PRECEDING AND CURRENT ROW)`.  \n",
    "        - Compute `days_since_start` using `COUNT(*) OVER (PARTITION BY cohort_year ORDER BY orderdate ROWS BETWEEN UNBOUNDED PRECEDING AND CURRENT ROW)`.  \n",
    "        - Add `rolling_7_day_revenue` using `SUM(total_revenue) OVER (PARTITION BY cohort_year ORDER BY orderdate ROWS BETWEEN 6 PRECEDING AND CURRENT ROW)` to calculate the total revenue for the current and previous 6 days.  \n",
    "        - Add `rolling_7_day_num_days` using `COUNT(*) OVER (PARTITION BY cohort_year ORDER BY orderdate ROWS BETWEEN 6 PRECEDING AND CURRENT ROW)` to calculate the number of days for the same 7-day window.  \n",
    "        - Order results by `cohort_year` and `orderdate` to maintain chronological order.  \n",
    "   - In the main query, include:  \n",
    "        - `cumulative_revenue` and `days_since_start`.  \n",
    "        - `rolling_avg_ltv`, calculated as `cumulative_revenue / days_since_start`.  \n",
    "        - `rolling_7_day_revenue` and `rolling_7_day_num_days` to display the rolling metrics.  "
   ]
  },
  {
   "cell_type": "code",
   "execution_count": null,
   "metadata": {
    "vscode": {
     "languageId": "sql"
    }
   },
   "outputs": [],
   "source": [
    "WITH cohort_summary AS (\n",
    "    SELECT\n",
    "        cohort_year,\n",
    "        orderdate,\n",
    "        SUM(total_net_revenue) AS total_revenue\n",
    "    FROM cohort_analysis\n",
    "    GROUP BY \n",
    "        cohort_year, \n",
    "        orderdate\n",
    "),\n",
    "\n",
    "rolling_ltv AS (\n",
    "    SELECT\n",
    "        cohort_year,\n",
    "        orderdate,\n",
    "        SUM(total_revenue) OVER (\n",
    "            PARTITION BY cohort_year \n",
    "            ORDER BY orderdate \n",
    "            ROWS BETWEEN UNBOUNDED PRECEDING AND CURRENT ROW\n",
    "        ) AS cumulative_revenue,\n",
    "        COUNT(*) OVER (\n",
    "            PARTITION BY cohort_year \n",
    "            ORDER BY orderdate \n",
    "            ROWS BETWEEN UNBOUNDED PRECEDING AND CURRENT ROW\n",
    "        ) AS days_since_start,\n",
    "        SUM(total_revenue) OVER ( -- Added \n",
    "            PARTITION BY cohort_year \n",
    "            ORDER BY orderdate\n",
    "            ROWS BETWEEN 6 PRECEDING AND CURRENT ROW\n",
    "        ) AS rolling_7_day_revenue,\n",
    "        COUNT(*) OVER ( -- Added \n",
    "            PARTITION BY cohort_year \n",
    "            ORDER BY orderdate \n",
    "            ROWS BETWEEN 6 PRECEDING AND CURRENT ROW\n",
    "        ) AS rolling_7_day_num_days\n",
    "    FROM cohort_summary\n",
    "    ORDER BY\n",
    "        cohort_year,\n",
    "        orderdate\n",
    ")\n",
    "\n",
    "SELECT\n",
    "    cohort_year,\n",
    "    orderdate,\n",
    "    cumulative_revenue,\n",
    "    days_since_start,\n",
    "    cumulative_revenue / days_since_start AS rolling_avg_ltv,\n",
    "    rolling_7_day_revenue,\n",
    "    rolling_7_day_num_days\n",
    "FROM rolling_ltv;"
   ]
  },
  {
   "cell_type": "markdown",
   "metadata": {},
   "source": [
    "10. Calculate the rolling 7-day average LTV using: `rolling_7_day_revenue / rolling_7_day_user_count`. Remove the `user_count` column.  \n",
    "   - Define a CTE `cohort_summary` to calculate daily total revenue per cohort, grouping by `cohort_year` and `orderdate`.  \n",
    "   - In the second CTE `rolling_ltv` to compute the following metrics per cohort:  \n",
    "     - `cumulative_revenue` using `SUM(total_revenue) OVER (PARTITION BY cohort_year ORDER BY orderdate ROWS BETWEEN UNBOUNDED PRECEDING AND CURRENT ROW)`, which tracks the total revenue accrued by the cohort over time.  \n",
    "     - `days_since_start` using `COUNT(*) OVER (PARTITION BY cohort_year ORDER BY orderdate ROWS BETWEEN UNBOUNDED PRECEDING AND CURRENT ROW)`, which counts the number of days since the cohort’s first order.  \n",
    "     - `rolling_7_day_revenue` using `SUM(total_revenue) OVER (PARTITION BY cohort_year ORDER BY orderdate ROWS BETWEEN 6 PRECEDING AND CURRENT ROW)`, which captures total revenue for the last 7 days.  \n",
    "     - `rolling_7_day_num_days` using `COUNT(*) OVER (PARTITION BY cohort_year ORDER BY orderdate ROWS BETWEEN 6 PRECEDING AND CURRENT ROW)`, which counts the number of days in the rolling 7-day period.  \n",
    "   - In the main query select `cohort_year`, `orderdate`, `cumulative_revenue`, `rolling_avg_ltv`, and `rolling_7_avg_ltv`:  \n",
    "        - Include `cohort_year` and `cumulative_revenue` for reference.  \n",
    "        - Calculate `rolling_avg_ltv` as `cumulative_revenue / days_since_start`.  \n",
    "        - Calculate `rolling_7_avg_ltv` as `rolling_7_day_revenue / rolling_7_day_num_days`.  \n",
    "        - Remove the `days_since_start`, `rolling_7_day_revenue`, `rolling_7_day_num_days` columns from the final output.  \n"
   ]
  },
  {
   "cell_type": "code",
   "execution_count": null,
   "metadata": {
    "vscode": {
     "languageId": "sql"
    }
   },
   "outputs": [],
   "source": [
    "WITH cohort_summary AS (\n",
    "    SELECT\n",
    "        cohort_year,\n",
    "        orderdate,\n",
    "        SUM(total_net_revenue) AS total_revenue\n",
    "    FROM cohort_analysis\n",
    "    GROUP BY \n",
    "        cohort_year, \n",
    "        orderdate\n",
    "),\n",
    "\n",
    "rolling_ltv AS (\n",
    "    SELECT\n",
    "        cohort_year,\n",
    "        orderdate,\n",
    "        SUM(total_revenue) OVER (\n",
    "            PARTITION BY cohort_year \n",
    "            ORDER BY orderdate \n",
    "            ROWS BETWEEN UNBOUNDED PRECEDING AND CURRENT ROW\n",
    "        ) AS cumulative_revenue,\n",
    "        COUNT(*) OVER ( -- Added \n",
    "            PARTITION BY cohort_year \n",
    "            ORDER BY orderdate \n",
    "            ROWS BETWEEN UNBOUNDED PRECEDING AND CURRENT ROW\n",
    "        ) AS user_count,\n",
    "        SUM(total_revenue) OVER (\n",
    "            PARTITION BY cohort_year \n",
    "            ORDER BY orderdate\n",
    "            ROWS BETWEEN 6 PRECEDING AND CURRENT ROW\n",
    "        ) AS rolling_7_day_revenue,\n",
    "        COUNT(*) OVER ( -- Added \n",
    "            PARTITION BY cohort_year \n",
    "            ORDER BY orderdate \n",
    "            ROWS BETWEEN 6 PRECEDING AND CURRENT ROW\n",
    "        ) AS rolling_7_day_user_count\n",
    "    FROM cohort_summary\n",
    "    ORDER BY\n",
    "        cohort_year,\n",
    "        orderdate\n",
    ")\n",
    "\n",
    "SELECT\n",
    "    cohort_year,\n",
    "    orderdate,\n",
    "    cumulative_revenue,\n",
    "    cumulative_revenue / user_count AS rolling_avg_ltv,\n",
    "    rolling_7_day_revenue / rolling_7_day_user_count AS rolling_7_avg_ltv\n",
    "FROM rolling_ltv;"
   ]
  },
  {
   "cell_type": "markdown",
   "metadata": {},
   "source": [
    "![Query Results 5](../Resources/query_results/view_query_results_10.png)"
   ]
  }
 ],
 "metadata": {
  "language_info": {
   "name": "python"
  }
 },
 "nbformat": 4,
 "nbformat_minor": 2
}
