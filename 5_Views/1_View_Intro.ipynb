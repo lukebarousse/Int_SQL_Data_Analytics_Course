{
 "cells": [
  {
   "cell_type": "markdown",
   "id": "3158eb66",
   "metadata": {},
   "source": [
    "<a target=\"_blank\" href=\"https://colab.research.google.com/github/lukebarousse/Int_SQL_Data_Analytics_Course/blob/main/5_Views/1_View_Intro.ipynb\">\n",
    "  <img src=\"https://colab.research.google.com/assets/colab-badge.svg\" alt=\"Open In Colab\"/>\n",
    "</a>"
   ]
  },
  {
   "cell_type": "markdown",
   "metadata": {},
   "source": [
    "# Views Intro"
   ]
  },
  {
   "cell_type": "markdown",
   "metadata": {},
   "source": [
    "## Overview"
   ]
  },
  {
   "cell_type": "markdown",
   "metadata": {},
   "source": [
    "### 🥅 Analysis Goals\n",
    "\n",
    "Analyze cohort revenue and lifetime value (LTV) to uncover daily trends, short-term fluctuations, future potential, and long-term customer value patterns.\n",
    "- **Cohort Revenue Insights:**  \n",
    "  - Track cumulative revenue up to each date to measure cohort growth over time.  \n",
    "  - Calculate remaining cumulative revenue from each order date to analyze future revenue potential.  \n",
    "  - Evaluate average LTV for each cohort using cumulative revenue while incorporating a 7-day rolling average."
   ]
  },
  {
   "cell_type": "markdown",
   "metadata": {},
   "source": [
    "### 📘 Concepts Covered\n",
    "\n",
    "- Create views\n",
    "- Use views"
   ]
  },
  {
   "cell_type": "markdown",
   "metadata": {},
   "source": [
    "---\n",
    "## Views"
   ]
  },
  {
   "cell_type": "markdown",
   "metadata": {},
   "source": [
    "### 📝 Notes\n",
    "\n",
    "`CREATE VIEW`\n",
    "\n",
    "- **Why Use Views in PostgreSQL?**  \n",
    "  - Simplifies complex queries by storing them as reusable, named objects.  \n",
    "  - Ensures consistency and readability when multiple queries rely on the same logic.  \n",
    "  - Enhances security by restricting access to specific rows/columns.  \n",
    "  - Improves maintainability by centralizing changes to the query logic.\n",
    "\n",
    "- **Syntax:**  \n",
    "    ```sql\n",
    "    CREATE VIEW view_name AS\n",
    "    SELECT\n",
    "        column1,\n",
    "        column2,\n",
    "        column3\n",
    "    FROM table_name\n",
    "    WHERE condition;\n",
    "    ```\n",
    "    - `CREATE VIEW view_name AS`: Creates a new view with the specified name.\n",
    "    - `SELECT`: Defines the query whose results will be stored in the view.\n",
    "    - `WHERE`: (Optional) Filters data included in the view.◊\n",
    "\n",
    "\n",
    "### 💻 Final Result\n",
    "\n",
    "- Calculates the average lifetime value (LTV) for each cohort based on cumulative revenue and user count.\n",
    "  - Computes a 7-day rolling average LTV for shorter timeframes to analyze recent changes in customer value.\n",
    "  - Provides insights into overall customer value trends and short-term customer activity for cohorts."
   ]
  },
  {
   "cell_type": "markdown",
   "metadata": {},
   "source": [
    "#### Average and 7-Day Rolling LTV\n",
    "\n",
    "**`CREATE VIEWS`**\n",
    "\n",
    "1. Get the `cohort_year` for each customer and the total revenue for each day (previously called `cohort_analysis` CTE).  \n",
    "   - Use `EXTRACT(YEAR FROM MIN(orderdate))` to calculate the cohort year for each customer based on their earliest order date.  \n",
    "   - Include `customerkey` in the `GROUP BY` clause to ensure the cohort year is assigned to each customer individually.  \n",
    "   - Include `orderdate` in the `GROUP BY` clause to calculate daily revenue for each customer.  \n",
    "   - Use `SUM(quantity * netprice * exchangerate)` to calculate the total net revenue for each day.  \n",
    "   - Select `customerkey`, `cohort_year`, `orderdate`, and `total_net_revenue` for the final output.  "
   ]
  },
  {
   "cell_type": "code",
   "execution_count": null,
   "metadata": {
    "vscode": {
     "languageId": "sql"
    }
   },
   "outputs": [],
   "source": [
    "SELECT \n",
    "    customerkey,\n",
    "    EXTRACT(YEAR FROM MIN(orderdate)) AS cohort_year, \n",
    "    orderdate,\n",
    "    SUM(quantity * netprice * exchangerate) AS total_net_revenue\n",
    "FROM sales\n",
    "GROUP BY \n",
    "    customerkey, \n",
    "    orderdate"
   ]
  },
  {
   "cell_type": "markdown",
   "metadata": {},
   "source": [
    "![Query Results 1](../Resources/query_results/view_query_results_1.png)"
   ]
  },
  {
   "cell_type": "markdown",
   "metadata": {},
   "source": [
    "2. Create a view in pgAdmin using `CREATE VIEW`.  \n",
    "\n",
    "   - Use `CREATE VIEW cohort_analysis AS` to define a view named `cohort_analysis`.  \n",
    "   - Select `customerkey`, `cohort_year`, `orderdate`, and `total_net_revenue` to include these columns in the view.  \n",
    "   - Use `EXTRACT(YEAR FROM MIN(orderdate))` to calculate the cohort year for each customer based on their earliest order date.  \n",
    "   - Calculate the `total_net_revenue` for each customer on each day using `SUM(quantity * netprice * exchangerate)`.  \n",
    "   - Group by `customerkey` and `orderdate` to ensure the calculations are aggregated correctly.  ◊"
   ]
  },
  {
   "cell_type": "code",
   "execution_count": null,
   "metadata": {
    "vscode": {
     "languageId": "sql"
    }
   },
   "outputs": [],
   "source": [
    "CREATE VIEW cohort_analysis AS\n",
    "SELECT \n",
    "    customerkey,\n",
    "    EXTRACT(YEAR FROM MIN(orderdate)) AS cohort_year, \n",
    "    orderdate,\n",
    "    SUM(quantity * netprice * exchangerate) AS total_net_revenue\n",
    "FROM sales\n",
    "GROUP BY \n",
    "    customerkey, \n",
    "    orderdate;"
   ]
  },
  {
   "cell_type": "markdown",
   "metadata": {},
   "source": [
    "![Query Results 2](../Resources/query_results/view_query_results_2.png)"
   ]
  },
  {
   "cell_type": "markdown",
   "metadata": {},
   "source": [
    "3. To see the view you created:\n",
    "    1. Go to the left side and refresh the `Views`.\n",
    "    2. Then right click the new view you created named `cohort_analysis`\n",
    "    3. Then go to -> `View/Edit Data` -> `All Rows`.\n",
    "\n",
    "![See cohort_analysis View](../Resources/query_results/view_query_results_3.gif)"
   ]
  }
 ],
 "metadata": {
  "language_info": {
   "name": "python"
  }
 },
 "nbformat": 4,
 "nbformat_minor": 2
}
