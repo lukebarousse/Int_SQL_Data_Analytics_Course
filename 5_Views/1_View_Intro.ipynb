{
 "cells": [
  {
   "cell_type": "markdown",
   "id": "3158eb66",
   "metadata": {},
   "source": [
    "<a target=\"_blank\" href=\"https://colab.research.google.com/github/lukebarousse/Int_SQL_Data_Analytics_Course/blob/main/5_Views/1_View_Intro.ipynb\">\n",
    "  <img src=\"https://colab.research.google.com/assets/colab-badge.svg\" alt=\"Open In Colab\"/>\n",
    "</a>"
   ]
  },
  {
   "cell_type": "markdown",
   "metadata": {},
   "source": [
    "# Views Intro"
   ]
  },
  {
   "cell_type": "markdown",
   "metadata": {},
   "source": [
    "## Overview"
   ]
  },
  {
   "cell_type": "markdown",
   "metadata": {},
   "source": [
    "### 🥅 Analysis Goals\n",
    "\n",
    "- What we’re going to use for this dataset to do X e.g. Use the following in order to explore a dataset on experience and salaries\n",
    "    - Major topic 1\n",
    "    - Major topic 2\n",
    "    - Major topic 3\n",
    "- The end goal of this is e.g. Identify which jobs meet our expectations of years experience and total salary."
   ]
  },
  {
   "cell_type": "markdown",
   "metadata": {},
   "source": [
    "### 📘 Concepts Covered\n",
    "\n",
    "General concepts we’re going to cover\n",
    "\n",
    "- Concept 1\n",
    "- Concept 2\n",
    "- Concept 3"
   ]
  },
  {
   "cell_type": "markdown",
   "metadata": {},
   "source": [
    "---\n",
    "## Major Topic"
   ]
  },
  {
   "cell_type": "markdown",
   "metadata": {},
   "source": [
    "### 📝 Notes\n",
    "\n",
    "- Add in specific notes\n",
    "\n",
    "### 💻 Final Result\n",
    "\n",
    "- Describe what the final result should be e.g. return the retention by X cohort."
   ]
  },
  {
   "cell_type": "markdown",
   "metadata": {},
   "source": [
    "#### Problem Description\n",
    "\n",
    "**`FUNCTION` / Concept Covered**\n",
    "\n",
    "1. Create a view of this query."
   ]
  },
  {
   "cell_type": "code",
   "execution_count": null,
   "metadata": {
    "vscode": {
     "languageId": "sql"
    }
   },
   "outputs": [],
   "source": [
    "SELECT \n",
    "    EXTRACT(YEAR FROM MIN(orderdate)) AS cohort_year,\n",
    "    customerkey,\n",
    "    SUM(quantity * netprice * exchangerate) AS total_customer_net_revenue\n",
    "FROM sales\n",
    "GROUP BY \n",
    "    customerkey"
   ]
  },
  {
   "cell_type": "markdown",
   "metadata": {},
   "source": [
    "2. Our original query from the last example."
   ]
  },
  {
   "cell_type": "code",
   "execution_count": null,
   "metadata": {
    "vscode": {
     "languageId": "sql"
    }
   },
   "outputs": [],
   "source": [
    "%%sql\n",
    "\n",
    "WITH cohort_analysis AS (\n",
    "    SELECT \n",
    "        EXTRACT(YEAR FROM MIN(orderdate)) AS cohort_year,\n",
    "        orderdate,\n",
    "        SUM(quantity * netprice * exchangerate) AS total_net_revenue\n",
    "    FROM sales\n",
    "    GROUP BY \n",
    "        orderdate\n",
    "),\n",
    "\n",
    "rolling_ltv AS (\n",
    "    SELECT\n",
    "        cohort_year,\n",
    "        orderdate,\n",
    "        SUM(total_net_revenue) OVER (\n",
    "            PARTITION BY cohort_year \n",
    "            ORDER BY orderdate \n",
    "            ROWS BETWEEN UNBOUNDED PRECEDING AND CURRENT ROW\n",
    "        ) AS cumulative_revenue,\n",
    "        COUNT(*) OVER ( -- Added \n",
    "            PARTITION BY cohort_year \n",
    "            ORDER BY orderdate \n",
    "            ROWS BETWEEN UNBOUNDED PRECEDING AND CURRENT ROW\n",
    "        ) AS user_count,\n",
    "        SUM(total_net_revenue) OVER (\n",
    "            PARTITION BY cohort_year \n",
    "            ORDER BY orderdate\n",
    "            ROWS BETWEEN 6 PRECEDING AND CURRENT ROW\n",
    "        ) AS rolling_7_day_revenue,\n",
    "        COUNT(*) OVER ( -- Added \n",
    "            PARTITION BY cohort_year \n",
    "            ORDER BY orderdate \n",
    "            ROWS BETWEEN 6 PRECEDING AND CURRENT ROW\n",
    "        ) AS rolling_7_day_user_count\n",
    "    FROM cohort_analysis\n",
    ")\n",
    "\n",
    "SELECT\n",
    "    cohort_year,\n",
    "    orderdate,\n",
    "    cumulative_revenue,\n",
    "    user_count,\n",
    "    cumulative_revenue / user_count AS rolling_avg_ltv,\n",
    "    rolling_7_day_revenue / rolling_7_day_user_count AS rolling_7_avg_ltv\n",
    "FROM rolling_ltv;"
   ]
  },
  {
   "cell_type": "markdown",
   "metadata": {},
   "source": [
    "3. Create view in pgadmin"
   ]
  },
  {
   "cell_type": "markdown",
   "metadata": {},
   "source": [
    "4. Use the view."
   ]
  },
  {
   "cell_type": "code",
   "execution_count": null,
   "metadata": {
    "vscode": {
     "languageId": "sql"
    }
   },
   "outputs": [],
   "source": [
    "%%sql\n",
    "\n",
    "WITH rolling_ltv AS (\n",
    "    SELECT\n",
    "        cohort_year,\n",
    "        orderdate,\n",
    "        SUM(total_net_revenue) OVER (\n",
    "            PARTITION BY cohort_year \n",
    "            ORDER BY orderdate \n",
    "            ROWS BETWEEN UNBOUNDED PRECEDING AND CURRENT ROW\n",
    "        ) AS cumulative_revenue,\n",
    "        COUNT(*) OVER ( -- Added \n",
    "            PARTITION BY cohort_year \n",
    "            ORDER BY orderdate \n",
    "            ROWS BETWEEN UNBOUNDED PRECEDING AND CURRENT ROW\n",
    "        ) AS user_count,\n",
    "        SUM(total_net_revenue) OVER (\n",
    "            PARTITION BY cohort_year \n",
    "            ORDER BY orderdate\n",
    "            ROWS BETWEEN 6 PRECEDING AND CURRENT ROW\n",
    "        ) AS rolling_7_day_revenue,\n",
    "        COUNT(*) OVER ( -- Added \n",
    "            PARTITION BY cohort_year \n",
    "            ORDER BY orderdate \n",
    "            ROWS BETWEEN 6 PRECEDING AND CURRENT ROW\n",
    "        ) AS rolling_7_day_user_count\n",
    "    FROM cohort_analysis\n",
    ")\n",
    "\n",
    "SELECT\n",
    "    cohort_year,\n",
    "    orderdate,\n",
    "    cumulative_revenue,\n",
    "    user_count,\n",
    "    cumulative_revenue / user_count AS rolling_avg_ltv,\n",
    "    rolling_7_day_revenue / rolling_7_day_user_count AS rolling_7_avg_ltv\n",
    "FROM rolling_ltv;"
   ]
  }
 ],
 "metadata": {
  "language_info": {
   "name": "python"
  }
 },
 "nbformat": 4,
 "nbformat_minor": 2
}
