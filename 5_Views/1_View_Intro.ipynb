{
 "cells": [
  {
   "cell_type": "markdown",
   "id": "3158eb66",
   "metadata": {},
   "source": [
    "<a target=\"_blank\" href=\"https://colab.research.google.com/github/lukebarousse/Int_SQL_Data_Analytics_Course/blob/main/5_Views/1_View_Intro.ipynb\">\n",
    "  <img src=\"https://colab.research.google.com/assets/colab-badge.svg\" alt=\"Open In Colab\"/>\n",
    "</a>"
   ]
  },
  {
   "cell_type": "markdown",
   "metadata": {},
   "source": [
    "# Views Intro"
   ]
  },
  {
   "cell_type": "markdown",
   "metadata": {},
   "source": [
    "## Overview"
   ]
  },
  {
   "cell_type": "markdown",
   "metadata": {},
   "source": [
    "### 🥅 Analysis Goals\n",
    "\n",
    "Analyze cohort revenue and lifetime value (LTV) to uncover daily trends, short-term fluctuations, future potential, and long-term customer value patterns.\n",
    "- **Cohort Revenue Insights:**  \n",
    "  - Track cumulative revenue up to each date to measure cohort growth over time.  \n",
    "  - Assess remaining cumulative revenue from each order date to analyze future revenue potential.  \n",
    "  - Evaluate average LTV for each cohort using cumulative revenue and user counts, while incorporating a 7-day rolling average for recent customer activity."
   ]
  },
  {
   "cell_type": "markdown",
   "metadata": {},
   "source": [
    "### 📘 Concepts Covered\n",
    "\n",
    "- Create views\n",
    "- Views"
   ]
  },
  {
   "cell_type": "markdown",
   "metadata": {},
   "source": [
    "---\n",
    "## Major Topic"
   ]
  },
  {
   "cell_type": "markdown",
   "metadata": {},
   "source": [
    "### 📝 Notes\n",
    "\n",
    "- Add in specific notes\n",
    "\n",
    "### 💻 Final Result\n",
    "\n",
    "- Calculates the average lifetime value (LTV) for each cohort based on cumulative revenue and user count.\n",
    "  - Computes a 7-day rolling average LTV for shorter timeframes to analyze recent changes in customer value.\n",
    "  - Provides insights into overall customer value trends and short-term customer activity for cohorts."
   ]
  },
  {
   "cell_type": "markdown",
   "metadata": {},
   "source": [
    "#### Average and 7-Day Rolling LTV\n",
    "\n",
    "**Views**\n",
    "\n",
    "1. Put the query that gets the raw data the CTE called `cohort_analysis`."
   ]
  },
  {
   "cell_type": "code",
   "execution_count": null,
   "metadata": {
    "vscode": {
     "languageId": "sql"
    }
   },
   "outputs": [],
   "source": [
    "SELECT \n",
    "    customerkey,\n",
    "    EXTRACT(YEAR FROM MIN(orderdate)) AS cohort_year, \n",
    "    orderdate,\n",
    "    SUM(quantity * netprice * exchangerate) AS total_net_revenue\n",
    "FROM sales\n",
    "GROUP BY \n",
    "    customerkey, \n",
    "    orderdate"
   ]
  },
  {
   "cell_type": "markdown",
   "metadata": {},
   "source": [
    "![Query Results 1](../Resources/query_results/view_query_results_1.png)"
   ]
  },
  {
   "cell_type": "markdown",
   "metadata": {},
   "source": [
    "2. Create view in pgAdmin using `CREATE VIEW`."
   ]
  },
  {
   "cell_type": "code",
   "execution_count": null,
   "metadata": {
    "vscode": {
     "languageId": "sql"
    }
   },
   "outputs": [],
   "source": [
    "CREATE VIEW cohort_analysis AS\n",
    "SELECT \n",
    "    customerkey,\n",
    "    EXTRACT(YEAR FROM MIN(orderdate)) AS cohort_year, \n",
    "    orderdate,\n",
    "    SUM(quantity * netprice * exchangerate) AS total_net_revenue\n",
    "FROM sales\n",
    "GROUP BY \n",
    "    customerkey, \n",
    "    orderdate;"
   ]
  },
  {
   "cell_type": "markdown",
   "metadata": {},
   "source": [
    "![Query Results 2](../Resources/query_results/view_query_results_2.png)"
   ]
  },
  {
   "cell_type": "markdown",
   "metadata": {},
   "source": [
    "3. To see the view you created:\n",
    "    1. Go to the left side and refresh the `Views`.\n",
    "    2. Then right click the new view you created named `cohort_analysis`\n",
    "    3. Then go to -> `View/Edit Data` -> `All Rows`.\n",
    "\n",
    "![See cohort_analysis View](../Resources/query_results/view_query_results_3.gif)"
   ]
  },
  {
   "cell_type": "markdown",
   "metadata": {},
   "source": [
    "4. Use the view and then calculate the total net revenue (this used to be the `cohort_summary` CTE)."
   ]
  },
  {
   "cell_type": "code",
   "execution_count": null,
   "metadata": {
    "vscode": {
     "languageId": "sql"
    }
   },
   "outputs": [],
   "source": [
    "SELECT\n",
    "    cohort_year,\n",
    "    orderdate,\n",
    "    SUM(total_net_revenue) AS total_revenue\n",
    "FROM cohort_analysis\n",
    "GROUP BY \n",
    "    cohort_year, \n",
    "    orderdate"
   ]
  },
  {
   "cell_type": "markdown",
   "metadata": {},
   "source": [
    "![Query Results 1](../Resources/query_results/view_query_results_4.png)"
   ]
  },
  {
   "cell_type": "markdown",
   "metadata": {},
   "source": [
    "5. Get the cumulative summary for the cohort year and order date."
   ]
  },
  {
   "cell_type": "code",
   "execution_count": null,
   "metadata": {
    "vscode": {
     "languageId": "sql"
    }
   },
   "outputs": [],
   "source": [
    "WITH cohort_summary AS (\n",
    "    SELECT\n",
    "        cohort_year,\n",
    "        orderdate,\n",
    "        SUM(total_net_revenue) AS total_revenue\n",
    "    FROM cohort_analysis\n",
    "    GROUP BY \n",
    "        cohort_year, \n",
    "        orderdate\n",
    ")\n",
    "    \n",
    "SELECT\n",
    "    cohort_year,\n",
    "    orderdate,\n",
    "    SUM(total_revenue) OVER (\n",
    "        PARTITION BY cohort_year\n",
    "        ORDER BY orderdate \n",
    "        ROWS BETWEEN UNBOUNDED PRECEDING AND CURRENT ROW -- Changed \n",
    "    ) AS cumulative_revenue\n",
    "FROM cohort_summary\n",
    "ORDER BY \n",
    "    cohort_year, \n",
    "    orderdate"
   ]
  },
  {
   "cell_type": "markdown",
   "metadata": {},
   "source": [
    "![Query Results 5](../Resources/query_results/view_query_results_5.png)"
   ]
  },
  {
   "cell_type": "markdown",
   "metadata": {},
   "source": [
    "6. Put that query into a CTE called rolling_ltv."
   ]
  },
  {
   "cell_type": "code",
   "execution_count": null,
   "metadata": {
    "vscode": {
     "languageId": "sql"
    }
   },
   "outputs": [],
   "source": [
    "WITH cohort_summary AS (\n",
    "    SELECT\n",
    "        cohort_year,\n",
    "        orderdate,\n",
    "        SUM(total_net_revenue) AS total_revenue\n",
    "    FROM cohort_analysis\n",
    "    GROUP BY \n",
    "        cohort_year, \n",
    "        orderdate\n",
    "),\n",
    "\n",
    "rolling_ltv AS (\n",
    "    SELECT\n",
    "        cohort_year,\n",
    "        orderdate,\n",
    "        SUM(total_revenue) OVER (\n",
    "            PARTITION BY cohort_year\n",
    "            ORDER BY orderdate \n",
    "            ROWS BETWEEN UNBOUNDED PRECEDING AND CURRENT ROW -- Changed \n",
    "        ) AS cumulative_revenue\n",
    "    FROM cohort_summary\n",
    "    ORDER BY\n",
    "        cohort_year, \n",
    "        orderdate\n",
    ")\n",
    "\n",
    "SELECT *\n",
    "FROM rolling_ltv"
   ]
  },
  {
   "cell_type": "markdown",
   "metadata": {},
   "source": [
    "![Query Results 5](../Resources/query_results/view_query_results_5.png)"
   ]
  },
  {
   "cell_type": "markdown",
   "metadata": {},
   "source": [
    "7. Added `COUNT` to get the cumulative user count and in the main query to call specific columns."
   ]
  },
  {
   "cell_type": "code",
   "execution_count": null,
   "metadata": {
    "vscode": {
     "languageId": "sql"
    }
   },
   "outputs": [],
   "source": [
    "WITH cohort_summary AS (\n",
    "    SELECT\n",
    "        cohort_year,\n",
    "        orderdate,\n",
    "        SUM(total_net_revenue) AS total_revenue\n",
    "    FROM cohort_analysis\n",
    "    GROUP BY \n",
    "        cohort_year, \n",
    "        orderdate\n",
    "),\n",
    "\n",
    "rolling_ltv AS (\n",
    "    SELECT\n",
    "        cohort_year,\n",
    "        orderdate,\n",
    "        SUM(total_revenue) OVER (\n",
    "            PARTITION BY cohort_year \n",
    "            ORDER BY orderdate \n",
    "            ROWS BETWEEN UNBOUNDED PRECEDING AND CURRENT ROW\n",
    "        ) AS cumulative_revenue,\n",
    "        COUNT(*) OVER ( -- Added \n",
    "            PARTITION BY cohort_year \n",
    "            ORDER BY orderdate ROWS \n",
    "            BETWEEN UNBOUNDED PRECEDING AND CURRENT ROW\n",
    "        ) AS user_count\n",
    "    FROM cohort_summary\n",
    "    ORDER BY\n",
    "        cohort_year, \n",
    "        orderdate\n",
    ")\n",
    "\n",
    "SELECT\n",
    "    cohort_year,\n",
    "    orderdate,\n",
    "    cumulative_revenue,\n",
    "    user_count\n",
    "FROM rolling_ltv;"
   ]
  },
  {
   "cell_type": "markdown",
   "metadata": {},
   "source": [
    "![Query Results 5](../Resources/query_results/view_query_results_7.png)"
   ]
  },
  {
   "cell_type": "markdown",
   "metadata": {},
   "source": [
    "8. Caculate the rolling average LTV using: `cumulative_revenue / user_count`. "
   ]
  },
  {
   "cell_type": "code",
   "execution_count": null,
   "metadata": {
    "vscode": {
     "languageId": "sql"
    }
   },
   "outputs": [],
   "source": [
    "WITH cohort_summary AS (\n",
    "    SELECT\n",
    "        cohort_year,\n",
    "        orderdate,\n",
    "        SUM(total_net_revenue) AS total_revenue\n",
    "    FROM cohort_analysis\n",
    "    GROUP BY \n",
    "        cohort_year, \n",
    "        orderdate\n",
    "),\n",
    "\n",
    "rolling_ltv AS (\n",
    "    SELECT\n",
    "        cohort_year,\n",
    "        orderdate,\n",
    "        SUM(total_revenue) OVER (\n",
    "            PARTITION BY cohort_year \n",
    "            ORDER BY orderdate \n",
    "            ROWS BETWEEN UNBOUNDED PRECEDING AND CURRENT ROW\n",
    "        ) AS cumulative_revenue,\n",
    "        COUNT(*) OVER ( -- Added \n",
    "            PARTITION BY cohort_year \n",
    "            ORDER BY orderdate ROWS \n",
    "            BETWEEN UNBOUNDED PRECEDING AND CURRENT ROW\n",
    "        ) AS user_count\n",
    "    FROM cohort_summary\n",
    "    ORDER BY\n",
    "        cohort_year, \n",
    "        orderdate\n",
    ")\n",
    "\n",
    "SELECT\n",
    "    cohort_year,\n",
    "    orderdate,\n",
    "    cumulative_revenue,\n",
    "    user_count,\n",
    "    cumulative_revenue / user_count AS rolling_avg_ltv\n",
    "FROM rolling_ltv;"
   ]
  },
  {
   "cell_type": "markdown",
   "metadata": {},
   "source": [
    "![Query Results 5](../Resources/query_results/view_query_results_8.png)"
   ]
  },
  {
   "cell_type": "markdown",
   "metadata": {},
   "source": [
    "9. Add two new columns to get the rolling 7 day revenue and 7 day user count"
   ]
  },
  {
   "cell_type": "code",
   "execution_count": null,
   "metadata": {
    "vscode": {
     "languageId": "sql"
    }
   },
   "outputs": [],
   "source": [
    "WITH cohort_summary AS (\n",
    "    SELECT\n",
    "        cohort_year,\n",
    "        orderdate,\n",
    "        SUM(total_net_revenue) AS total_revenue\n",
    "    FROM cohort_analysis\n",
    "    GROUP BY \n",
    "        cohort_year, \n",
    "        orderdate\n",
    "),\n",
    "\n",
    "rolling_ltv AS (\n",
    "    SELECT\n",
    "        cohort_year,\n",
    "        orderdate,\n",
    "        SUM(total_revenue) OVER (\n",
    "            PARTITION BY cohort_year \n",
    "            ORDER BY orderdate \n",
    "            ROWS BETWEEN UNBOUNDED PRECEDING AND CURRENT ROW\n",
    "        ) AS cumulative_revenue,\n",
    "        COUNT(*) OVER (\n",
    "            PARTITION BY cohort_year \n",
    "            ORDER BY orderdate \n",
    "            ROWS BETWEEN UNBOUNDED PRECEDING AND CURRENT ROW\n",
    "        ) AS user_count,\n",
    "        SUM(total_revenue) OVER ( -- Added \n",
    "            PARTITION BY cohort_year \n",
    "            ORDER BY orderdate\n",
    "            ROWS BETWEEN 6 PRECEDING AND CURRENT ROW\n",
    "        ) AS rolling_7_day_revenue,\n",
    "        COUNT(*) OVER ( -- Added \n",
    "            PARTITION BY cohort_year \n",
    "            ORDER BY orderdate \n",
    "            ROWS BETWEEN 6 PRECEDING AND CURRENT ROW\n",
    "        ) AS rolling_7_day_user_count\n",
    "    FROM cohort_summary\n",
    "    ORDER BY\n",
    "        cohort_year,\n",
    "        orderdate\n",
    ")\n",
    "\n",
    "SELECT\n",
    "    cohort_year,\n",
    "    orderdate,\n",
    "    cumulative_revenue,\n",
    "    user_count,\n",
    "    cumulative_revenue / user_count AS rolling_avg_ltv,\n",
    "    rolling_7_day_revenue,\n",
    "    rolling_7_day_user_count\n",
    "FROM rolling_ltv;"
   ]
  },
  {
   "cell_type": "markdown",
   "metadata": {},
   "source": [
    "![Query Results 5](../Resources/query_results/view_query_results_9.png)"
   ]
  },
  {
   "cell_type": "markdown",
   "metadata": {},
   "source": [
    "10. Calulate the rolling 7 day average LTV using: `rolling_7_day_revenue / rolling_7_day_user_count`. Remove the `user_count` column."
   ]
  },
  {
   "cell_type": "code",
   "execution_count": null,
   "metadata": {
    "vscode": {
     "languageId": "sql"
    }
   },
   "outputs": [],
   "source": [
    "WITH cohort_summary AS (\n",
    "    SELECT\n",
    "        cohort_year,\n",
    "        orderdate,\n",
    "        SUM(total_net_revenue) AS total_revenue\n",
    "    FROM cohort_analysis\n",
    "    GROUP BY \n",
    "        cohort_year, \n",
    "        orderdate\n",
    "),\n",
    "\n",
    "rolling_ltv AS (\n",
    "    SELECT\n",
    "        cohort_year,\n",
    "        orderdate,\n",
    "        SUM(total_revenue) OVER (\n",
    "            PARTITION BY cohort_year \n",
    "            ORDER BY orderdate \n",
    "            ROWS BETWEEN UNBOUNDED PRECEDING AND CURRENT ROW\n",
    "        ) AS cumulative_revenue,\n",
    "        COUNT(*) OVER ( -- Added \n",
    "            PARTITION BY cohort_year \n",
    "            ORDER BY orderdate \n",
    "            ROWS BETWEEN UNBOUNDED PRECEDING AND CURRENT ROW\n",
    "        ) AS user_count,\n",
    "        SUM(total_revenue) OVER (\n",
    "            PARTITION BY cohort_year \n",
    "            ORDER BY orderdate\n",
    "            ROWS BETWEEN 6 PRECEDING AND CURRENT ROW\n",
    "        ) AS rolling_7_day_revenue,\n",
    "        COUNT(*) OVER ( -- Added \n",
    "            PARTITION BY cohort_year \n",
    "            ORDER BY orderdate \n",
    "            ROWS BETWEEN 6 PRECEDING AND CURRENT ROW\n",
    "        ) AS rolling_7_day_user_count\n",
    "    FROM cohort_summary\n",
    "    ORDER BY\n",
    "        cohort_year,\n",
    "        orderdate\n",
    ")\n",
    "\n",
    "SELECT\n",
    "    cohort_year,\n",
    "    orderdate,\n",
    "    cumulative_revenue,\n",
    "    cumulative_revenue / user_count AS rolling_avg_ltv,\n",
    "    rolling_7_day_revenue / rolling_7_day_user_count AS rolling_7_avg_ltv\n",
    "FROM rolling_ltv;"
   ]
  },
  {
   "cell_type": "markdown",
   "metadata": {},
   "source": [
    "![Query Results 5](../Resources/query_results/view_query_results_10.png)"
   ]
  }
 ],
 "metadata": {
  "language_info": {
   "name": "python"
  }
 },
 "nbformat": 4,
 "nbformat_minor": 2
}
