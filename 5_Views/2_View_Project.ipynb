{
 "cells": [
  {
   "cell_type": "markdown",
   "id": "3158eb66",
   "metadata": {},
   "source": [
    "<a target=\"_blank\" href=\"https://colab.research.google.com/github/lukebarousse/Int_SQL_Data_Analytics_Course/blob/main/5_Views/1_View_Intro.ipynb\">\n",
    "  <img src=\"https://colab.research.google.com/assets/colab-badge.svg\" alt=\"Open In Colab\"/>\n",
    "</a>"
   ]
  },
  {
   "cell_type": "markdown",
   "metadata": {},
   "source": [
    "# Views Project"
   ]
  },
  {
   "cell_type": "markdown",
   "metadata": {},
   "source": [
    "## Overview"
   ]
  },
  {
   "cell_type": "markdown",
   "metadata": {},
   "source": [
    "### 🥅 Analysis Goals\n",
    "\n",
    "Analyze cohort revenue and lifetime value (LTV) to uncover daily trends, mid-term fluctuations, future potential, and long-term customer value patterns.\n",
    "- **Cohort Revenue Insights:**  \n",
    "  - Track cumulative revenue up to each month to measure cohort growth over time.  \n",
    "  - Calculate remaining cumulative revenue from each order month to analyze future revenue potential.  \n",
    "  - Evaluate average LTV for each cohort using cumulative revenue while incorporating a 3-month rolling average."
   ]
  },
  {
   "cell_type": "markdown",
   "metadata": {},
   "source": [
    "### 📘 Concepts Covered\n",
    "\n",
    "- Use views"
   ]
  },
  {
   "cell_type": "markdown",
   "metadata": {},
   "source": [
    "---\n",
    "## Views"
   ]
  },
  {
   "cell_type": "markdown",
   "metadata": {},
   "source": [
    "### 📝 Notes\n",
    "\n",
    "`CREATE VIEW`\n",
    "\n",
    "- **Why Use Views in PostgreSQL?**  \n",
    "  - Simplifies complex queries by storing them as reusable, named objects.  \n",
    "  - Ensures consistency and readability when multiple queries rely on the same logic.  \n",
    "  - Enhances security by restricting access to specific rows/columns.  \n",
    "  - Improves maintainability by centralizing changes to the query logic.\n",
    "\n",
    "- **Syntax:**  \n",
    "    ```sql\n",
    "    CREATE VIEW view_name AS\n",
    "    SELECT\n",
    "        column1,\n",
    "        column2,\n",
    "        column3\n",
    "    FROM table_name\n",
    "    WHERE condition;\n",
    "    ```\n",
    "    - `CREATE VIEW view_name AS`: Creates a new view with the specified name.\n",
    "    - `SELECT`: Defines the query whose results will be stored in the view.\n",
    "    - `WHERE`: (Optional) Filters data included in the view.◊\n",
    "\n",
    "\n",
    "### 💻 Final Result\n",
    "\n",
    "- Calculates the average lifetime value (LTV) for each cohort based on cumulative revenue and user count.\n",
    "  - Computes a 30-day rolling average LTV for shorter timeframes to analyze recent changes in customer value.\n",
    "  - Provides insights into overall customer value trends and mid-term customer activity for cohorts."
   ]
  },
  {
   "cell_type": "markdown",
   "metadata": {},
   "source": [
    "#### Average and 30-Day Rolling LTV\n",
    "\n",
    "**`CREATE VIEWS`**\n",
    "\n",
    "1. Put the previous query into a CTE named `cohort_summary` and get the cumulative summary using a window function for the cohort year and order date.  \n",
    "\n",
    "   - Define a CTE `cohort_summary` to calculate the total daily revenue for each cohort.  \n",
    "        - Use `SUM(total_net_revenue)` to aggregate the total revenue per cohort and day.  \n",
    "        - Group the CTE by `cohort_year` and `orderdate` to summarize the data at the cohort and daily levels.  \n",
    "        - **🔔**: Get the order year month from `orderdate` using `DATE_TRUNC` and cast that as a `::date` to make it easier to read.\n",
    "   - **🔔**: In the main query, use `SUM(total_revenue) OVER (PARTITION BY cohort_year ORDER BY year_month ROWS BETWEEN UNBOUNDED PRECEDING AND CURRENT ROW)` to calculate the cumulative revenue for each cohort up to the current date.  \n",
    "        - Apply `PARTITION BY cohort_year` to ensure the cumulative calculation is done separately for each cohort.  \n",
    "        - Order by `year_month` within each cohort to maintain chronological order.  \n",
    "        - Select `cohort_year`, `year_month`, and `cumulative_revenue` for the final output.  \n",
    "        - Use `ORDER BY cohort_year, year_month` to display results in a sorted and logical order.  "
   ]
  },
  {
   "cell_type": "code",
   "execution_count": null,
   "metadata": {
    "vscode": {
     "languageId": "sql"
    }
   },
   "outputs": [],
   "source": [
    "WITH cohort_summary AS (\n",
    "    SELECT\n",
    "        cohort_year,\n",
    "        DATE_TRUNC('month', orderdate)::date AS year_month,\n",
    "        SUM(total_net_revenue) AS total_revenue\n",
    "    FROM cohort_analysis\n",
    "    GROUP BY \n",
    "        cohort_year, \n",
    "        year_month\n",
    ")\n",
    "    \n",
    "SELECT\n",
    "    cohort_year,\n",
    "    year_month,\n",
    "    SUM(total_revenue) OVER (\n",
    "        PARTITION BY cohort_year\n",
    "        ORDER BY year_month\n",
    "        ROWS BETWEEN UNBOUNDED PRECEDING AND CURRENT ROW -- Changed \n",
    "    ) AS cumulative_revenue\n",
    "FROM cohort_summary\n",
    "ORDER BY \n",
    "    cohort_year, \n",
    "    year_month"
   ]
  },
  {
   "cell_type": "markdown",
   "metadata": {},
   "source": [
    "![Query Results 1](../Resources/query_results/view_project_query_results_1.png)"
   ]
  },
  {
   "cell_type": "markdown",
   "metadata": {},
   "source": [
    "2. Put the previous main query into a CTE called `rolling_ltv` and select all of the results in the main query.  \n",
    "\n",
    "   - Define a CTE `cohort_summary` to calculate the total monthly revenue for each cohort.  \n",
    "        - Use `SUM(total_net_revenue)` to aggregate the total revenue per month, grouped by `cohort_year` and ` DATE_TRUNC('month', orderdate)::date`.  \n",
    "   - **🔔**: Add another CTE `rolling_ltv` to calculate the cumulative revenue for each cohort.  \n",
    "        - Use a window function `SUM(total_revenue) OVER (PARTITION BY cohort_year ORDER BY year_month ROWS BETWEEN UNBOUNDED PRECEDING AND CURRENT ROW)` to compute the cumulative revenue up to the current date for each cohort.  \n",
    "        - Order the cumulative results by `cohort_year` and `year_month` within the `rolling_ltv` CTE.  \n",
    "   - **🔔**: In the main query, use `SELECT * FROM rolling_ltv` to display all results, including `cohort_year`, `year_month`, and `cumulative_revenue`.  "
   ]
  },
  {
   "cell_type": "code",
   "execution_count": null,
   "metadata": {
    "vscode": {
     "languageId": "sql"
    }
   },
   "outputs": [],
   "source": [
    "WITH cohort_summary AS (\n",
    "    SELECT\n",
    "        cohort_year,\n",
    "        DATE_TRUNC('month', orderdate)::date AS year_month,\n",
    "        SUM(total_net_revenue) AS total_revenue\n",
    "    FROM cohort_analysis\n",
    "    GROUP BY \n",
    "        cohort_year, \n",
    "        year_month\n",
    "),\n",
    "\n",
    "-- Moved main query to CTE\n",
    "rolling_ltv AS (\n",
    "    SELECT\n",
    "        cohort_year,\n",
    "        year_month,\n",
    "        SUM(total_revenue) OVER (\n",
    "            PARTITION BY cohort_year\n",
    "            ORDER BY year_month \n",
    "            ROWS BETWEEN UNBOUNDED PRECEDING AND CURRENT ROW \n",
    "        ) AS cumulative_revenue\n",
    "    FROM cohort_summary\n",
    "    ORDER BY\n",
    "        cohort_year, \n",
    "        year_month\n",
    ")\n",
    "\n",
    "SELECT *\n",
    "FROM rolling_ltv"
   ]
  },
  {
   "cell_type": "markdown",
   "metadata": {},
   "source": [
    "![Query Results 2](../Resources/query_results/view_project_query_results_1.png)"
   ]
  },
  {
   "cell_type": "markdown",
   "metadata": {},
   "source": [
    "3. Add `COUNT` to count the number of months since the cohort’s first order and modify the main query to call specific columns.  \n",
    "\n",
    "   - Define a CTE `cohort_summary` to calculate the total monthly revenue for each cohort, grouping by `cohort_year` and `year_month`.  \n",
    "   - In the second CTE `rolling_ltv`:  \n",
    "     - `cumulative_revenue` using `SUM(total_revenue) OVER (PARTITION BY cohort_year ORDER BY year_month ROWS BETWEEN UNBOUNDED PRECEDING AND CURRENT ROW)`, which tracks the total accumulated revenue per cohort over time.  \n",
    "     - **🔔**: `months_since_start` using `COUNT(*) OVER (PARTITION BY cohort_year ORDER BY year_month ROWS BETWEEN UNBOUNDED PRECEDING AND CURRENT ROW)`, which counts the number of months since the start.\n",
    "   - The main query selects `cumulative_revenue` and `months_since_start` for each `cohort_year` and `year_month`.  "
   ]
  },
  {
   "cell_type": "code",
   "execution_count": null,
   "metadata": {
    "vscode": {
     "languageId": "sql"
    }
   },
   "outputs": [],
   "source": [
    "WITH cohort_summary AS (\n",
    "    SELECT\n",
    "        cohort_year,\n",
    "        DATE_TRUNC('month', orderdate)::date AS year_month,\n",
    "        SUM(total_net_revenue) AS total_revenue\n",
    "    FROM cohort_analysis\n",
    "    GROUP BY \n",
    "        cohort_year, \n",
    "        year_month\n",
    "),\n",
    "\n",
    "rolling_ltv AS (\n",
    "    SELECT\n",
    "        cohort_year,\n",
    "        year_month,\n",
    "        SUM(total_revenue) OVER (\n",
    "            PARTITION BY cohort_year \n",
    "            ORDER BY year_month \n",
    "            ROWS BETWEEN UNBOUNDED PRECEDING AND CURRENT ROW\n",
    "        ) AS cumulative_revenue,\n",
    "        COUNT(*) OVER ( -- Added \n",
    "            PARTITION BY cohort_year \n",
    "            ORDER BY year_month ROWS \n",
    "            BETWEEN UNBOUNDED PRECEDING AND CURRENT ROW\n",
    "        ) AS months_since_start\n",
    "    FROM cohort_summary\n",
    "    ORDER BY\n",
    "        cohort_year, \n",
    "        year_month\n",
    ")\n",
    "\n",
    "SELECT\n",
    "    cohort_year,\n",
    "    year_month,\n",
    "    cumulative_revenue,\n",
    "    months_since_start\n",
    "FROM rolling_ltv;"
   ]
  },
  {
   "cell_type": "markdown",
   "metadata": {},
   "source": [
    "![Query Results 3](../Resources/query_results/view_project_query_results_3.png)"
   ]
  },
  {
   "cell_type": "markdown",
   "metadata": {},
   "source": [
    "4. Calculate the rolling average LTV using: `cumulative_revenue / months_since_start`.  \n",
    "\n",
    "   - Define a CTE `cohort_summary` to calculate the total monthly revenue for each cohort, grouping by `cohort_year` and `year_month`.  \n",
    "   - In the second CTE `rolling_ltv`:  \n",
    "     - `cumulative_revenue` using `SUM(total_revenue) OVER (PARTITION BY cohort_year ORDER BY year_month ROWS BETWEEN UNBOUNDED PRECEDING AND CURRENT ROW)`, which tracks the total accumulated revenue per cohort over time.  \n",
    "     - `months_since_start` using `COUNT(*) OVER (PARTITION BY cohort_year ORDER BY year_month ROWS BETWEEN UNBOUNDED PRECEDING AND CURRENT ROW)`, which counts number of months since starting.\n",
    "   - The main query selects `cumulative_revenue` and `months_since_start` for each `cohort_year` and `year_month`.  \n",
    "   - **🔔**: In the main query, calculate the rolling average LTV by dividing `cumulative_revenue` by `months_since_start`.  \n",
    "        - Select `cohort_year`, `year_month`, `cumulative_revenue`, `months_since_start`, and the calculated `rolling_avg_ltv`.  "
   ]
  },
  {
   "cell_type": "code",
   "execution_count": null,
   "metadata": {
    "vscode": {
     "languageId": "sql"
    }
   },
   "outputs": [],
   "source": [
    "WITH cohort_summary AS (\n",
    "    SELECT\n",
    "        cohort_year,\n",
    "        DATE_TRUNC('month', orderdate)::date AS year_month,\n",
    "        SUM(total_net_revenue) AS total_revenue\n",
    "    FROM cohort_analysis\n",
    "    GROUP BY \n",
    "        cohort_year, \n",
    "        year_month\n",
    "),\n",
    "\n",
    "rolling_ltv AS (\n",
    "    SELECT\n",
    "        cohort_year,\n",
    "        year_month,\n",
    "        SUM(total_revenue) OVER (\n",
    "            PARTITION BY cohort_year \n",
    "            ORDER BY year_month \n",
    "            ROWS BETWEEN UNBOUNDED PRECEDING AND CURRENT ROW\n",
    "        ) AS cumulative_revenue,\n",
    "        COUNT(*) OVER ( -- Added \n",
    "            PARTITION BY cohort_year \n",
    "            ORDER BY year_month ROWS \n",
    "            BETWEEN UNBOUNDED PRECEDING AND CURRENT ROW\n",
    "        ) AS months_since_start\n",
    "    FROM cohort_summary\n",
    "    ORDER BY\n",
    "        cohort_year, \n",
    "        year_month\n",
    ")\n",
    "\n",
    "SELECT\n",
    "    cohort_year,\n",
    "    year_month,\n",
    "    cumulative_revenue,\n",
    "    months_since_start,\n",
    "    cumulative_revenue / months_since_start AS rolling_avg_ltv\n",
    "FROM rolling_ltv;"
   ]
  },
  {
   "cell_type": "markdown",
   "metadata": {},
   "source": [
    "![Query Results 4](../Resources/query_results/view_project_query_results_4.png)"
   ]
  },
  {
   "cell_type": "markdown",
   "metadata": {},
   "source": [
    "5. Add two new columns in the `rolling_ltv` CTE to get the rolling 7-day revenue.  \n",
    "\n",
    "     - Define a CTE `cohort_summary` to calculate daily total revenue per cohort, grouping by `cohort_year` and `year_month`.  \n",
    "     - In the second CTE `rolling_ltv` to compute the following metrics per cohort:  \n",
    "        - `cumulative_revenue` using `SUM(total_revenue) OVER (PARTITION BY cohort_year ORDER BY year_monthe ROWS BETWEEN UNBOUNDED PRECEDING AND CURRENT ROW)`, which tracks the total revenue accrued by the cohort over time.  \n",
    "        - `months_since_start` using `COUNT(*) OVER (PARTITION BY cohort_year ORDER BY year_month ROWS BETWEEN UNBOUNDED PRECEDING AND CURRENT ROW)`, which counts number of months since starting.   \n",
    "        - **🔔**: `rolling_3_month_revenue` using `SUM(total_revenue) OVER (PARTITION BY cohort_year ORDER BY year_month ROWS BETWEEN 2 PRECEDING AND CURRENT ROW)`, which captures total revenue for the last 3 months.  \n",
    "        - **🔔**: `rolling_3_month_num_months` using `COUNT(*) OVER (PARTITION BY cohort_year ORDER BY year_month ROWS BETWEEN 2 PRECEDING AND CURRENT ROW)`, which counts the number of months in the rolling 3-month period.  \n",
    "   - In the main query, include:  \n",
    "        - `cumulative_revenue` and `month_quarter`.  \n",
    "        - `rolling_avg_ltv`, calculated as `cumulative_revenue / months_since_start`.  \n",
    "        -  **🔔**: `rolling_3_month_revenue` and `rolling_3_month_num_months` to display the rolling metrics.  "
   ]
  },
  {
   "cell_type": "code",
   "execution_count": null,
   "metadata": {
    "vscode": {
     "languageId": "sql"
    }
   },
   "outputs": [],
   "source": [
    "WITH cohort_summary AS (\n",
    "    SELECT\n",
    "        cohort_year,\n",
    "        DATE_TRUNC('month', orderdate)::date AS year_month,\n",
    "        SUM(total_net_revenue) AS total_revenue\n",
    "    FROM cohort_analysis\n",
    "    GROUP BY \n",
    "        cohort_year, \n",
    "        year_month\n",
    "),\n",
    "\n",
    "rolling_ltv AS (\n",
    "    SELECT\n",
    "        cohort_year,\n",
    "        year_month,\n",
    "        SUM(total_revenue) OVER (\n",
    "            PARTITION BY cohort_year \n",
    "            ORDER BY year_month \n",
    "            ROWS BETWEEN UNBOUNDED PRECEDING AND CURRENT ROW\n",
    "        ) AS cumulative_revenue,\n",
    "        COUNT(*) OVER (\n",
    "            PARTITION BY cohort_year \n",
    "            ORDER BY year_month ROWS \n",
    "            BETWEEN UNBOUNDED PRECEDING AND CURRENT ROW\n",
    "        ) AS months_since_start,\n",
    "        SUM(total_revenue) OVER ( -- Added \n",
    "            PARTITION BY cohort_year \n",
    "            ORDER BY year_month\n",
    "            ROWS BETWEEN 2 PRECEDING AND CURRENT ROW\n",
    "        ) AS rolling_3_month_revenue,\n",
    "        COUNT(*) OVER ( -- Added \n",
    "            PARTITION BY cohort_year \n",
    "            ORDER BY year_month \n",
    "            ROWS BETWEEN 2 PRECEDING AND CURRENT ROW\n",
    "        ) AS rolling_3_month_num_months\n",
    "    FROM cohort_summary\n",
    "    ORDER BY\n",
    "        cohort_year,\n",
    "        year_month\n",
    ")\n",
    "\n",
    "SELECT\n",
    "    cohort_year,\n",
    "    year_month,\n",
    "    cumulative_revenue,\n",
    "    months_since_start,\n",
    "    cumulative_revenue / months_since_start AS rolling_avg_ltv,\n",
    "    rolling_3_month_revenue, -- Added\n",
    "    rolling_3_month_num_months -- Added\n",
    "FROM rolling_ltv;"
   ]
  },
  {
   "cell_type": "markdown",
   "metadata": {},
   "source": [
    "![Query Results 5](../Resources/query_results/view_project_query_results_5.png)"
   ]
  },
  {
   "cell_type": "markdown",
   "metadata": {},
   "source": [
    "6. Calculate the rolling 3-month average LTV using: `rolling_3_month_revenue  / rolling_3_month_rum_days`. Remove the `user_count` column.  \n",
    "    - Define a CTE `cohort_summary` to calculate daily total revenue per cohort, grouping by `cohort_year` and `year_month`.  \n",
    "    - In the second CTE `rolling_ltv` to compute the following metrics per cohort:  \n",
    "        - `cumulative_revenue` using `SUM(total_revenue) OVER (PARTITION BY cohort_year ORDER BY year_monthe ROWS BETWEEN UNBOUNDED PRECEDING AND CURRENT ROW)`, which tracks the total revenue accrued by the cohort over time.  \n",
    "        - `months_since_start` using `COUNT(*) OVER (PARTITION BY cohort_year ORDER BY year_month ROWS BETWEEN UNBOUNDED PRECEDING AND CURRENT ROW)`, which counts number of months since the start. \n",
    "        - `rolling_3_month_revenue` using `SUM(total_revenue) OVER (PARTITION BY cohort_year ORDER BY year_month ROWS BETWEEN 2 PRECEDING AND CURRENT ROW)`, which captures total revenue for the last 3 months.  \n",
    "        - `rolling_3_month_num_months` using `COUNT(*) OVER (PARTITION BY cohort_year ORDER BY year_month ROWS BETWEEN 2 PRECEDING AND CURRENT ROW)`, which counts the number of months in the rolling 3-month period. \n",
    "    - In the main query select `cohort_year`, `year_month`, `cumulative_revenue`, `rolling_avg_ltv`, and `rolling_3_month_avg_ltv`:  \n",
    "        - Include `cohort_year` and `cumulative_revenue` for reference.  \n",
    "        - Calculate `rolling_avg_ltv` as `cumulative_revenue / months_since_start`.  \n",
    "        - **🔔**: Calculate `rolling_3_month_avg_ltv` as `rolling_3_month_revenue / rolling_3_month_num_months`.  \n",
    "        - **🔔**: Remove the `month_quarter`, `rolling_3_month_revenue`, `rolling_3_month_num_months` columns from the final output.  \n"
   ]
  },
  {
   "cell_type": "code",
   "execution_count": null,
   "metadata": {
    "vscode": {
     "languageId": "sql"
    }
   },
   "outputs": [],
   "source": [
    "WITH cohort_summary AS (\n",
    "    SELECT\n",
    "        cohort_year,\n",
    "        DATE_TRUNC('month', orderdate)::date AS year_month,\n",
    "        SUM(total_net_revenue) AS total_revenue\n",
    "    FROM cohort_analysis\n",
    "    GROUP BY \n",
    "        cohort_year, \n",
    "        year_month\n",
    "),\n",
    "\n",
    "rolling_ltv AS (\n",
    "    SELECT\n",
    "        cohort_year,\n",
    "        year_month,\n",
    "        SUM(total_revenue) OVER (\n",
    "            PARTITION BY cohort_year \n",
    "            ORDER BY year_month \n",
    "            ROWS BETWEEN UNBOUNDED PRECEDING AND CURRENT ROW\n",
    "        ) AS cumulative_revenue,\n",
    "        COUNT(*) OVER (\n",
    "            PARTITION BY cohort_year \n",
    "            ORDER BY year_month ROWS \n",
    "            BETWEEN UNBOUNDED PRECEDING AND CURRENT ROW\n",
    "        ) AS months_since_start,\n",
    "        SUM(total_revenue) OVER ( -- Added \n",
    "            PARTITION BY cohort_year \n",
    "            ORDER BY year_month\n",
    "            ROWS BETWEEN 2 PRECEDING AND CURRENT ROW\n",
    "        ) AS rolling_3_month_revenue,\n",
    "        COUNT(*) OVER ( -- Added \n",
    "            PARTITION BY cohort_year \n",
    "            ORDER BY year_month \n",
    "            ROWS BETWEEN 2 PRECEDING AND CURRENT ROW\n",
    "        ) AS rolling_3_month_num_months\n",
    "    FROM cohort_summary\n",
    "    ORDER BY\n",
    "        cohort_year,\n",
    "        year_month\n",
    ")\n",
    "\n",
    "SELECT\n",
    "    cohort_year,\n",
    "    year_month,\n",
    "    cumulative_revenue,\n",
    "    cumulative_revenue / months_since_start AS rolling_avg_ltv,\n",
    "    rolling_3_month_revenue / rolling_3_month_num_months AS rolling_3_month_avg_ltv --Added \n",
    "FROM rolling_ltv;"
   ]
  },
  {
   "cell_type": "markdown",
   "metadata": {},
   "source": [
    "![Query Results 6](../Resources/query_results/view_project_query_results_6.png)"
   ]
  }
 ],
 "metadata": {
  "language_info": {
   "name": "python"
  }
 },
 "nbformat": 4,
 "nbformat_minor": 2
}
