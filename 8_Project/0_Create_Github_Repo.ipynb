{
 "cells": [
  {
   "cell_type": "markdown",
   "metadata": {},
   "source": [
    "# Create Github Repo"
   ]
  },
  {
   "cell_type": "markdown",
   "metadata": {},
   "source": [
    "## Create a Repository\n",
    "\n",
    "> This section on creating a repository is optional but HIGHLY RECOMMENDED; A repository isn’t needed to complete the project, but Git (and GitHub) are valuable tools to know when working with coding tools like SQL."
   ]
  },
  {
   "cell_type": "markdown",
   "metadata": {},
   "source": [
    "## Git Vs GitHub\n",
    "\n",
    "\n",
    "\n",
    "| git                        | Github                       |\n",
    "|----------------------------|------------------------------|\n",
    "| - 🛠️ Version control system | - 🏠 Hosts Git repositories   |\n",
    "| - 💻 Maintain local repos   | - 🌐 Web Browser interface    |\n",
    "| - 📜 Command-line tool      | - 🌐 Social coding platform   |\n",
    "| - 🔑 Open-source            | - 🤝 Collaborates on projects |\n",
    "|                            | - 🔒 Proprietary service      |"
   ]
  },
  {
   "cell_type": "markdown",
   "metadata": {},
   "source": [
    "## What is a repository?\n",
    "\n",
    "A **repository** is a personal library for your project:\n",
    "\n",
    "- You can keep, manage, and record every change to your files.\n",
    "- It acts as a safe space to revisit older versions.\n",
    "- You can also share your progress with others."
   ]
  },
  {
   "cell_type": "markdown",
   "metadata": {},
   "source": [
    "### Common Terms\n",
    "\n",
    "- **Working Directory:** The folder for your project files where you edit code.\n",
    "- **Staging Area:** A temporary space where you prepare a set of changes for a commit.\n",
    "- **Local Repository:** The hidden `.git` folder containing the entire project history: all committed versions of your code."
   ]
  },
  {
   "cell_type": "markdown",
   "metadata": {},
   "source": [
    "\n",
    "<img src=\"../Resources/images/8.0_github_repo_1.png\" alt=\"Github Repo\" style=\"width: 80%; height: auto;\">\n",
    "\n",
    "git <-> Github\n",
    "\n",
    "| local repository                | remote repository            |\n",
    "|---------------------------------|------------------------------|\n",
    "| - 💻 Stored on local machine     | - ☁️ Stored on server         |\n",
    "| - 🛠️ Use Git for version control | - 🌐 Collaborative tool       |\n",
    "| - 🔓 No internet needed          | - 🌐 Internet required        |\n",
    "| - 🚀 Faster operations           | - 📡 Accessible from anywhere |\n",
    "| - 🌱 Initial development         | - 🌐 Team collaboration       |\n",
    "\n",
    "\n",
    "> ⚠️ **Note**: This is an oversimplification claiming local repositories are exclusive to git and vice versa for GitHub."
   ]
  },
  {
   "cell_type": "markdown",
   "metadata": {},
   "source": [
    "## What will we be doing?\n",
    "\n",
    "1. Install Git\n",
    "2. Setup GitHub\n",
    "3. Initialize the local repository\n",
    "4. Push the repository to GitHub"
   ]
  },
  {
   "cell_type": "markdown",
   "metadata": {},
   "source": [
    "### Prerequisites\n",
    "\n",
    "#### Install Git\n",
    "\n",
    "🔶 **Git:** A version control system that tracks changes in computer files and coordinates work on those files among multiple people\n",
    "\n",
    "[Git - Downloads](https://git-scm.com/downloads)\n",
    "\n",
    "#### 👾 Create a GitHub Account\n",
    "\n",
    "👾 **GitHub:** A cloud-based hosting service that lets you manage Git repositories, facilitating collaboration and version control\n",
    "\n",
    "[GitHub](https://github.com/signup)\n",
    "\n",
    "**⚠️ NOTE:** Github will be the location of our **remote repository**\n",
    "\n",
    "🎮 A **remote repository** in Git is a version-controlled codebase hosted on a network or the internet, allowing multiple users to push, pull, and manage the project's code and history from different locations. GitHub, GitLab, and Bitbucket are popular platforms hosting these repositories."
   ]
  },
  {
   "cell_type": "markdown",
   "metadata": {},
   "source": [
    "### Create Local Repository\n",
    "\n",
    "1. **VS Code (recommended)**\n",
    "2. **GitHub.com** \n",
    "\n",
    "#### 📱 VS Code\n",
    "\n",
    "1. Select ‘Source Control’ in the Activity Bar\n",
    "2. Click ‘Publish to GitHub’\n",
    "    1. ⚠️ Note:\n",
    "        1. **Initialize Repository:** This initializes a git repository only\n",
    "        2. **Publish to GitHub:** This publishes to GitHub AND initializes a git repository\n",
    "            \n",
    "            <img src=\"../Resources/images/8.0_github_repo_2.png\" alt=\"Github Repo\" style=\"width: 80%; height: auto;\">\n",
    "            \n",
    "3. Sign in to GitHub account (if applicable) to authorize\n",
    "\n",
    "#### 👾 GitHub.com\n",
    "\n",
    "Create the new repository on [GitHub](https://github.com/); If you already have a GitHub repository you want to use, go directly to Step 4.\n",
    "\n",
    "1. **Sign In** to GitHub.\n",
    "2. Click the **+** icon in the upper-right corner and select **New repository**.\n",
    "    \n",
    "    <img src=\"../Resources/images/8.0_github_repo_3.png\" alt=\"Github Repo\" style=\"width: 80%; height: auto;\">\n",
    "    \n",
    "3. Create the repository\n",
    "    \n",
    "    <img src=\"../Resources/images/8.0_github_repo_4.png\" alt=\"Github Repo\" style=\"width: 80%; height: auto;\">\n",
    "    \n",
    "    1. Enter a **Repository name** and an optional **Description**.\n",
    "    2. Choose the repository **Visibility** as public (since this will be a public project).\n",
    "    3. Check the box for ‘Add a README file’ to add a README file that you’ll later fill out with information on your project.\n",
    "4. Click **Create Repository**."
   ]
  },
  {
   "cell_type": "markdown",
   "metadata": {},
   "source": [
    "## **🔄** Managing Changes\n",
    "\n",
    "### 📱 VS Code\n",
    "\n",
    "1. **Make Changes**: Edit your files in VS Code as needed\n",
    "2. **Commit to master**:\n",
    "    - Open the Source Control panel in VS Code on the Activity Bar\n",
    "    - You'll see the changes listed in the Source Control panel\n",
    "    - Stage your changes by clicking the '+' sign or \"Stage Changes\" option\n",
    "    - Add a commit message in the message box at the top of the Source Control panel\n",
    "    - Commit to the master branch (or any other branch you're working on) by clicking the checkmark icon or using the \"Commit\" option\n",
    "3. **Push Changes**: With the commit made, use the \"...\" menu in the Source Control panel to find and click **Push** to update the remote repository on GitHub with your changes"
   ]
  },
  {
   "cell_type": "markdown",
   "metadata": {},
   "source": [
    "## 📖 Terminology\n",
    "\n",
    "| ⬆️ Push Changes               | ⬇️ Pull Changes              |\n",
    "|------------------------------|-----------------------------|\n",
    "| - 🚀 Send local changes       | - 📥 Fetch remote changes    |\n",
    "| - 🌐 Update remote repository | - 💻 Update local repository |\n",
    "| - 🛠️ Command: **`git push`**  | - 🛠️ Command: **`git pull`** |\n",
    "| - 📡 Upload new commits       | - 📉 Download new commits    |\n",
    "| - 🔄 Sync with server         | - 🔄 Sync with local         |\n",
    "\n",
    "## 📺 Additional Resources\n",
    "\n",
    "If you want a more comprehensive explanation of Git (with Github), check out this video:\n",
    "\n",
    "[Standout as a Data Analyst with THIS TOOL](https://youtu.be/aw14VK9sN2s?si=2bN_CsiVmsJvmAYR)"
   ]
  },
  {
   "cell_type": "markdown",
   "metadata": {},
   "source": [
    "## How to Share a Project\n",
    "\n",
    "1. Copy the link to your Github Repo\n",
    "\n",
    "    <img src=\"../Resources/images/8.0_github_repo_5.gif\" alt=\"Github Repo\" style=\"width: 80%; height: auto;\">\n",
    "\n",
    "2. Then share your share on...\n",
    "    - LinkedIn posts\n",
    "    - LinkedIn profile \n",
    "    - Resume (e.g. linking your project under a specific Project section in your resume)\n",
    "    - Personal website "
   ]
  }
 ],
 "metadata": {
  "language_info": {
   "name": "python"
  }
 },
 "nbformat": 4,
 "nbformat_minor": 2
}
