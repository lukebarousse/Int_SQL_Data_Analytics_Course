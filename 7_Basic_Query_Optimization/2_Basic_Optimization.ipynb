{
 "cells": [
  {
   "cell_type": "markdown",
   "id": "c405ba79",
   "metadata": {},
   "source": [
    "<a target=\"_blank\" href=\"https://colab.research.google.com/github/lukebarousse/Int_SQL_Data_Analytics_Course/blob/main/7_Basic_Query_Optimization/2_Basic_Optimization.ipynb\">\n",
    "  <img src=\"https://colab.research.google.com/assets/colab-badge.svg\" alt=\"Open In Colab\"/>\n",
    "</a>"
   ]
  },
  {
   "cell_type": "markdown",
   "metadata": {},
   "source": [
    "# Basic Optimization"
   ]
  },
  {
   "cell_type": "markdown",
   "metadata": {},
   "source": [
    "## Overview"
   ]
  },
  {
   "cell_type": "markdown",
   "metadata": {},
   "source": [
    "### 🥅 Analysis Goals\n",
    "\n",
    "- What we’re going to use for this dataset to do X e.g. Use the following in order to explore a dataset on experience and salaries\n",
    "    - Major topic 1\n",
    "    - Major topic 2\n",
    "    - Major topic 3\n",
    "- The end goal of this is e.g. Identify which jobs meet our expectations of years experience and total salary."
   ]
  },
  {
   "cell_type": "markdown",
   "metadata": {},
   "source": [
    "### 📘 Concepts Covered\n",
    "\n",
    "General concepts we’re going to cover\n",
    "\n",
    "- Concept 1\n",
    "- Concept 2\n",
    "- Concept 3"
   ]
  },
  {
   "cell_type": "markdown",
   "metadata": {},
   "source": [
    "---\n",
    "## Major Topic"
   ]
  },
  {
   "cell_type": "markdown",
   "metadata": {},
   "source": [
    "### 📝 Notes\n",
    "\n",
    "- Query optimization improves SQL performance by reducing execution time and resource usage.\n",
    "\n",
    "**Basic Optimization Tips**  \n",
    "- Use `INNER JOIN` instead of `LEFT JOIN` when unmatched rows aren’t needed.  \n",
    "- Filter early using `WHERE`, not `HAVING`, to reduce processed rows.  \n",
    "- Avoid `SELECT *`, select only required columns.  \n",
    "- Use `UNION` instead of `UNION ALL` when removing duplicates is acceptable.  \n",
    "- Pre-filter data before `GROUP BY` and `DISTINCT` to avoid unnecessary calculations.  \n",
    "- Replace `OR` conditions with `IN` for better index usage.  \n",
    "- Use `EXISTS` instead of `IN` for subqueries on large datasets.  \n",
    "- Ensure data types match in comparisons to prevent slow implicit conversions.  \n",
    "\n",
    "### 💻 Final Result\n",
    "\n",
    "- Optimize the query to run more efficiently. "
   ]
  },
  {
   "cell_type": "markdown",
   "metadata": {},
   "source": [
    "#### Query Optimization\n",
    "\n",
    "**Basic Optimization**\n",
    "\n",
    "1. Go into specific step / what we’re going to do. E.g. Use the `=` operator to set a new column to be equal to Experience"
   ]
  },
  {
   "cell_type": "code",
   "execution_count": null,
   "metadata": {
    "vscode": {
     "languageId": "sql"
    }
   },
   "outputs": [],
   "source": [
    "WITH sales_data AS (\n",
    "    SELECT\n",
    "        customerkey,\n",
    "        EXTRACT(YEAR FROM MIN(orderdate)) AS cohort_year,\n",
    "        SUM(quantity * netprice * exchangerate) AS net_revenue,\n",
    "        COUNT(orderkey) AS num_orders\n",
    "    FROM sales\n",
    "    GROUP BY customerkey\n",
    ")\n",
    "SELECT\n",
    "    c.customerkey,\n",
    "    s.cohort_year,\n",
    "    CONCAT(TRIM(c.givenname), ' ', TRIM(c.surname)) AS cleaned_name,\n",
    "    COALESCE(s.net_revenue, 0) AS net_revenue,\n",
    "    COALESCE(s.num_orders, 0) AS total_orders,\n",
    "    s.net_revenue / NULLIF(s.num_orders, 0) AS avg_order_value\n",
    "FROM customer c\n",
    "LEFT JOIN sales_data s ON c.customerkey = s.customerkey;\n"
   ]
  }
 ],
 "metadata": {
  "language_info": {
   "name": "python"
  }
 },
 "nbformat": 4,
 "nbformat_minor": 2
}
