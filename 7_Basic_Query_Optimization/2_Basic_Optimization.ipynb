{
 "cells": [
  {
   "cell_type": "markdown",
   "id": "c405ba79",
   "metadata": {},
   "source": [
    "<a target=\"_blank\" href=\"https://colab.research.google.com/github/lukebarousse/Int_SQL_Data_Analytics_Course/blob/main/7_Basic_Query_Optimization/2_Basic_Optimization.ipynb\">\n",
    "  <img src=\"https://colab.research.google.com/assets/colab-badge.svg\" alt=\"Open In Colab\"/>\n",
    "</a>"
   ]
  },
  {
   "cell_type": "markdown",
   "metadata": {},
   "source": [
    "# Basic Optimization"
   ]
  },
  {
   "cell_type": "markdown",
   "metadata": {},
   "source": [
    "## Overview"
   ]
  },
  {
   "cell_type": "markdown",
   "metadata": {},
   "source": [
    "### 🥅 Analysis Goals\n",
    "\n",
    "- What we’re going to use for this dataset to do X e.g. Use the following in order to explore a dataset on experience and salaries\n",
    "    - Major topic 1\n",
    "    - Major topic 2\n",
    "    - Major topic 3\n",
    "- The end goal of this is e.g. Identify which jobs meet our expectations of years experience and total salary."
   ]
  },
  {
   "cell_type": "markdown",
   "metadata": {},
   "source": [
    "### 📘 Concepts Covered\n",
    "\n",
    "General concepts we’re going to cover\n",
    "\n",
    "- Concept 1\n",
    "- Concept 2\n",
    "- Concept 3"
   ]
  },
  {
   "cell_type": "markdown",
   "metadata": {},
   "source": [
    "---\n",
    "## Major Topic"
   ]
  },
  {
   "cell_type": "markdown",
   "metadata": {},
   "source": [
    "### 📝 Notes\n",
    "\n",
    "- Add in specific notes\n",
    "\n",
    "### 💻 Final Result\n",
    "\n",
    "- Describe what the final result should be e.g. return the retention by X cohort."
   ]
  },
  {
   "cell_type": "markdown",
   "metadata": {},
   "source": [
    "#### Problem Description\n",
    "\n",
    "**`FUNCTION` / Concept Covered**\n",
    "\n",
    "1. Go into specific step / what we’re going to do. E.g. Use the `=` operator to set a new column to be equal to Experience"
   ]
  },
  {
   "cell_type": "code",
   "execution_count": null,
   "metadata": {
    "vscode": {
     "languageId": "sql"
    }
   },
   "outputs": [],
   "source": [
    "SELECT\n",
    "    orderdate,\n",
    "    SUM(quantity * netprice * exchangerate) OVER (ORDER BY orderdate ROWS BETWEEN CURRENT ROW AND UNBOUNDED FOLLOWING) AS remaining_revenue\n",
    "FROM sales;"
   ]
  },
  {
   "cell_type": "code",
   "execution_count": null,
   "metadata": {
    "vscode": {
     "languageId": "sql"
    }
   },
   "outputs": [],
   "source": [
    "WITH cohort_analysis AS (\n",
    "    SELECT \n",
    "        EXTRACT(YEAR FROM MIN(orderdate)) AS cohort_year,\n",
    "        orderdate,\n",
    "        SUM(quantity * netprice * exchangerate) AS total_net_revenue\n",
    "    FROM sales\n",
    "    GROUP BY \n",
    "        orderdate\n",
    ")\n",
    "\n",
    "SELECT\n",
    "    cohort_year,\n",
    "    orderdate,\n",
    "    SUM(total_net_revenue) OVER ( -- Update\n",
    "        ORDER BY orderdate \n",
    "        ROWS BETWEEN CURRENT ROW AND UNBOUNDED FOLLOWING -- Updated\n",
    "    ) AS remaining_net__revenue\n",
    "FROM cohort_analysis;\n"
   ]
  }
 ],
 "metadata": {
  "language_info": {
   "name": "python"
  }
 },
 "nbformat": 4,
 "nbformat_minor": 2
}
