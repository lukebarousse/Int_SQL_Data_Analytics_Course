{
 "cells": [
  {
   "cell_type": "markdown",
   "id": "750cf4a2",
   "metadata": {},
   "source": [
    "<a target=\"_blank\" href=\"https://colab.research.google.com/github/lukebarousse/Int_SQL_Data_Analytics_Course/blob/main/7_Basic_Query_Optimization/1_Explain.ipynb\">\n",
    "  <img src=\"https://colab.research.google.com/assets/colab-badge.svg\" alt=\"Open In Colab\"/>\n",
    "</a>"
   ]
  },
  {
   "cell_type": "markdown",
   "metadata": {},
   "source": [
    "# Explain"
   ]
  },
  {
   "cell_type": "markdown",
   "metadata": {},
   "source": [
    "## Overview"
   ]
  },
  {
   "cell_type": "markdown",
   "metadata": {},
   "source": [
    "### 🥅 Analysis Goals\n",
    "\n",
    "Analyze customer-level revenue, order behavior, and cohort classification to assess purchasing patterns and customer value.  \n",
    "\n",
    "- **Plan Query Execution:** Use `EXPLAIN` to understand how PostgreSQL will execute the query, identifying potential inefficiencies like sequential scans or costly joins.  \n",
    "- **Measure Actual Query Performance:** Use `EXPLAIN ANALYZE` to execute the query while collecting real performance metrics, comparing estimated vs. actual execution times for optimization."
   ]
  },
  {
   "cell_type": "markdown",
   "metadata": {},
   "source": [
    "### 📘 Concepts Covered\n",
    "\n",
    "- `EXPLAIN`\n",
    "- `EXPLAIN ANALYZE`"
   ]
  },
  {
   "cell_type": "markdown",
   "metadata": {},
   "source": [
    "---\n",
    "## EXPLAIN"
   ]
  },
  {
   "cell_type": "markdown",
   "metadata": {},
   "source": [
    "### 📝 Notes\n",
    "\n",
    "**`EXPLAIN`**  \n",
    "\n",
    "- **EXPLAIN**: Displays the execution plan of a SQL query, showing how PostgreSQL will execute it.\n",
    "\n",
    "- Syntax:  \n",
    "  ```sql\n",
    "  EXPLAIN SELECT column FROM table WHERE condition;\n",
    "  ```\n",
    "  \n",
    "- **`EXPLAIN ANALYZE`**: Executes the query and provides actual execution times, row estimates, and other runtime details.\n",
    "  ```sql\n",
    "  EXPLAIN ANALYZE SELECT column FROM table WHERE condition;\n",
    "  ```\n",
    "\n",
    "- Helps with query optimization by showing:\n",
    "  - Index usage\n",
    "  - Join methods (`Nested Loop`, `Hash Join`, `Merge Join`)\n",
    "  - Sequential vs. index scans\n",
    "  - Estimated vs. actual row counts\n",
    "\n",
    "- **Example Output** (simplified):\n",
    "  ```\n",
    "  Seq Scan on users  (cost=0.00..18.50 rows=850 width=64)\n",
    "  ```\n",
    "  - `Seq Scan`: PostgreSQL is doing a sequential scan (no index used).\n",
    "  - `cost`: Estimated startup and total cost.\n",
    "  - `rows`: Estimated number of rows.\n",
    "  - `width`: Estimated row size in bytes.\n",
    "\n",
    "- **Use Cases**:\n",
    "  - Debugging slow queries\n",
    "  - Checking if indexes are being used\n",
    "  - Understanding query performance bottlenecks\n",
    "\n",
    "### 💻 Final Result\n",
    "\n",
    "- Understand how PostgreSQL plans to execute the query without running it, helping identify potential inefficiencies like sequential scans or costly joins.\n",
    "- Execute the query while collecting actual performance metrics, allowing comparison between estimated and real execution times to optimize query performance.\n",
    "\n",
    "### 💡 Note\n",
    "\n",
    "For the queries below since we've already done them the explanation is explaining the results of the `EXPLAIN` plan."
   ]
  },
  {
   "cell_type": "markdown",
   "metadata": {},
   "source": [
    "#### Basic Execution Plan\n",
    "\n",
    "**`EXPLAIN`**\n",
    "\n",
    "1. Using the last query from `String Formatting` chapter, add `EXPLAIN` to the beginning of the query. \n",
    "    - **Hash Left Join:** PostgreSQL joins `customer` (104,990 rows) and `sales_data` (37,024 rows).  \n",
    "    - **Sequential Scan on `customer`:** Scans all rows instead of using an index.  \n",
    "    - **Hash Aggregation on `sales`:** Groups `sales` (199,873 rows) by `customerkey`, calculating revenue, orders, and cohort year.  \n",
    "    - **Sequential Scan on `sales`:** No filtering, so the entire table is scanned.  "
   ]
  },
  {
   "cell_type": "code",
   "execution_count": null,
   "metadata": {
    "vscode": {
     "languageId": "sql"
    }
   },
   "outputs": [],
   "source": [
    "EXPLAIN\n",
    "WITH sales_data AS (\n",
    "    SELECT\n",
    "        customerkey,\n",
    "        EXTRACT(YEAR FROM MIN(orderdate)) AS cohort_year,\n",
    "        SUM(quantity * netprice * exchangerate) AS net_revenue,\n",
    "        COUNT(orderkey) AS num_orders\n",
    "    FROM sales\n",
    "    GROUP BY customerkey\n",
    ")\n",
    "SELECT\n",
    "    c.customerkey,\n",
    "    s.cohort_year,\n",
    "    CONCAT(TRIM(c.givenname), ' ', TRIM(c.surname)) AS cleaned_name,\n",
    "    COALESCE(s.net_revenue, 0) AS net_revenue,\n",
    "    COALESCE(s.num_orders, 0) AS total_orders,\n",
    "    s.net_revenue / NULLIF(s.num_orders, 0) AS avg_order_value\n",
    "FROM customer c\n",
    "LEFT JOIN sales_data s ON c.customerkey = s.customerkey;\n"
   ]
  },
  {
   "cell_type": "markdown",
   "metadata": {},
   "source": [
    "<img src=\"../Resources/query_results/7_explain_1.png\" alt=\"Query Results 1\" style=\"width: 90%; height: auto;\">"
   ]
  },
  {
   "cell_type": "markdown",
   "metadata": {},
   "source": [
    "2. To view the `EXPLAIN` plan visually go to the `E` option and click it.\n",
    "    - **Sequential Scan on `sales`** – Reads all rows without an index, leading to a full table scan.  \n",
    "    - **Aggregation on `sales`** – Groups data by `customerkey` to calculate cohort year, net revenue, and order count.  \n",
    "    - **SubQuery Scan (Materialized CTE)** – Stores aggregated results in a temporary set instead of inlining.  \n",
    "    - **Hash on `sales_data`** – Builds a hash table for efficient joining.  \n",
    "    - **Sequential Scan on `customer`** – Reads all rows without an index.  \n",
    "    - **Hash Left Join (`customer` → `sales_data`)** – Joins `customer` with hashed `sales_data` for efficiency.  "
   ]
  },
  {
   "cell_type": "markdown",
   "metadata": {},
   "source": [
    "<img src=\"../Resources/query_results/7_explain_3.gif\" alt=\"Query Results 1\" style=\"width: 90%; height: auto;\">"
   ]
  },
  {
   "cell_type": "markdown",
   "metadata": {},
   "source": [
    "<img src=\"../Resources/query_results/7_explain_3.png\" alt=\"Query Results 1\" style=\"width: 90%; height: auto;\">"
   ]
  },
  {
   "cell_type": "markdown",
   "metadata": {},
   "source": [
    "#### Full Execution Plan\n",
    "\n",
    "**`EXPLAIN ANALYZE`**\n",
    "\n",
    "1. Using `EXPLAIN ANALYZE` to the beginning of the query. \n",
    "    - **Total Execution Time:** **101.254 ms.**  \n",
    "    - **Hash Join Execution:** **60.479 to 99.183 ms**, most of the query cost is in hashing `sales_data`.  \n",
    "    - **Subquery Scan on `sales_data`:** **50.604 to 57.226 ms**, shows the CTE is materialized.  \n",
    "    - **Sequential Scan on `sales`:** **0.008 to 10.471 ms**, confirms full table scan.  "
   ]
  },
  {
   "cell_type": "code",
   "execution_count": null,
   "metadata": {
    "vscode": {
     "languageId": "sql"
    }
   },
   "outputs": [],
   "source": [
    "EXPLAIN ANALYZE\n",
    "WITH sales_data AS (\n",
    "    SELECT\n",
    "        customerkey,\n",
    "        EXTRACT(YEAR FROM MIN(orderdate)) AS cohort_year,\n",
    "        SUM(quantity * netprice * exchangerate) AS net_revenue,\n",
    "        COUNT(orderkey) AS num_orders\n",
    "    FROM sales\n",
    "    GROUP BY customerkey\n",
    ")\n",
    "SELECT\n",
    "    c.customerkey,\n",
    "    s.cohort_year,\n",
    "    CONCAT(TRIM(c.givenname), ' ', TRIM(c.surname)) AS cleaned_name,\n",
    "    COALESCE(s.net_revenue, 0) AS net_revenue,\n",
    "    COALESCE(s.num_orders, 0) AS total_orders,\n",
    "    s.net_revenue / NULLIF(s.num_orders, 0) AS avg_order_value\n",
    "FROM customer c\n",
    "LEFT JOIN sales_data s ON c.customerkey = s.customerkey;\n"
   ]
  },
  {
   "cell_type": "markdown",
   "metadata": {},
   "source": [
    "<img src=\"../Resources/query_results/7_explain_2.png\" alt=\"Query Results 1\" style=\"width: 90%; height: auto;\">"
   ]
  }
 ],
 "metadata": {
  "language_info": {
   "name": "python"
  }
 },
 "nbformat": 4,
 "nbformat_minor": 2
}
