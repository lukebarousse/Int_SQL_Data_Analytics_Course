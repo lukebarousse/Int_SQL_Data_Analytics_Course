{
 "cells": [
  {
   "cell_type": "markdown",
   "metadata": {},
   "source": [
    "# Lag / Lead"
   ]
  },
  {
   "cell_type": "markdown",
   "metadata": {},
   "source": [
    "## Definition\n",
    "\n",
    "Gets values from either the previous or next rows. \n",
    "\n",
    "## Functions\n",
    "\n",
    "- `LAG()`: Retrieves data from a previous row in the same result set.\n",
    "- `LEAD()`: Retrieves data from the following row in the same result set."
   ]
  }
 ],
 "metadata": {
  "language_info": {
   "name": "python"
  }
 },
 "nbformat": 4,
 "nbformat_minor": 2
}
