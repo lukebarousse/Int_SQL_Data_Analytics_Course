{
 "cells": [
  {
   "cell_type": "markdown",
   "metadata": {},
   "source": [
    "# Aggregations over a Window"
   ]
  },
  {
   "cell_type": "markdown",
   "metadata": {},
   "source": [
    "## Definition\n",
    "\n",
    "Common Functions can be applied over a window.\n",
    "\n",
    "## Functions\n",
    "\n",
    "Below are some common functions used: \n",
    "\n",
    "- `SUM()`: Sums up all of the values \n",
    "- `AVG()`: Calculates the average of the values\n",
    "- `COUNT()`: Counts the values, `DISTINCT` can be added to get the unique count."
   ]
  }
 ],
 "metadata": {
  "language_info": {
   "name": "python"
  }
 },
 "nbformat": 4,
 "nbformat_minor": 2
}
