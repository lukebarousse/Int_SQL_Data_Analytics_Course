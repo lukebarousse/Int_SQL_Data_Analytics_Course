{
 "cells": [
  {
   "cell_type": "markdown",
   "metadata": {},
   "source": [
    "# Running Totals"
   ]
  },
  {
   "cell_type": "markdown",
   "metadata": {},
   "source": [
    "## Definition\n",
    "\n",
    "Calculates cumulative totals.\n",
    "\n",
    "## Syntax\n",
    "\n",
    "- `SUM() OVER(ORDER BY column)`\n",
    "- Using partition:  `SUM() OVER(PARTITION BY column ORDER BY column)`"
   ]
  }
 ],
 "metadata": {
  "language_info": {
   "name": "python"
  }
 },
 "nbformat": 4,
 "nbformat_minor": 2
}
