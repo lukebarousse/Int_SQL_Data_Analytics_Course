{
 "cells": [
  {
   "cell_type": "markdown",
   "metadata": {},
   "source": [
    "# Frame Clause"
   ]
  },
  {
   "cell_type": "markdown",
   "metadata": {},
   "source": [
    "## Overview"
   ]
  },
  {
   "cell_type": "markdown",
   "metadata": {},
   "source": [
    "### 🥅 Analysis Goals\n",
    "\n",
    "- What we’re going to use for this dataset to do X e.g. Use the following in order to explore a dataset on experience and salaries\n",
    "    - Major topic 1\n",
    "    - Major topic 2\n",
    "    - Major topic 3\n",
    "- The end goal of this is e.g. Identify which jobs meet our expectations of years experience and total salary."
   ]
  },
  {
   "cell_type": "markdown",
   "metadata": {},
   "source": [
    "### 📘 Concepts Covered\n",
    "\n",
    "General concepts we’re going to cover\n",
    "\n",
    "- `N PRECEDING` \n",
    "- `N FOLLOWING` \n",
    "- `UNBOUNDED PRECEDING` \n",
    "- `UNBOUNDED FOLLOWING` \n",
    "- `CURRENT ROW`"
   ]
  },
  {
   "cell_type": "markdown",
   "metadata": {},
   "source": [
    "## PRECEEDING / FOLLOWING"
   ]
  },
  {
   "cell_type": "markdown",
   "metadata": {},
   "source": [
    "### 📝 Notes\n",
    "\n",
    "- `N PRECEDING`: Refers to a range that includes the current row and the N rows before it.\n",
    "    - `SUM(column) OVER (ORDER BY order_expression ROWS 3 PRECEDING)`\n",
    "- `N FOLLOWING`: Refers to a range that includes the current row and the N rows after it.\n",
    "    - `SUM(column) OVER (ORDER BY order_expression ROWS 3 FOLLOWING)`\n",
    "\n",
    "```sql\n",
    "SELECT \n",
    "    column,\n",
    "    SUM(column) OVER (ORDER BY order_expression ROWS 3 PRECEDING) AS sum_3_preceding,\n",
    "    SUM(column) OVER (ORDER BY order_expression ROWS 3 FOLLOWING) AS sum_3_following\n",
    "FROM table_name\n",
    "```\n",
    "\n",
    "### 💻 Final Result\n",
    "\n",
    "- Describe what the final result should be e.g. return the retention by X cohort."
   ]
  },
  {
   "cell_type": "markdown",
   "metadata": {},
   "source": [
    "#### Problem Description\n",
    "\n",
    "**`FUNCTION` / Concept Covered**\n",
    "\n",
    "1. Go into specific step / what we’re going to do. E.g. Use the `=` operator to set a new column to be equal to Experience"
   ]
  },
  {
   "cell_type": "markdown",
   "metadata": {},
   "source": [
    "## UNBOUND"
   ]
  },
  {
   "cell_type": "markdown",
   "metadata": {},
   "source": [
    "### 📝 Notes\n",
    "\n",
    "- `UNBOUNDED PRECEDING`: Starts from the very first row of the partition up to the current row.\n",
    "    - `SUM(column) OVER (ORDER BY order_expression ROWS UNBOUNDED PRECEDING)`\n",
    "- `UNBOUNDED FOLLOWING`: Includes the current row and extends to the last row of the partition.\n",
    "    - `SUM(column) OVER (ORDER BY order_expression ROWS UNBOUNDED FOLLOWING)`\n",
    "\n",
    "```sql\n",
    "SELECT \n",
    "    column,\n",
    "    SUM(column) OVER (ORDER BY order_expression ROWS UNBOUNDED PRECEDING) AS sum_unbounded_preceding,\n",
    "    SUM(column) OVER (ORDER BY order_expression ROWS UNBOUNDED FOLLOWING) AS sum_unbounded_following\n",
    "FROM table_name\n",
    "```\n",
    "\n",
    "\n",
    "### 💻 Final Result\n",
    "\n",
    "- Describe what the final result should be e.g. return the retention by X cohort."
   ]
  },
  {
   "cell_type": "markdown",
   "metadata": {},
   "source": [
    "#### Problem Description\n",
    "\n",
    "**`FUNCTION` / Concept Covered**\n",
    "\n",
    "1. Go into specific step / what we’re going to do. E.g. Use the `=` operator to set a new column to be equal to Experience"
   ]
  },
  {
   "cell_type": "markdown",
   "metadata": {},
   "source": [
    "## CURRENT ROW"
   ]
  },
  {
   "cell_type": "markdown",
   "metadata": {},
   "source": [
    "### 📝 Notes\n",
    "\n",
    "- `CURRENT ROW`: Represents only the current row in the calculation.\n",
    "    - `SUM(column) OVER (ORDER BY order_expression ROWS CURRENT ROW)`\n",
    "\n",
    "\n",
    "```sql\n",
    "SELECT \n",
    "    column,\n",
    "    SUM(column) OVER (ORDER BY order_expression ROWS CURRENT ROW) AS sum_current_row,\n",
    "    SUM(column) OVER (ORDER BY order_expression ROWS 3 PRECEDING) AS sum_3_preceding,\n",
    "    SUM(column) OVER (ORDER BY order_expression ROWS UNBOUNDED PRECEDING) AS sum_unbounded_preceding\n",
    "FROM table_name\n",
    "\n",
    "```\n",
    "\n",
    "### 💻 Final Result\n",
    "\n",
    "- Describe what the final result should be e.g. return the retention by X cohort."
   ]
  },
  {
   "cell_type": "markdown",
   "metadata": {},
   "source": [
    "#### Problem Description\n",
    "\n",
    "**`FUNCTION` / Concept Covered**\n",
    "\n",
    "1. Go into specific step / what we’re going to do. E.g. Use the `=` operator to set a new column to be equal to Experience"
   ]
  },
  {
   "cell_type": "markdown",
   "metadata": {},
   "source": [
    "### 📊 Real life example\n",
    "\n",
    "Provide a real life example / story to how this concept or example is used."
   ]
  },
  {
   "cell_type": "markdown",
   "metadata": {},
   "source": [
    "### 💡 Note\n",
    "\n",
    "Any other note we have"
   ]
  }
 ],
 "metadata": {
  "kernelspec": {
   "display_name": "sql_course",
   "language": "python",
   "name": "python3"
  },
  "language_info": {
   "name": "python",
   "version": "3.11.10"
  }
 },
 "nbformat": 4,
 "nbformat_minor": 2
}
