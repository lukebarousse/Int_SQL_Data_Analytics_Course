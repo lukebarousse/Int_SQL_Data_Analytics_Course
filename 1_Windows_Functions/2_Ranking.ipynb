{
 "cells": [
  {
   "cell_type": "markdown",
   "metadata": {},
   "source": [
    "# Ranking Functions"
   ]
  },
  {
   "cell_type": "markdown",
   "metadata": {},
   "source": [
    "## Definition\n",
    "\n",
    "Gives a rank to each row.\n",
    "\n",
    "## Syntax\n",
    "\n",
    "- `ORDER BY`: Orders rows within each partition for the function.\n",
    "- `ROW_NUMBER()`: Assigns a unique number to each row within a partition.\n",
    "- `RANK()`: Provides a ranking with gaps for ties (e.g., 1, 2, 2, 4).\n",
    "- `DENSE_RANK()`: Similar to `RANK()` but without gaps (e.g., 1, 2, 2, 3)."
   ]
  }
 ],
 "metadata": {
  "language_info": {
   "name": "python"
  }
 },
 "nbformat": 4,
 "nbformat_minor": 2
}
