{
 "cells": [
  {
   "cell_type": "markdown",
   "metadata": {},
   "source": [
    "# Date Format"
   ]
  },
  {
   "cell_type": "markdown",
   "metadata": {},
   "source": [
    "## Overview"
   ]
  },
  {
   "cell_type": "markdown",
   "metadata": {},
   "source": [
    "### 🥅 Analysis Goals\n",
    "\n",
    "- What we’re going to use for this dataset to do X e.g. Use the following in order to explore a dataset on experience and salaries\n",
    "    - Major topic 1\n",
    "    - Major topic 2\n",
    "    - Major topic 3\n",
    "- The end goal of this is e.g. Identify which jobs meet our expectations of years experience and total salary."
   ]
  },
  {
   "cell_type": "markdown",
   "metadata": {},
   "source": [
    "### 📘 Concepts Covered\n",
    "\n",
    "General concepts we’re going to cover\n",
    "\n",
    "- Concept 1\n",
    "- Concept 2\n",
    "- Concept 3"
   ]
  },
  {
   "cell_type": "markdown",
   "metadata": {},
   "source": [
    "---\n",
    "## Major Topic"
   ]
  },
  {
   "cell_type": "markdown",
   "metadata": {},
   "source": [
    "### 📝 Notes\n",
    "\n",
    "- Add in specific notes\n",
    "\n",
    "### 💻 Final Result\n",
    "\n",
    "- Describe what the final result should be e.g. return the retention by X cohort."
   ]
  }
 ],
 "metadata": {
  "language_info": {
   "name": "python"
  }
 },
 "nbformat": 4,
 "nbformat_minor": 2
}
