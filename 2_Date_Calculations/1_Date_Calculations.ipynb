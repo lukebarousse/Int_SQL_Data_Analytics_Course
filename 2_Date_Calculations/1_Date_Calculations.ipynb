{
 "cells": [
  {
   "cell_type": "markdown",
   "metadata": {},
   "source": [
    "# Date Calculations"
   ]
  },
  {
   "cell_type": "markdown",
   "metadata": {},
   "source": [
    "## Overview"
   ]
  },
  {
   "cell_type": "markdown",
   "metadata": {},
   "source": [
    "### 🥅 Analysis Goals\n",
    "\n",
    "- What we’re going to use for this dataset to do X e.g. Use the following in order to explore a dataset on experience and salaries\n",
    "    - Major topic 1\n",
    "    - Major topic 2\n",
    "    - Major topic 3\n",
    "- The end goal of this is e.g. Identify which jobs meet our expectations of years experience and total salary."
   ]
  },
  {
   "cell_type": "markdown",
   "metadata": {},
   "source": [
    "### 📘 Concepts Covered\n",
    "\n",
    "General concepts we’re going to cover\n",
    "\n",
    "- Concept 1\n",
    "- Concept 2\n",
    "- Concept 3"
   ]
  },
  {
   "cell_type": "markdown",
   "metadata": {},
   "source": [
    "---\n",
    "## Major Topic"
   ]
  },
  {
   "cell_type": "markdown",
   "metadata": {},
   "source": [
    "### 📝 Notes\n",
    "\n",
    "- Add in specific notes\n",
    "\n",
    "### 💻 Final Result\n",
    "\n",
    "- Describe what the final result should be e.g. return the retention by X cohort."
   ]
  },
  {
   "cell_type": "markdown",
   "metadata": {},
   "source": [
    "#### Problem Description\n",
    "\n",
    "**`FUNCTION` / Concept Covered**\n",
    "\n",
    "1. Go into specific step / what we’re going to do. E.g. Use the `=` operator to set a new column to be equal to Experience"
   ]
  },
  {
   "cell_type": "markdown",
   "metadata": {},
   "source": [
    "### 📝 Notes\n",
    "\n",
    "- Add in specific notes\n",
    "\n",
    "### 💻 Final Result\n",
    "\n",
    "- Describe what the final result should be e.g. return the retention by X cohort."
   ]
  },
  {
   "cell_type": "markdown",
   "metadata": {},
   "source": [
    "Scenario 1: Calculate customer age in years using CURRENT_DATE, NOW(), and AGE()."
   ]
  },
  {
   "cell_type": "code",
   "execution_count": null,
   "metadata": {
    "vscode": {
     "languageId": "sql"
    }
   },
   "outputs": [],
   "source": [
    "%%sql\n",
    "\n",
    "SELECT\n",
    "    c.CustomerName,\n",
    "    AGE(CURRENT_DATE, c.DateOfBirth) AS customer_age\n",
    "FROM\n",
    "    Customers c\n",
    "WHERE\n",
    "    AGE(CURRENT_DATE, c.DateOfBirth) > INTERVAL '30 years';"
   ]
  },
  {
   "cell_type": "markdown",
   "metadata": {},
   "source": [
    "Scenario 2: Extract specific date parts with DATE_PART for detailed analysis."
   ]
  },
  {
   "cell_type": "code",
   "execution_count": null,
   "metadata": {
    "vscode": {
     "languageId": "sql"
    }
   },
   "outputs": [],
   "source": [
    "%%sql\n",
    "\n",
    "SELECT\n",
    "    DATE_PART('year', s.OrderDate) AS sales_year,\n",
    "    DATE_PART('month', s.OrderDate) AS sales_month,\n",
    "    DATE_PART('day', s.OrderDate) AS sales_day,\n",
    "    SUM(s.SalesAmount) AS total_sales\n",
    "FROM\n",
    "    Sales s\n",
    "GROUP BY\n",
    "    sales_year, sales_month, sales_day\n",
    "ORDER BY\n",
    "    sales_year, sales_month, sales_day;\n"
   ]
  },
  {
   "cell_type": "markdown",
   "metadata": {},
   "source": [
    "Scenario 3: Fill in missing monthly data using GENERATE_SERIES."
   ]
  },
  {
   "cell_type": "code",
   "execution_count": null,
   "metadata": {
    "vscode": {
     "languageId": "sql"
    }
   },
   "outputs": [],
   "source": [
    "%%sql\n",
    "\n",
    "WITH date_series AS (\n",
    "    SELECT\n",
    "        GENERATE_SERIES(\n",
    "            DATE_TRUNC('month', MIN(s.OrderDate)),\n",
    "            DATE_TRUNC('month', MAX(s.OrderDate)),\n",
    "            INTERVAL '1 month'\n",
    "        )::DATE AS month\n",
    "    FROM\n",
    "        Sales s\n",
    ")\n",
    "SELECT\n",
    "    ds.month,\n",
    "    COALESCE(SUM(s.SalesAmount), 0) AS total_sales\n",
    "FROM\n",
    "    date_series ds\n",
    "LEFT JOIN Sales s\n",
    "    ON DATE_TRUNC('month', s.OrderDate) = ds.month\n",
    "GROUP BY\n",
    "    ds.month\n",
    "ORDER BY\n",
    "    ds.month;"
   ]
  }
 ],
 "metadata": {
  "language_info": {
   "name": "python"
  }
 },
 "nbformat": 4,
 "nbformat_minor": 2
}
